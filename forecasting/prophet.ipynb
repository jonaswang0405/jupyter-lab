{
 "cells": [
  {
   "cell_type": "code",
   "execution_count": 1,
   "id": "e09f035e-2e29-4e9c-8cf1-32e8887c9673",
   "metadata": {},
   "outputs": [],
   "source": [
    "import pandas as pd"
   ]
  },
  {
   "cell_type": "code",
   "execution_count": 6,
   "id": "df97dfb8-55dc-405d-85f5-2fbacc7b7553",
   "metadata": {},
   "outputs": [
    {
     "name": "stdout",
     "output_type": "stream",
     "text": [
      "      holiday         ds  lower_window  upper_window\n",
      "0     playoff 2008-01-13             0             1\n",
      "1     playoff 2009-01-03             0             1\n",
      "2     playoff 2010-01-16             0             1\n",
      "3     playoff 2010-01-24             0             1\n",
      "4     playoff 2010-02-07             0             1\n",
      "5     playoff 2011-01-08             0             1\n",
      "6     playoff 2013-01-12             0             1\n",
      "7     playoff 2014-01-12             0             1\n",
      "8     playoff 2014-01-19             0             1\n",
      "9     playoff 2014-02-02             0             1\n",
      "10    playoff 2015-01-11             0             1\n",
      "11    playoff 2016-01-17             0             1\n",
      "12    playoff 2016-01-24             0             1\n",
      "13    playoff 2016-02-07             0             1\n",
      "0   superbowl 2010-02-07             0             1\n",
      "1   superbowl 2014-02-02             0             1\n",
      "2   superbowl 2016-02-07             0             1\n"
     ]
    }
   ],
   "source": [
    "playoffs = pd.DataFrame({\n",
    "  'holiday': 'playoff',\n",
    "  'ds': pd.to_datetime(['2008-01-13', '2009-01-03', '2010-01-16',\n",
    "                        '2010-01-24', '2010-02-07', '2011-01-08',\n",
    "                        '2013-01-12', '2014-01-12', '2014-01-19',\n",
    "                        '2014-02-02', '2015-01-11', '2016-01-17',\n",
    "                        '2016-01-24', '2016-02-07']),\n",
    "  'lower_window': 0,\n",
    "  'upper_window': 1,\n",
    "})\n",
    "superbowls = pd.DataFrame({\n",
    "  'holiday': 'superbowl',\n",
    "  'ds': pd.to_datetime(['2010-02-07', '2014-02-02', '2016-02-07']),\n",
    "  'lower_window': 0,\n",
    "  'upper_window': 1,\n",
    "})\n",
    "holidays = pd.concat((playoffs, superbowls))\n",
    "print(holidays)"
   ]
  },
  {
   "cell_type": "code",
   "execution_count": null,
   "id": "477ed000-ed79-4364-a5a5-b816d3008bc5",
   "metadata": {},
   "outputs": [],
   "source": []
  }
 ],
 "metadata": {
  "kernelspec": {
   "display_name": "Python 3 (ipykernel)",
   "language": "python",
   "name": "python3"
  },
  "language_info": {
   "codemirror_mode": {
    "name": "ipython",
    "version": 3
   },
   "file_extension": ".py",
   "mimetype": "text/x-python",
   "name": "python",
   "nbconvert_exporter": "python",
   "pygments_lexer": "ipython3",
   "version": "3.9.9"
  }
 },
 "nbformat": 4,
 "nbformat_minor": 5
}
