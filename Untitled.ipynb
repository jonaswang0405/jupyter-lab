{
 "cells": [
  {
   "cell_type": "code",
   "execution_count": 1,
   "id": "e49560fb-cd8c-42b4-bde4-0a530a4a7a11",
   "metadata": {},
   "outputs": [],
   "source": [
    "import numpy as np\n",
    "x=np.array( [1,2,3,5,6,7 ])\n",
    "y=np.array([3,4,6,7,8,11])"
   ]
  },
  {
   "cell_type": "code",
   "execution_count": 10,
   "id": "ec2d9be1-af0a-4228-9e10-6a5ff6a231c7",
   "metadata": {},
   "outputs": [
    {
     "data": {
      "text/plain": [
       "31.5"
      ]
     },
     "execution_count": 10,
     "metadata": {},
     "output_type": "execute_result"
    }
   ],
   "source": [
    "np.mean(x*y)-x.mean()*y.mean()"
   ]
  },
  {
   "cell_type": "code",
   "execution_count": 6,
   "id": "3a058ec9-4edb-4fd3-8abe-fc6d04410268",
   "metadata": {},
   "outputs": [
    {
     "data": {
      "text/plain": [
       "5.681353516353104"
      ]
     },
     "execution_count": 6,
     "metadata": {},
     "output_type": "execute_result"
    }
   ],
   "source": [
    "np.sqrt(np.mean(x*x)-x.mean()*x.mean())*np.sqrt(np.mean(y*y)-y.mean()*y.mean())"
   ]
  },
  {
   "cell_type": "code",
   "execution_count": 8,
   "id": "3546dc69-daa2-413a-9308-df0ce08a69c2",
   "metadata": {},
   "outputs": [
    {
     "data": {
      "text/plain": [
       "0.9680791706006149"
      ]
     },
     "execution_count": 8,
     "metadata": {},
     "output_type": "execute_result"
    }
   ],
   "source": [
    "(np.mean(x*y)-x.mean()*y.mean())/(np.sqrt(np.mean(x*x)-x.mean()*x.mean())*np.sqrt(np.mean(y*y)-y.mean()*y.mean()))"
   ]
  },
  {
   "cell_type": "code",
   "execution_count": 49,
   "id": "fe8ca2e7-29c3-495a-b44d-64bbc7f15352",
   "metadata": {},
   "outputs": [
    {
     "data": {
      "text/plain": [
       "5.5"
      ]
     },
     "execution_count": 49,
     "metadata": {},
     "output_type": "execute_result"
    }
   ],
   "source": [
    "(np.mean(x*y)-x.mean()*y.mean())"
   ]
  },
  {
   "cell_type": "code",
   "execution_count": 58,
   "id": "53aa56a6-34a1-4e13-b1d4-04784de5276a",
   "metadata": {},
   "outputs": [
    {
     "data": {
      "text/plain": [
       "array([10.5,  5. ,  0.5,  0.5,  3. , 13.5])"
      ]
     },
     "execution_count": 58,
     "metadata": {},
     "output_type": "execute_result"
    }
   ],
   "source": [
    "(x-x.mean())"
   ]
  },
  {
   "cell_type": "code",
   "execution_count": 59,
   "id": "1c87d63c-991d-4af7-8de1-6d7cd8baeaf4",
   "metadata": {},
   "outputs": [
    {
     "data": {
      "text/plain": [
       "array([-3.5, -2.5, -0.5,  0.5,  1.5,  4.5])"
      ]
     },
     "execution_count": 59,
     "metadata": {},
     "output_type": "execute_result"
    }
   ],
   "source": [
    "(y-y.mean())"
   ]
  },
  {
   "cell_type": "code",
   "execution_count": 46,
   "id": "bb0ae5a7-7905-4a8c-ae05-17596de98d87",
   "metadata": {},
   "outputs": [],
   "source": [
    "np.random.seed(0)\n",
    "data=np.random.rand(100,100)"
   ]
  },
  {
   "cell_type": "code",
   "execution_count": 47,
   "id": "d26ec0aa-ddb6-45bc-ae4e-56bafde14bc5",
   "metadata": {},
   "outputs": [
    {
     "data": {
      "text/plain": [
       "array([[ 1.00000000e+00, -6.61071110e-02, -3.65122885e-02, ...,\n",
       "         7.54769778e-04,  7.53676534e-02, -5.41691185e-02],\n",
       "       [-6.61071110e-02,  1.00000000e+00, -1.24047227e-01, ...,\n",
       "        -8.21577335e-02, -2.60359401e-02,  3.31013928e-02],\n",
       "       [-3.65122885e-02, -1.24047227e-01,  1.00000000e+00, ...,\n",
       "        -8.24039816e-03,  1.03758553e-01,  8.73130246e-02],\n",
       "       ...,\n",
       "       [ 7.54769778e-04, -8.21577335e-02, -8.24039816e-03, ...,\n",
       "         1.00000000e+00,  3.42131974e-02, -1.25776856e-01],\n",
       "       [ 7.53676534e-02, -2.60359401e-02,  1.03758553e-01, ...,\n",
       "         3.42131974e-02,  1.00000000e+00, -6.41717630e-02],\n",
       "       [-5.41691185e-02,  3.31013928e-02,  8.73130246e-02, ...,\n",
       "        -1.25776856e-01, -6.41717630e-02,  1.00000000e+00]])"
      ]
     },
     "execution_count": 47,
     "metadata": {},
     "output_type": "execute_result"
    }
   ],
   "source": [
    "np.corrcoef(data)"
   ]
  },
  {
   "cell_type": "code",
   "execution_count": 60,
   "id": "9ef10f12-10af-4d84-b178-c2686b063a36",
   "metadata": {},
   "outputs": [
    {
     "ename": "NameError",
     "evalue": "name 'numpy' is not defined",
     "output_type": "error",
     "traceback": [
      "\u001b[1;31m---------------------------------------------------------------------------\u001b[0m",
      "\u001b[1;31mNameError\u001b[0m                                 Traceback (most recent call last)",
      "Input \u001b[1;32mIn [60]\u001b[0m, in \u001b[0;36m<module>\u001b[1;34m\u001b[0m\n\u001b[1;32m----> 1\u001b[0m \u001b[43mnumpy\u001b[49m\u001b[38;5;241m.\u001b[39mcore\u001b[38;5;241m.\u001b[39mnumeric\u001b[38;5;241m.\u001b[39mdot\n",
      "\u001b[1;31mNameError\u001b[0m: name 'numpy' is not defined"
     ]
    }
   ],
   "source": [
    "np.core.numeric.dot"
   ]
  },
  {
   "cell_type": "code",
   "execution_count": null,
   "id": "043811f9-4deb-4e42-930a-cf680934e5a2",
   "metadata": {},
   "outputs": [],
   "source": []
  }
 ],
 "metadata": {
  "kernelspec": {
   "display_name": "Python 3 (ipykernel)",
   "language": "python",
   "name": "python3"
  },
  "language_info": {
   "codemirror_mode": {
    "name": "ipython",
    "version": 3
   },
   "file_extension": ".py",
   "mimetype": "text/x-python",
   "name": "python",
   "nbconvert_exporter": "python",
   "pygments_lexer": "ipython3",
   "version": "3.9.9"
  }
 },
 "nbformat": 4,
 "nbformat_minor": 5
}
