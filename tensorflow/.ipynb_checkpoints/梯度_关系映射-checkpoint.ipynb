{
 "cells": [
  {
   "cell_type": "code",
   "execution_count": 2,
   "id": "e2f77452-ff98-4398-80ea-5751d62a1f8e",
   "metadata": {},
   "outputs": [
    {
     "name": "stdout",
     "output_type": "stream",
     "text": [
      "INFO:tensorflow:Enabling eager execution\n",
      "INFO:tensorflow:Enabling v2 tensorshape\n",
      "INFO:tensorflow:Enabling resource variables\n",
      "INFO:tensorflow:Enabling tensor equality\n",
      "INFO:tensorflow:Enabling control flow v2\n"
     ]
    }
   ],
   "source": [
    "import os\n",
    "import tensorflow as tf\n",
    "import cProfile"
   ]
  },
  {
   "cell_type": "code",
   "execution_count": 3,
   "id": "f567585d-8442-4cfa-be6f-f7014cefc45a",
   "metadata": {},
   "outputs": [
    {
     "data": {
      "text/plain": [
       "True"
      ]
     },
     "execution_count": 3,
     "metadata": {},
     "output_type": "execute_result"
    }
   ],
   "source": [
    "tf.executing_eagerly()"
   ]
  },
  {
   "cell_type": "code",
   "execution_count": 73,
   "id": "1a9a50f9-3cdd-4d40-a286-8017486add24",
   "metadata": {},
   "outputs": [],
   "source": [
    "d=tf.constant([[[ 0 , 1 , 2 ,3,  4],\n",
    "            [ 5 , 6 , 7 , 8,  9]],\n",
    "           [[10 ,11 ,12 ,13 ,14],\n",
    "            [15 ,16 ,17 ,18 ,19]],\n",
    "           [[20 ,21 ,22 ,23 ,24],\n",
    "            [25 ,26 ,27 ,28 ,299999999]]])\n"
   ]
  },
  {
   "cell_type": "code",
   "execution_count": 64,
   "id": "7663b825-b097-458b-af57-b81ec146f722",
   "metadata": {},
   "outputs": [
    {
     "data": {
      "text/plain": [
       "<tf.Tensor: shape=(5, 6), dtype=int32, numpy=\n",
       "array([[ 0,  1,  2,  3,  4,  5],\n",
       "       [ 6,  7,  8,  9, 10, 11],\n",
       "       [12, 13, 14, 15, 16, 17],\n",
       "       [18, 19, 20, 21, 22, 23],\n",
       "       [24, 25, 26, 27, 28, 29]])>"
      ]
     },
     "execution_count": 64,
     "metadata": {},
     "output_type": "execute_result"
    }
   ],
   "source": [
    "tf.reshape(d,[5,6],'\\n')"
   ]
  },
  {
   "cell_type": "code",
   "execution_count": 74,
   "id": "d4f3291b-0f00-4139-8b11-a599b9ad9655",
   "metadata": {},
   "outputs": [
    {
     "data": {
      "text/plain": [
       "<tf.Tensor: shape=(3, 2, 5), dtype=uint8, numpy=\n",
       "array([[[  0,   1,   2,   3,   4],\n",
       "        [  5,   6,   7,   8,   9]],\n",
       "\n",
       "       [[ 10,  11,  12,  13,  14],\n",
       "        [ 15,  16,  17,  18,  19]],\n",
       "\n",
       "       [[ 20,  21,  22,  23,  24],\n",
       "        [ 25,  26,  27,  28, 255]]], dtype=uint8)>"
      ]
     },
     "execution_count": 74,
     "metadata": {},
     "output_type": "execute_result"
    }
   ],
   "source": [
    "tf.cast(d,dtype=tf.uint8)"
   ]
  },
  {
   "cell_type": "code",
   "execution_count": 80,
   "id": "b820afd8-7246-4e73-ab30-184c8af6a10c",
   "metadata": {},
   "outputs": [
    {
     "data": {
      "text/plain": [
       "<tf.Tensor: shape=(3, 3), dtype=int32, numpy=\n",
       "array([[1, 2, 3],\n",
       "       [1, 2, 3],\n",
       "       [1, 2, 3]])>"
      ]
     },
     "execution_count": 80,
     "metadata": {},
     "output_type": "execute_result"
    }
   ],
   "source": [
    "tf.broadcast_to(tf.constant([1, 2, 3]), [3, 3])"
   ]
  },
  {
   "cell_type": "code",
   "execution_count": 83,
   "id": "1b4e43b4-8024-482b-bc18-399f768fde72",
   "metadata": {},
   "outputs": [],
   "source": [
    "tf.debugging.set_log_device_placement(True)"
   ]
  },
  {
   "cell_type": "code",
   "execution_count": 172,
   "id": "bcdc36c1-1657-453f-948e-7daeae9e06d3",
   "metadata": {},
   "outputs": [],
   "source": [
    "w = tf.Variable([[2.0, 3.0], [3.0, 4.0]],name='w')\n",
    "b=tf.Variable([0.,0.],name='b')\n",
    "x=[[1.0,2.0]]\n",
    "with tf.GradientTape(persistent=True) as tape:\n",
    "    y = x @ w + b\n",
    "    loss = tf.reduce_mean(y**2)  #tf.reduce_mean计算x@w两个矩阵乘积平方的平均值，即loss=92.5"
   ]
  },
  {
   "cell_type": "code",
   "execution_count": 173,
   "id": "b416b62a-4f20-4708-9b7b-8c9676879144",
   "metadata": {},
   "outputs": [
    {
     "data": {
      "text/plain": [
       "{'w': <tf.Tensor: shape=(2, 2), dtype=float32, numpy=\n",
       " array([[ 8., 11.],\n",
       "        [16., 22.]], dtype=float32)>,\n",
       " 'b': <tf.Tensor: shape=(2,), dtype=float32, numpy=array([ 8., 11.], dtype=float32)>}"
      ]
     },
     "execution_count": 173,
     "metadata": {},
     "output_type": "execute_result"
    }
   ],
   "source": [
    "my_vars = {\n",
    "    'w': w,\n",
    "    'b': b\n",
    "}\n",
    "grad = tape.gradient(loss, my_vars) #计算矩阵w*x+b=loss值得对应关系系数，即梯度\n",
    "grad"
   ]
  },
  {
   "cell_type": "markdown",
   "id": "9161e8db-1caf-4785-8549-c229790fbdec",
   "metadata": {},
   "source": [
    " x @ w "
   ]
  },
  {
   "cell_type": "code",
   "execution_count": 3,
   "id": "37f1f32b-c145-443a-a08b-2862d82660a8",
   "metadata": {},
   "outputs": [],
   "source": [
    "import numpy as np \n",
    "d=np.arange(0,15)\n",
    "d=d.reshape(3,5)\n",
    "d=tf.convert_to_tensor(d)#把numpy转化为tf张量类型"
   ]
  },
  {
   "cell_type": "code",
   "execution_count": 4,
   "id": "9ee7e7fe-0a50-4c56-b200-c32e3e0ac04c",
   "metadata": {},
   "outputs": [
    {
     "data": {
      "text/plain": [
       "<tf.Tensor: shape=(3, 5), dtype=int32, numpy=\n",
       "array([[ 0,  1,  2,  3,  4],\n",
       "       [ 5,  6,  7,  8,  9],\n",
       "       [10, 11, 12, 13, 14]])>"
      ]
     },
     "execution_count": 4,
     "metadata": {},
     "output_type": "execute_result"
    }
   ],
   "source": [
    "d"
   ]
  },
  {
   "cell_type": "code",
   "execution_count": 10,
   "id": "6484caa2-80fe-43fc-a941-83cd58a8b227",
   "metadata": {},
   "outputs": [
    {
     "data": {
      "text/plain": [
       "<tf.Tensor: shape=(3, 3), dtype=int32, numpy=\n",
       "array([[ 2,  3,  4],\n",
       "       [ 7,  8,  9],\n",
       "       [12, 13, 14]])>"
      ]
     },
     "execution_count": 10,
     "metadata": {},
     "output_type": "execute_result"
    }
   ],
   "source": [
    "tf.slice(d,[0,2],[3,3]) #[2,2]代表扩展几行几列"
   ]
  },
  {
   "cell_type": "code",
   "execution_count": 235,
   "id": "e58c394e-2eae-403b-8894-0596736548e5",
   "metadata": {},
   "outputs": [
    {
     "data": {
      "text/plain": [
       "<tf.Tensor: shape=(3, 5), dtype=int32, numpy=\n",
       "array([[ 0,  1,  2,  3,  4],\n",
       "       [ 5,  6,  7,  8,  9],\n",
       "       [10, 11, 12, 13, 14]])>"
      ]
     },
     "execution_count": 235,
     "metadata": {},
     "output_type": "execute_result"
    }
   ],
   "source": [
    "d"
   ]
  },
  {
   "cell_type": "code",
   "execution_count": 16,
   "id": "7c913769-3018-4b31-90de-252c4b134dd8",
   "metadata": {},
   "outputs": [
    {
     "name": "stdout",
     "output_type": "stream",
     "text": [
      "Wall time: 1 ms\n"
     ]
    },
    {
     "data": {
      "text/plain": [
       "<tf.Tensor: shape=(3, 3), dtype=int32, numpy=\n",
       "array([[ 0,  1,  2],\n",
       "       [ 5,  8,  7],\n",
       "       [10, 11, 12]])>"
      ]
     },
     "execution_count": 16,
     "metadata": {},
     "output_type": "execute_result"
    }
   ],
   "source": [
    "%%time\n",
    "tf.gather(d, [[0,1,2], [0,3,2],[0,1,2]],axis=1, batch_dims=1)"
   ]
  },
  {
   "cell_type": "code",
   "execution_count": null,
   "id": "0dc069b4-0400-4e09-a87a-613b229981f5",
   "metadata": {},
   "outputs": [],
   "source": []
  }
 ],
 "metadata": {
  "kernelspec": {
   "display_name": "Python 3",
   "language": "python",
   "name": "python3"
  },
  "language_info": {
   "codemirror_mode": {
    "name": "ipython",
    "version": 3
   },
   "file_extension": ".py",
   "mimetype": "text/x-python",
   "name": "python",
   "nbconvert_exporter": "python",
   "pygments_lexer": "ipython3",
   "version": "3.9.5"
  }
 },
 "nbformat": 4,
 "nbformat_minor": 5
}
