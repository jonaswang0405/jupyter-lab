{
 "cells": [
  {
   "cell_type": "code",
   "execution_count": 1,
   "id": "35302c47-589d-4454-bd41-213ceff111ce",
   "metadata": {},
   "outputs": [],
   "source": [
    "from scipy import linalg\n",
    "import numpy as np\n",
    "import matplotlib.pyplot as plt\n",
    "import matplotlib as mpl\n",
    "from matplotlib import colors\n",
    "\n",
    "from sklearn.discriminant_analysis import LinearDiscriminantAnalysis\n",
    "from sklearn.discriminant_analysis import QuadraticDiscriminantAnalysis"
   ]
  },
  {
   "cell_type": "code",
   "execution_count": 54,
   "id": "5f01c8a5-1912-44c2-8f7c-d3e0dfcef1c7",
   "metadata": {},
   "outputs": [
    {
     "data": {
      "image/png": "[encoded data removed]",
      "text/html": [
       "<div style=\"vertical-align: middle;\"><strong>red_blue_classes</strong> </div><div class=\"cmap\"><img alt=\"red_blue_classes colormap\" title=\"red_blue_classes\" style=\"border: 1px solid #555;\" src=\"data:image/png;base64,iVBORw0KGgoAAAANSUhEUgAAAgAAAABACAYAAABsv8+/AAAAH3RFWHRUaXRsZQByZWRfYmx1ZV9jbGFzc2VzIGNvbG9ybWFwOisyYQAAACV0RVh0RGVzY3JpcHRpb24AcmVkX2JsdWVfY2xhc3NlcyBjb2xvcm1hcOfs8kEAAAAwdEVYdEF1dGhvcgBNYXRwbG90bGliIHYzLjQuMSwgaHR0cHM6Ly9tYXRwbG90bGliLm9yZ5k71Y4AAAAydEVYdFNvZnR3YXJlAE1hdHBsb3RsaWIgdjMuNC4xLCBodHRwczovL21hdHBsb3RsaWIub3Jnt51KqQAAAV9JREFUeJzt1rsOgkAQQNFZ+P9v1kIorDQYCnPPaYbXZikIuWtmHjMz27xU5zrmHr2/HQfrmPv2fv3baf1/rV/b+vDgeX+/9kI/T/vfuv/5wVz+M9497X/n/ucZABAiAAAgSAAAQJAAAIAgAQAAQQIAAIIEAAAECQAACBIAABAkAAAgSAAAQJAAAIAgAQAAQQIAAIIEAAAECQAACBIAABAkAAAgSAAAQJAAAIAgAQAAQQIAAIIEAAAECQAACBIAABAkAAAgSAAAQJAAAIAgAQAAQQIAAIIEAAAECQAACBIAABAkAAAgSAAAQJAAAIAgAQAAQQIAAIIEAAAECQAACBIAABAkAAAgSAAAQJAAAIAgAQAAQQIAAIIEAAAECQAACBIAABAkAAAgSAAAQJAAAIAgAQAAQQIAAIIEAAAECQAACBIAABAkAAAgSAAAQJAAAIAgAQAAQQIAAIIEAAAEPQGNCwR8sEoIoQAAAABJRU5ErkJggg==\"></div><div style=\"vertical-align: middle; max-width: 514px; display: flex; justify-content: space-between;\"><div style=\"float: left;\"><div title=\"#000000ff\" style=\"display: inline-block; width: 1em; height: 1em; margin: 0; vertical-align: middle; border: 1px solid #555; background-color: #000000ff;\"></div> under</div><div style=\"margin: 0 auto; display: inline-block;\">bad <div title=\"#00000000\" style=\"display: inline-block; width: 1em; height: 1em; margin: 0; vertical-align: middle; border: 1px solid #555; background-color: #00000000;\"></div></div><div style=\"float: right;\">over <div title=\"#ffffffff\" style=\"display: inline-block; width: 1em; height: 1em; margin: 0; vertical-align: middle; border: 1px solid #555; background-color: #ffffffff;\"></div></div>"
      ],
      "text/plain": [
       "<matplotlib.colors.LinearSegmentedColormap at 0x2ab96e2a310>"
      ]
     },
     "execution_count": 54,
     "metadata": {},
     "output_type": "execute_result"
    }
   ],
   "source": [
    "cmap = colors.LinearSegmentedColormap(\n",
    "    'red_blue_classes',\n",
    "     {'red':   [(0.0,  0.0, 0.0),\n",
    "                (0.5,  1.0, 1.0),\n",
    "                (1.0,  1.0, 1.0)],\n",
    "\n",
    "     'green': [(0.0,  0.0, 0.0),\n",
    "               (0.25, 0.0, 0.0),\n",
    "               (0.75, 1.0, 1.0),\n",
    "               (1.0,  1.0, 1.0)],\n",
    "\n",
    "     'blue':  [(0.0,  0.0, 0.0),\n",
    "               (0.5,  0.0, 0.0),\n",
    "               (1.0,  1.0, 1.0)]})\n",
    "cmap"
   ]
  },
  {
   "cell_type": "code",
   "execution_count": 30,
   "id": "6e8336dd-86b6-413f-98dd-b5880ea051ac",
   "metadata": {},
   "outputs": [],
   "source": [
    "plt.cm.register_cmap(cmap=cmap)"
   ]
  },
  {
   "cell_type": "code",
   "execution_count": null,
   "id": "8f1d5a82-5042-4bb4-9e4c-c72bdae01200",
   "metadata": {},
   "outputs": [],
   "source": [
    "# Generate datasets\n",
    "def dataset_fixed_cov():\n",
    "    '''Generate 2 Gaussians samples with the same covariance matrix'''\n",
    "    n, dim = 300, 2\n",
    "    np.random.seed(0)\n",
    "    C = np.array([[0., -0.23], [0.83, .23]])\n",
    "    X = np.r_[np.dot(np.random.randn(n, dim), C),\n",
    "              np.dot(np.random.randn(n, dim), C) + np.array([1, 1])]\n",
    "    y = np.hstack((np.zeros(n), np.ones(n)))\n",
    "    return X, y\n",
    "def dataset_cov():\n",
    "    '''Generate 2 Gaussians samples with different covariance matrices'''\n",
    "    n, dim = 300, 2\n",
    "    np.random.seed(0)\n",
    "    C = np.array([[0., -1.], [2.5, .7]]) * 2.\n",
    "    X = np.r_[np.dot(np.random.randn(n, dim), C),\n",
    "              np.dot(np.random.randn(n, dim), C.T) + np.array([1, 4])]\n",
    "    y = np.hstack((np.zeros(n), np.ones(n)))\n",
    "    return X, y"
   ]
  }
 ],
 "metadata": {
  "kernelspec": {
   "display_name": "Python 3",
   "language": "python",
   "name": "python3"
  },
  "language_info": {
   "codemirror_mode": {
    "name": "ipython",
    "version": 3
   },
   "file_extension": ".py",
   "mimetype": "text/x-python",
   "name": "python",
   "nbconvert_exporter": "python",
   "pygments_lexer": "ipython3",
   "version": "3.9.5"
  }
 },
 "nbformat": 4,
 "nbformat_minor": 5
}
