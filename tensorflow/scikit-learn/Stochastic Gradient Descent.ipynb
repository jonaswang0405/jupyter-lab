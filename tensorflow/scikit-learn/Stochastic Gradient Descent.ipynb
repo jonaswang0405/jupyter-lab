{
 "cells": [
  {
   "cell_type": "code",
   "execution_count": 66,
   "id": "14cad578-9aea-4484-9e3e-4df61bbf0ceb",
   "metadata": {},
   "outputs": [
    {
     "name": "stdout",
     "output_type": "stream",
     "text": [
      "预测： [1]\n",
      "系数： [[ 9.91080278 14.86620416 12.88404361]]\n",
      "截距： [-9.97004991]\n",
      "computed as the dot product between the coefficients and the input sample, plus the intercept: [78.23609479]\n",
      "输入样本到决策系数构成超平面的距离： [[78.23609479]]\n"
     ]
    },
    {
     "name": "stderr",
     "output_type": "stream",
     "text": [
      "c:\\python39\\lib\\site-packages\\sklearn\\linear_model\\_stochastic_gradient.py:574: ConvergenceWarning: Maximum number of iteration reached before convergence. Consider increasing max_iter to improve the fit.\n",
      "  warnings.warn(\"Maximum number of iteration reached before \"\n"
     ]
    }
   ],
   "source": [
    "from sklearn.linear_model import SGDClassifier\n",
    "X = [[0., 0.,0.5], [1., 1.5,2.3]]\n",
    "y = [0, 1]\n",
    "clf = SGDClassifier(loss=\"hinge\", penalty=\"l2\", max_iter=5)\n",
    "clf.fit(X, y)\n",
    "print('预测：',clf.predict([[2,2,3]])) #预测分类\n",
    "print('系数：',clf.coef_) #获取决策系数\n",
    "print('截距：',clf.intercept_)\n",
    "sample=np.array([[2,2,3]])\n",
    "print('computed as the dot product between the coefficients and the input sample, plus the intercept:',clf.decision_function(sample))\n",
    "print('输入样本到决策系数构成超平面的距离：',np.dot(clf.coef_,sample.T)+clf.intercept_)"
   ]
  },
  {
   "cell_type": "code",
   "execution_count": 67,
   "id": "4f2808df-fa5b-4ae8-bee7-3bbb7fd1f609",
   "metadata": {},
   "outputs": [
    {
     "name": "stdout",
     "output_type": "stream",
     "text": [
      "LinearRegression(positive=True)\n",
      "[[1. 2.]\n",
      " [2. 3.]]\n"
     ]
    },
    {
     "data": {
      "text/plain": [
       "array([[16., 24.]])"
      ]
     },
     "execution_count": 67,
     "metadata": {},
     "output_type": "execute_result"
    }
   ],
   "source": [
    "from sklearn.linear_model import LinearRegression\n",
    "import numpy as np\n",
    "x=np.array([[1,1],[1,2],[2,2],[2,3]])\n",
    "y=np.dot(x,np.array([[1,2],[2,3]]))+3\n",
    "reg=LinearRegression(positive=True).fit(x,y)\n",
    "print(reg)\n",
    "print(reg.coef_)\n",
    "reg.predict(np.array([[3,5]]))"
   ]
  },
  {
   "cell_type": "code",
   "execution_count": null,
   "id": "a882ba67-9478-4e7f-820d-6c8ef9ebe920",
   "metadata": {},
   "outputs": [],
   "source": []
  }
 ],
 "metadata": {
  "kernelspec": {
   "display_name": "Python 3",
   "language": "python",
   "name": "python3"
  },
  "language_info": {
   "codemirror_mode": {
    "name": "ipython",
    "version": 3
   },
   "file_extension": ".py",
   "mimetype": "text/x-python",
   "name": "python",
   "nbconvert_exporter": "python",
   "pygments_lexer": "ipython3",
   "version": "3.9.5"
  }
 },
 "nbformat": 4,
 "nbformat_minor": 5
}
