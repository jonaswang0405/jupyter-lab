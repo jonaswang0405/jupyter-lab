{
 "cells": [
  {
   "cell_type": "markdown",
   "id": "a2eb8bda-2345-4f87-8205-9aa7ea6cd020",
   "metadata": {},
   "source": [
    "数据标准化方案1、将数据转化为均值为0，标准差为1的集合"
   ]
  },
  {
   "cell_type": "code",
   "execution_count": 52,
   "id": "d847e434-75e0-43ba-8e28-a86a6f6f4e7d",
   "metadata": {},
   "outputs": [],
   "source": [
    "from sklearn import preprocessing\n",
    "import numpy as np\n",
    "x_train=np.array([[ 1., -1.,  2.],\n",
    "                  [ 2.,  0.,  0.],\n",
    "                  [ 0.,  1., -1.]])"
   ]
  },
  {
   "cell_type": "code",
   "execution_count": 5,
   "id": "5693c9e5-93a0-4e24-b4dc-00533d712a92",
   "metadata": {},
   "outputs": [],
   "source": [
    "scaler = preprocessing.StandardScaler().fit(x_train)"
   ]
  },
  {
   "cell_type": "code",
   "execution_count": 13,
   "id": "57bb7e01-f60c-42a1-98b9-49f37df75c88",
   "metadata": {},
   "outputs": [
    {
     "data": {
      "text/plain": [
       "array([0.81649658, 0.81649658, 1.24721913])"
      ]
     },
     "execution_count": 13,
     "metadata": {},
     "output_type": "execute_result"
    }
   ],
   "source": [
    "scaler.scale_ #标准差，scale缩放"
   ]
  },
  {
   "cell_type": "code",
   "execution_count": 53,
   "id": "b86dddb3-f90b-4f7b-a06f-cb6f68e85a20",
   "metadata": {},
   "outputs": [
    {
     "data": {
      "text/plain": [
       "array([[ 0.        , -1.22474487,  1.33630621],\n",
       "       [ 1.22474487,  0.        , -0.26726124],\n",
       "       [-1.22474487,  1.22474487, -1.06904497]])"
      ]
     },
     "execution_count": 53,
     "metadata": {},
     "output_type": "execute_result"
    }
   ],
   "source": [
    "x_scaled=scaler.transform(x_train)  #新的x_scaled的均值为0，标准差为1，可以x_scaled.mean(axis=0),x_scaled.std(axis=0)\n",
    "x_scaled"
   ]
  },
  {
   "cell_type": "markdown",
   "id": "3906e2f0-bd2c-40ef-98d0-e74a949863c2",
   "metadata": {},
   "source": [
    "数据标准化2、将数据转化为0-1"
   ]
  },
  {
   "cell_type": "code",
   "execution_count": 64,
   "id": "3a21a13d-6910-403b-93ab-7161d6440e76",
   "metadata": {},
   "outputs": [],
   "source": [
    "x_train=np.array([[ 1., -1.,  2.],\n",
    "                  [ 2.,  0.,  0.],\n",
    "                  [ 0.,  1., -1.]])"
   ]
  },
  {
   "cell_type": "code",
   "execution_count": 70,
   "id": "5a877047-61a5-4d75-8d55-88a573d9e392",
   "metadata": {},
   "outputs": [
    {
     "data": {
      "text/plain": [
       "array([[0.5       , 0.        , 1.        ],\n",
       "       [1.        , 0.5       , 0.33333333],\n",
       "       [0.        , 1.        , 0.        ]])"
      ]
     },
     "execution_count": 70,
     "metadata": {},
     "output_type": "execute_result"
    }
   ],
   "source": [
    "min_max_scaler = preprocessing.MinMaxScaler()\n",
    "X_train_minmax = min_max_scaler.fit_transform(x_train)\n",
    "X_train_minmax"
   ]
  },
  {
   "cell_type": "code",
   "execution_count": 73,
   "id": "80eeb167-2968-43ff-ab7e-f178ba033c81",
   "metadata": {},
   "outputs": [
    {
     "name": "stdout",
     "output_type": "stream",
     "text": [
      "[[-1.5 -2.   3. ]]\n",
      "[0.         0.5        0.33333333]\n"
     ]
    }
   ],
   "source": [
    "X_test=np.array([[-3., -5.,  8.]])\n",
    "x_test_minmax=min_max_scaler.transform(X_test)\n",
    "print(x_test_minmax)        #x_test_minmanx为测试集按训练集转换后的值\n",
    "print(min_max_scaler.min_)  #min为测试集与训练集放在一起后的最小值"
   ]
  },
  {
   "cell_type": "code",
   "execution_count": 77,
   "id": "a6a73357-5f9e-4168-bff4-842c80736981",
   "metadata": {},
   "outputs": [
    {
     "data": {
      "text/plain": [
       "-0.16666666666666666"
      ]
     },
     "execution_count": 77,
     "metadata": {},
     "output_type": "execute_result"
    }
   ],
   "source": []
  },
  {
   "cell_type": "code",
   "execution_count": 26,
   "id": "178b2dd4-d415-4a34-a698-d5b20868325e",
   "metadata": {},
   "outputs": [
    {
     "name": "stdout",
     "output_type": "stream",
     "text": [
      "[1 1 1 0 0 0]\n",
      "[[10.  2.]\n",
      " [ 1.  2.]]\n"
     ]
    }
   ],
   "source": [
    "from sklearn.cluster import KMeans\n",
    "import numpy as np\n",
    "\n",
    "X = np.array([[1, 2], [1, 4], [1, 0],\n",
    "              [10, 2], [10, 4], [10, 0]])\n",
    "#标签与center不一致，是random_state参数设置有关，设置为零导致提前终止计算\n",
    "kmeans=KMeans(n_clusters=2,random_state=0).fit(X )  \n",
    "print(kmeans.labels_)\n",
    "print(kmeans.cluster_centers_)"
   ]
  },
  {
   "cell_type": "code",
   "execution_count": 24,
   "id": "f5441c80-5f50-425b-9f9b-53ba3303fdc4",
   "metadata": {},
   "outputs": [
    {
     "data": {
      "text/plain": [
       "array([[10.,  2.],\n",
       "       [ 1.,  2.]])"
      ]
     },
     "execution_count": 24,
     "metadata": {},
     "output_type": "execute_result"
    }
   ],
   "source": []
  },
  {
   "cell_type": "code",
   "execution_count": 22,
   "id": "bd7d1689-a167-485c-ba72-6bb2cd893b8c",
   "metadata": {},
   "outputs": [
    {
     "data": {
      "text/plain": [
       "array([0, 0, 0, 1, 1, 1])"
      ]
     },
     "execution_count": 22,
     "metadata": {},
     "output_type": "execute_result"
    }
   ],
   "source": []
  },
  {
   "cell_type": "code",
   "execution_count": null,
   "id": "c8677ff5-fbf3-4a17-9fce-5eba3d331eaa",
   "metadata": {},
   "outputs": [],
   "source": []
  }
 ],
 "metadata": {
  "kernelspec": {
   "display_name": "Python 3",
   "language": "python",
   "name": "python3"
  },
  "language_info": {
   "codemirror_mode": {
    "name": "ipython",
    "version": 3
   },
   "file_extension": ".py",
   "mimetype": "text/x-python",
   "name": "python",
   "nbconvert_exporter": "python",
   "pygments_lexer": "ipython3",
   "version": "3.9.5"
  }
 },
 "nbformat": 4,
 "nbformat_minor": 5
}
