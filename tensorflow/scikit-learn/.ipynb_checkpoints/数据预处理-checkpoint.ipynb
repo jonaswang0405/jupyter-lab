{
 "cells": [
  {
   "cell_type": "code",
   "execution_count": 55,
   "id": "17c2373d-1f53-4db7-8b02-31b624408b09",
   "metadata": {},
   "outputs": [
    {
     "data": {
      "text/plain": [
       "array([1., 1., 1.])"
      ]
     },
     "execution_count": 55,
     "metadata": {},
     "output_type": "execute_result"
    }
   ],
   "source": [
    "from sklearn import preprocessing \n",
    "import numpy as np\n",
    "x_train=np.array([[ 1., -1.,  2.],[ 2.,  0.,  0.],[ 0.,  1., -1.]])\n",
    "scaler=preprocessing.StandardScaler().fit(x_train)  #StandardScaler将数据集每列转为均值为0，方差为1的集合\n",
    "x_scaled=scaler.transform(x_train)\n",
    "x_scaled.std(axis=0)"
   ]
  },
  {
   "cell_type": "code",
   "execution_count": 56,
   "id": "88cf779a-428b-4fb3-a1e1-6df7d5dabc8a",
   "metadata": {},
   "outputs": [
    {
     "data": {
      "text/plain": [
       "array([[ 1.00000000e+00, -1.00000000e+00,  2.00000000e+00],\n",
       "       [ 2.00000000e+00,  0.00000000e+00,  0.00000000e+00],\n",
       "       [ 1.11022302e-16,  1.00000000e+00, -1.00000000e+00]])"
      ]
     },
     "execution_count": 56,
     "metadata": {},
     "output_type": "execute_result"
    }
   ],
   "source": [
    "scaler.inverse_transform(x_scaled) #将数据还原回初始值\n"
   ]
  },
  {
   "cell_type": "code",
   "execution_count": 74,
   "id": "5a48d9eb-4e64-4ca1-a86a-ac88e28121be",
   "metadata": {},
   "outputs": [
    {
     "name": "stdout",
     "output_type": "stream",
     "text": [
      "[[3.         1.         5.        ]\n",
      " [5.         3.         2.33333333]\n",
      " [1.         5.         1.        ]]\n"
     ]
    }
   ],
   "source": [
    "min_max_scaler=preprocessing.MinMaxScaler(feature_range=(1,5)) #将数据缩放到指定范围，默认0-1\n",
    "scaler=min_max_scaler.fit_transform(x_train)\n",
    "print(scaler)"
   ]
  },
  {
   "cell_type": "code",
   "execution_count": 91,
   "id": "e1095b78-29e9-43a9-bc5c-80a84d495f5a",
   "metadata": {},
   "outputs": [
    {
     "name": "stdout",
     "output_type": "stream",
     "text": [
      "3\n"
     ]
    },
    {
     "data": {
      "text/plain": [
       "array([[0.5       , 0.        , 1.        ],\n",
       "       [1.        , 0.5       , 0.33333333],\n",
       "       [0.        , 1.        , 0.        ]])"
      ]
     },
     "execution_count": 91,
     "metadata": {},
     "output_type": "execute_result"
    }
   ],
   "source": [
    "from sklearn.preprocessing import MinMaxScaler\n",
    "scaler = MinMaxScaler()\n",
    "scaler.fit(x_train)\n",
    "print(scaler.n_samples_seen_ )\n",
    "scaler.transform(x_train)"
   ]
  },
  {
   "cell_type": "code",
   "execution_count": 92,
   "id": "22894d06-b096-4eea-8fe8-05a42b4b784e",
   "metadata": {},
   "outputs": [
    {
     "data": {
      "text/plain": [
       "array([[  0.5       ,   0.        ,   1.        ],\n",
       "       [  1.        ,   0.5       ,   0.33333333],\n",
       "       [  0.        ,   1.        , -33.        ]])"
      ]
     },
     "execution_count": 92,
     "metadata": {},
     "output_type": "execute_result"
    }
   ],
   "source": [
    "data=np.array([[ 1., -1.,  2.],[ 2.,  0.,  0.],[ 0.,  1., -100.]])\n",
    "scaler.transform(data)"
   ]
  },
  {
   "cell_type": "code",
   "execution_count": 93,
   "id": "dabc6ef8-bf52-471c-be18-929f0fa469e6",
   "metadata": {},
   "outputs": [
    {
     "name": "stdout",
     "output_type": "stream",
     "text": [
      "[[ 0.         -1.22474487  1.33630621]\n",
      " [ 1.22474487  0.         -0.26726124]\n",
      " [-1.22474487  1.22474487 -1.06904497]]\n"
     ]
    },
    {
     "data": {
      "text/plain": [
       "array([[  0.        ,  -1.22474487,   1.33630621],\n",
       "       [  1.22474487,   0.        ,  -0.26726124],\n",
       "       [ -1.22474487,   1.22474487, -80.44563382]])"
      ]
     },
     "execution_count": 93,
     "metadata": {},
     "output_type": "execute_result"
    }
   ],
   "source": [
    "scaler=preprocessing.StandardScaler().fit(x_train)  #StandardScaler将数据集每列转为均值为0，方差为1的集合\n",
    "print(scaler.transform(x_train))\n",
    "x_scaled=scaler.transform(data)\n",
    "x_scaled"
   ]
  },
  {
   "cell_type": "code",
   "execution_count": null,
   "id": "86c74c32-d308-45a1-ba04-c62b90e80406",
   "metadata": {},
   "outputs": [],
   "source": []
  }
 ],
 "metadata": {
  "kernelspec": {
   "display_name": "Python 3",
   "language": "python",
   "name": "python3"
  },
  "language_info": {
   "codemirror_mode": {
    "name": "ipython",
    "version": 3
   },
   "file_extension": ".py",
   "mimetype": "text/x-python",
   "name": "python",
   "nbconvert_exporter": "python",
   "pygments_lexer": "ipython3",
   "version": "3.9.5"
  }
 },
 "nbformat": 4,
 "nbformat_minor": 5
}
