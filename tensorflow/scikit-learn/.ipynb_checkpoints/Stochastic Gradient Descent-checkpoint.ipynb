{
 "cells": [
  {
   "cell_type": "code",
   "execution_count": 36,
   "id": "14cad578-9aea-4484-9e3e-4df61bbf0ceb",
   "metadata": {},
   "outputs": [
    {
     "name": "stdout",
     "output_type": "stream",
     "text": [
      "预测： [1]\n",
      "系数： [[ 9.91080278 14.86620416 12.88404361]]\n",
      "截距： [-9.97004991]\n",
      "computed as the dot product between the coefficients and the input sample, plus the intercept: [78.23609479]\n",
      " [[78.21611477]]\n"
     ]
    },
    {
     "name": "stderr",
     "output_type": "stream",
     "text": [
      "c:\\python39\\lib\\site-packages\\sklearn\\linear_model\\_stochastic_gradient.py:574: ConvergenceWarning: Maximum number of iteration reached before convergence. Consider increasing max_iter to improve the fit.\n",
      "  warnings.warn(\"Maximum number of iteration reached before \"\n"
     ]
    }
   ],
   "source": [
    "from sklearn.linear_model import SGDClassifier\n",
    "X = [[0., 0.,0.5], [1., 1.5,2.3]]\n",
    "y = [0, 1]\n",
    "clf = SGDClassifier(loss=\"hinge\", penalty=\"l2\", max_iter=5)\n",
    "clf.fit(X, y)\n",
    "print('预测：',clf.predict([[2,2,3]])) #预测分类\n",
    "print('系数：',clf.coef_) #获取决策系数\n",
    "print('截距：',clf.intercept_)\n",
    "print('computed as the dot product between the coefficients and the input sample, plus the intercept:',clf.decision_function([[2,2,3]]))\n",
    "print('获取输入样本到决策系数构成超平面的距离：',np.dot(clf.coef_,[[2],[2],[3]])-9.99002993)"
   ]
  },
  {
   "cell_type": "code",
   "execution_count": 32,
   "id": "a1eb200b-9847-4510-ac22-813392125e3a",
   "metadata": {},
   "outputs": [
    {
     "data": {
      "text/plain": [
       "array([78.21611477])"
      ]
     },
     "execution_count": 32,
     "metadata": {},
     "output_type": "execute_result"
    }
   ],
   "source": [
    "clf.decision_function([[2,2,3]])\n"
   ]
  },
  {
   "cell_type": "code",
   "execution_count": 35,
   "id": "b3a230cf-c327-4af4-bd66-6ae33d4e5412",
   "metadata": {},
   "outputs": [
    {
     "data": {
      "text/plain": [
       "array([[ 9.91080278, 14.86620416, 12.88404361]])"
      ]
     },
     "execution_count": 35,
     "metadata": {},
     "output_type": "execute_result"
    }
   ],
   "source": [
    "clf.coef_"
   ]
  },
  {
   "cell_type": "code",
   "execution_count": 16,
   "id": "43a4e114-b05a-4522-8f92-c9389780955b",
   "metadata": {},
   "outputs": [
    {
     "data": {
      "text/plain": [
       "array([39.56398394])"
      ]
     },
     "execution_count": 16,
     "metadata": {},
     "output_type": "execute_result"
    }
   ],
   "source": [
    "clf.decision_function([[2,3]])"
   ]
  },
  {
   "cell_type": "code",
   "execution_count": null,
   "id": "80945141-17a7-4224-8831-aa8df7151635",
   "metadata": {},
   "outputs": [],
   "source": []
  }
 ],
 "metadata": {
  "kernelspec": {
   "display_name": "Python 3",
   "language": "python",
   "name": "python3"
  },
  "language_info": {
   "codemirror_mode": {
    "name": "ipython",
    "version": 3
   },
   "file_extension": ".py",
   "mimetype": "text/x-python",
   "name": "python",
   "nbconvert_exporter": "python",
   "pygments_lexer": "ipython3",
   "version": "3.9.5"
  }
 },
 "nbformat": 4,
 "nbformat_minor": 5
}
