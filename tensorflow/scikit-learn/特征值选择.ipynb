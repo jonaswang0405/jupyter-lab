{
 "cells": [
  {
   "cell_type": "code",
   "execution_count": 2,
   "id": "dfcc7467-2700-4a2c-814d-7a55fcaf8704",
   "metadata": {},
   "outputs": [
    {
     "name": "stdout",
     "output_type": "stream",
     "text": [
      "[[0, 0, 1], [0, 1, 0], [1, 0, 0], [0, 1, 1], [0, 1, 0], [0, 1, 1]]\n"
     ]
    },
    {
     "data": {
      "text/plain": [
       "array([[0, 1],\n",
       "       [1, 0],\n",
       "       [0, 0],\n",
       "       [1, 1],\n",
       "       [1, 0],\n",
       "       [1, 1]])"
      ]
     },
     "execution_count": 2,
     "metadata": {},
     "output_type": "execute_result"
    }
   ],
   "source": [
    "from sklearn.feature_selection import VarianceThreshold\n",
    "X = [[0, 0, 1], [0, 1, 0], [1, 0, 0], [0, 1, 1], [0, 1, 0], [0, 1, 1]]\n",
    "print(X)\n",
    "sel = VarianceThreshold(threshold=(.8 * (1 - .8)))\n",
    "sel.fit_transform(X)"
   ]
  },
  {
   "cell_type": "code",
   "execution_count": 4,
   "id": "805f26b6-36e7-4359-98c8-f608f67f88d1",
   "metadata": {},
   "outputs": [
    {
     "data": {
      "text/plain": [
       "(150, 3)"
      ]
     },
     "execution_count": 4,
     "metadata": {},
     "output_type": "execute_result"
    }
   ],
   "source": [
    "from sklearn.datasets import load_iris\n",
    "from sklearn.feature_selection import SelectKBest\n",
    "from sklearn.feature_selection import chi2\n",
    "X, y = load_iris(return_X_y=True)\n",
    "X.shape\n",
    "\n",
    "X_new = SelectKBest(chi2, k=3).fit_transform(X, y)\n",
    "X_new.shape"
   ]
  },
  {
   "cell_type": "code",
   "execution_count": 15,
   "id": "34af0467-dbd4-4ce6-afb2-18de702f874a",
   "metadata": {},
   "outputs": [
    {
     "data": {
      "text/plain": [
       "Every 1 minute do a() (last run: [never], next run: 2021-08-18 14:38:44)"
      ]
     },
     "execution_count": 15,
     "metadata": {},
     "output_type": "execute_result"
    }
   ],
   "source": [
    "import schedule\n",
    "import time\n",
    "def a():\n",
    "    print(123)\n",
    "schedule.every(1).minutes.do(a)\n"
   ]
  },
  {
   "cell_type": "code",
   "execution_count": 16,
   "id": "7d357398-5bf8-4350-ba79-aea9c4ae72f8",
   "metadata": {},
   "outputs": [],
   "source": [
    "from win32com.client import constants\n"
   ]
  },
  {
   "cell_type": "code",
   "execution_count": 18,
   "id": "6ce3d378-a8a4-43ad-8a5d-f86df5db89ed",
   "metadata": {},
   "outputs": [
    {
     "data": {
      "text/plain": [
       "True"
      ]
     },
     "execution_count": 18,
     "metadata": {},
     "output_type": "execute_result"
    }
   ],
   "source": [
    "import win32com.client as win32com\n",
    "from win32com.client import constants\n",
    "\n",
    "xl = win32com.gencache.EnsureDispatch('Excel.Application')\n",
    "xl.Visible = True\n",
    "wb = xl.Workbooks.Add ()\n",
    "Sheet1 = wb.Sheets(\"Sheet1\")\n",
    "\n",
    "# Fill in some summy formulas\n",
    "for i in range(10):\n",
    "    Sheet1.Cells(i+1,1).Value = \"=10*\"+str(i+1)\n",
    "\n",
    "Sheet1.Range(\"A1:A16\").Copy()\n",
    "Sheet1.Range(\"C1\").PasteSpecial(Paste=constants.xlPasteValues)\n",
    "# OR this I just found right after I posted this works as well:\n",
    "#xl.Selection.PasteSpecial(Paste=constants.xlPasteValues)"
   ]
  },
  {
   "cell_type": "code",
   "execution_count": 20,
   "id": "7f7ec185-ef64-4283-b481-60fe6c7404da",
   "metadata": {},
   "outputs": [
    {
     "data": {
      "text/plain": [
       "True"
      ]
     },
     "execution_count": 20,
     "metadata": {},
     "output_type": "execute_result"
    }
   ],
   "source": [
    "Sheet1.Range(\"A1:A16\").Copy()\n",
    "Sheet1.Range(\"C1\").PasteSpecial(Paste=constants.xlPasteValues)"
   ]
  },
  {
   "cell_type": "code",
   "execution_count": null,
   "id": "807fa39a-1308-4ca9-a60d-969a21c5cd01",
   "metadata": {},
   "outputs": [],
   "source": []
  }
 ],
 "metadata": {
  "kernelspec": {
   "display_name": "Python 3",
   "language": "python",
   "name": "python3"
  },
  "language_info": {
   "codemirror_mode": {
    "name": "ipython",
    "version": 3
   },
   "file_extension": ".py",
   "mimetype": "text/x-python",
   "name": "python",
   "nbconvert_exporter": "python",
   "pygments_lexer": "ipython3",
   "version": "3.9.5"
  }
 },
 "nbformat": 4,
 "nbformat_minor": 5
}
