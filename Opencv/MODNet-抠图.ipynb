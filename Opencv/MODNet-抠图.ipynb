{
 "cells": [
  {
   "cell_type": "code",
   "execution_count": 1,
   "id": "0bd322d6-32e6-4b34-9a3a-68b9492624c3",
   "metadata": {},
   "outputs": [],
   "source": [
    "import os\n",
    "\n",
    "# # clone the repository\n",
    "# %cd /content\n",
    "# if not os.path.exists('MODNet'):\n",
    "#   !git clone https://github.com/ZHKKKe/MODNet\n",
    "# %cd MODNet/\n",
    "\n",
    "# # dowload the pre-trained ckpt for image matting\n",
    "# pretrained_ckpt = 'pretrained/modnet_photographic_portrait_matting.ckpt'\n",
    "# if not os.path.exists(pretrained_ckpt):\n",
    "#   !gdown --id 1mcr7ALciuAsHCpLnrtG_eop5-EYhbCmz \\\n",
    "#           -O pretrained/modnet_photographic_portrait_matting.ckpt\n"
   ]
  },
  {
   "cell_type": "markdown",
   "id": "d884ff01-6df4-45c4-b677-581a14a47d4c",
   "metadata": {},
   "source": [
    "### /content\n",
    "Cloning into 'MODNet'...\n",
    "remote: Enumerating objects: 249, done.\n",
    "remote: Counting objects: 100% (43/43), done.\n",
    "remote: Compressing objects: 100% (32/32), done.\n",
    "remote: Total 249 (delta 21), reused 24 (delta 9), pack-reused 206\n",
    "Receiving objects: 100% (249/249), 60.76 MiB | 24.15 MiB/s, done.\n",
    "Resolving deltas: 100% (82/82), done.\n",
    "/content/MODNet\n",
    "Downloading...\n",
    "From: https://drive.google.com/uc?id=1mcr7ALciuAsHCpLnrtG_eop5-EYhbCmz\n",
    "To: /content/MODNet/pretrained/modnet_photographic_portrait_matting.ckpt\n",
    "100% 26.3M/26.3M [00:00<00:00, 123MB/s] "
   ]
  },
  {
   "cell_type": "code",
   "execution_count": 2,
   "id": "1976b5f6-db14-4c71-9f55-a09e46422798",
   "metadata": {},
   "outputs": [
    {
     "ename": "ModuleNotFoundError",
     "evalue": "No module named 'google.colab'",
     "output_type": "error",
     "traceback": [
      "\u001b[1;31m---------------------------------------------------------------------------\u001b[0m",
      "\u001b[1;31mModuleNotFoundError\u001b[0m                       Traceback (most recent call last)",
      "\u001b[1;32m~\\AppData\\Local\\Temp/ipykernel_11256/1382864158.py\u001b[0m in \u001b[0;36m<module>\u001b[1;34m\u001b[0m\n\u001b[0;32m      1\u001b[0m \u001b[1;32mimport\u001b[0m \u001b[0mshutil\u001b[0m\u001b[1;33m\u001b[0m\u001b[1;33m\u001b[0m\u001b[0m\n\u001b[1;32m----> 2\u001b[1;33m \u001b[1;32mfrom\u001b[0m \u001b[0mgoogle\u001b[0m\u001b[1;33m.\u001b[0m\u001b[0mcolab\u001b[0m \u001b[1;32mimport\u001b[0m \u001b[0mfiles\u001b[0m\u001b[1;33m\u001b[0m\u001b[1;33m\u001b[0m\u001b[0m\n\u001b[0m\u001b[0;32m      3\u001b[0m \u001b[1;33m\u001b[0m\u001b[0m\n\u001b[0;32m      4\u001b[0m \u001b[1;31m# clean and rebuild the image folders\u001b[0m\u001b[1;33m\u001b[0m\u001b[1;33m\u001b[0m\u001b[0m\n\u001b[0;32m      5\u001b[0m \u001b[0minput_folder\u001b[0m \u001b[1;33m=\u001b[0m \u001b[1;34m'demo/image_matting/colab/input'\u001b[0m\u001b[1;33m\u001b[0m\u001b[1;33m\u001b[0m\u001b[0m\n",
      "\u001b[1;31mModuleNotFoundError\u001b[0m: No module named 'google.colab'"
     ]
    }
   ],
   "source": [
    "import shutil\n",
    "from google.colab import files\n",
    "\n",
    "# clean and rebuild the image folders\n",
    "input_folder = 'demo/image_matting/colab/input'\n",
    "if os.path.exists(input_folder):\n",
    "  shutil.rmtree(input_folder)\n",
    "os.makedirs(input_folder)\n",
    "\n",
    "output_folder = 'demo/image_matting/colab/output'\n",
    "if os.path.exists(output_folder):\n",
    "  shutil.rmtree(output_folder)\n",
    "os.makedirs(output_folder)\n",
    "\n",
    "# upload images (PNG or JPG)\n",
    "image_names = list(files.upload().keys())\n",
    "for image_name in image_names:\n",
    "  shutil.move(image_name, os.path.join(input_folder, image_name))"
   ]
  },
  {
   "cell_type": "code",
   "execution_count": null,
   "id": "ccefcb64-3dea-4224-8637-762cfea6f3ef",
   "metadata": {},
   "outputs": [],
   "source": [
    "!python -m demo.image_matting.colab.inference \\\n",
    "        --input-path demo/image_matting/colab/input \\\n",
    "        --output-path demo/image_matting/colab/output \\\n",
    "        --ckpt-path ./pretrained/modnet_photographic_portrait_matting.ckpt"
   ]
  },
  {
   "cell_type": "code",
   "execution_count": null,
   "id": "baa85cad-420e-4d09-a969-42b16f252a35",
   "metadata": {},
   "outputs": [],
   "source": []
  }
 ],
 "metadata": {
  "kernelspec": {
   "display_name": "Python 3 (ipykernel)",
   "language": "python",
   "name": "python3"
  },
  "language_info": {
   "codemirror_mode": {
    "name": "ipython",
    "version": 3
   },
   "file_extension": ".py",
   "mimetype": "text/x-python",
   "name": "python",
   "nbconvert_exporter": "python",
   "pygments_lexer": "ipython3",
   "version": "3.9.7"
  },
  "toc-showcode": true
 },
 "nbformat": 4,
 "nbformat_minor": 5
}
