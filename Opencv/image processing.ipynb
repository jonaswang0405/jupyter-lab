{
 "cells": [
  {
   "cell_type": "markdown",
   "id": "8355b4b7-9067-4dc5-a333-f7474f25942d",
   "metadata": {},
   "source": [
    "# 卷积计算"
   ]
  },
  {
   "cell_type": "code",
   "execution_count": 84,
   "id": "0eb4e310-072d-4b82-8d32-b78398b875b7",
   "metadata": {},
   "outputs": [
    {
     "name": "stdout",
     "output_type": "stream",
     "text": [
      "[[2 4 5 3]\n",
      " [1 1 7 1]\n",
      " [2 4 7 2]]\n",
      "[[0.11111111 0.11111111 0.11111111]\n",
      " [0.11111111 0.11111111 0.11111111]\n",
      " [0.11111111 0.11111111 0.11111111]]\n"
     ]
    }
   ],
   "source": [
    "import numpy as np\n",
    "import cv2 as cv\n",
    "a=np.array([[2,4,5,3],[1,1,7,1],[2,4,7,2]],np.uint8)\n",
    "kernel=np.ones((3,3))/9\n",
    "print(a)\n",
    "print(kernel)"
   ]
  },
  {
   "cell_type": "code",
   "execution_count": 85,
   "id": "20c5bc56-4bac-4235-95db-09568182b8fe",
   "metadata": {},
   "outputs": [
    {
     "data": {
      "text/plain": [
       "array([[2, 3, 3, 5],\n",
       "       [3, 4, 4, 5],\n",
       "       [2, 3, 3, 5]], dtype=uint8)"
      ]
     },
     "execution_count": 85,
     "metadata": {},
     "output_type": "execute_result"
    }
   ],
   "source": [
    "cv.filter2D(a,-1,kernel)#边界用与边界相邻的第二列、行进行补充,然后从左上角第一个像素遍历计算"
   ]
  },
  {
   "cell_type": "code",
   "execution_count": 92,
   "id": "63d29e80-ba29-40d6-a185-3af93df597be",
   "metadata": {},
   "outputs": [],
   "source": [
    "b=np.array([[1,1,1],[4,2,4],[1,1,1]],np.uint8)"
   ]
  },
  {
   "cell_type": "code",
   "execution_count": 93,
   "id": "5e000a45-834e-4ca4-87ca-6c47498b8ce6",
   "metadata": {},
   "outputs": [
    {
     "data": {
      "text/plain": [
       "array([[2, 3, 2],\n",
       "       [2, 2, 2],\n",
       "       [2, 3, 2]], dtype=uint8)"
      ]
     },
     "execution_count": 93,
     "metadata": {},
     "output_type": "execute_result"
    }
   ],
   "source": [
    "cv.filter2D(b,cv.,kernel)"
   ]
  },
  {
   "cell_type": "code",
   "execution_count": 94,
   "id": "56b82729-3b9c-425f-bab6-269e64319da8",
   "metadata": {},
   "outputs": [
    {
     "data": {
      "text/plain": [
       "1.77776"
      ]
     },
     "execution_count": 94,
     "metadata": {},
     "output_type": "execute_result"
    }
   ],
   "source": [
    "np.sum(b)*0.11111"
   ]
  },
  {
   "cell_type": "code",
   "execution_count": 98,
   "id": "286ba91a-1da4-4f99-a752-8a6563d07321",
   "metadata": {},
   "outputs": [
    {
     "name": "stdout",
     "output_type": "stream",
     "text": [
      "[1 6 3]\n",
      "[[4]\n",
      " [4]]\n"
     ]
    }
   ],
   "source": [
    "a=np.array([1,6,3],np.uint8)\n",
    "b=cv.pyrDown(a,b)   #pyrdwon 先进行高斯平滑，然后隔1采1\n",
    "print(a)\n",
    "print(b)"
   ]
  },
  {
   "cell_type": "code",
   "execution_count": 7,
   "id": "366c65ba-3492-4c1e-94d2-159d3ef7681b",
   "metadata": {},
   "outputs": [
    {
     "ename": "ModuleNotFoundError",
     "evalue": "No module named 'google'",
     "output_type": "error",
     "traceback": [
      "\u001b[1;31m---------------------------------------------------------------------------\u001b[0m",
      "\u001b[1;31mModuleNotFoundError\u001b[0m                       Traceback (most recent call last)",
      "\u001b[1;32m~\\AppData\\Local\\Temp/ipykernel_14576/2658820218.py\u001b[0m in \u001b[0;36m<module>\u001b[1;34m\u001b[0m\n\u001b[1;32m----> 1\u001b[1;33m \u001b[1;32mfrom\u001b[0m \u001b[0mgoogle\u001b[0m\u001b[1;33m.\u001b[0m\u001b[0mcolab\u001b[0m \u001b[1;32mimport\u001b[0m \u001b[0mfiles\u001b[0m\u001b[1;33m\u001b[0m\u001b[1;33m\u001b[0m\u001b[0m\n\u001b[0m",
      "\u001b[1;31mModuleNotFoundError\u001b[0m: No module named 'google'"
     ]
    }
   ],
   "source": [
    "from google.colab import files"
   ]
  },
  {
   "cell_type": "code",
   "execution_count": null,
   "id": "5835d334-301c-4e47-a0e4-7828a5e7646a",
   "metadata": {},
   "outputs": [],
   "source": []
  }
 ],
 "metadata": {
  "kernelspec": {
   "display_name": "Python 3 (ipykernel)",
   "language": "python",
   "name": "python3"
  },
  "language_info": {
   "codemirror_mode": {
    "name": "ipython",
    "version": 3
   },
   "file_extension": ".py",
   "mimetype": "text/x-python",
   "name": "python",
   "nbconvert_exporter": "python",
   "pygments_lexer": "ipython3",
   "version": "3.9.7"
  }
 },
 "nbformat": 4,
 "nbformat_minor": 5
}
