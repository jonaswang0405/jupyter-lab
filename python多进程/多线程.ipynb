{
 "cells": [
  {
   "cell_type": "markdown",
   "id": "59617c2e-5061-4fb6-805b-c740e03a6e4a",
   "metadata": {
    "tags": []
   },
   "source": [
    "线程start之后，代表线程启动执行，for循环启动线程，start不受前一个执行结果的影响，即第一个线程没执行完，第二个线程也可以启动。\n",
    "join代表阻塞。即当前join的线程执行完毕之后，主线程才可以继续执行。否则主线程不用等子线程执行完毕，就执行后面的语句。\n",
    "注：由于python解释器默认使用锁限制，即一次只能一个线程在运行，如果一个线程没有阻塞或终止，其他线程则无法执行。"
   ]
  },
  {
   "cell_type": "code",
   "execution_count": 21,
   "id": "c9f2819f-af37-48c9-88a5-4b358cca70e2",
   "metadata": {},
   "outputs": [
    {
     "name": "stdout",
     "output_type": "stream",
     "text": [
      "1\n",
      "1\n",
      "1\n",
      "1\n",
      "1\n",
      "1\n",
      "1\n",
      "1\n",
      "1\n",
      "2\n",
      "2\n",
      "2\n",
      "2\n",
      "2\n",
      "2\n",
      "2\n",
      "2\n",
      "2\n",
      "3\n",
      "Wall time: 10.1 s\n"
     ]
    }
   ],
   "source": [
    "%%time\n",
    "import time\n",
    "import threading\n",
    "a=time.time()\n",
    "r=[]\n",
    "v=[]\n",
    "def test_thread(para='hi',sleep=1):\n",
    "    for i in range(10):\n",
    "        time.sleep(sleep)\n",
    "        r.append(para)\n",
    "        v.append(i)\n",
    "        \n",
    "thread_list=[]\n",
    "for j in range(3):\n",
    "    for i in range(3):\n",
    "        t = threading.Thread(target=test_thread,args=('hello',))\n",
    "        thread_list.append(t)\n",
    "\n",
    "\n",
    "for t in thread_list:\n",
    "    t.start()\n",
    "    print(1)\n",
    "for t in (thread_list):\n",
    "    t.join()\n",
    "    print(2)\n",
    "print(3)"
   ]
  },
  {
   "cell_type": "code",
   "execution_count": 42,
   "id": "1e3020c8-15f7-4318-8b05-15043a95c7fd",
   "metadata": {},
   "outputs": [
    {
     "name": "stdout",
     "output_type": "stream",
     "text": [
      "2\n",
      "[]\n",
      "2\n",
      "[]\n",
      "2\n",
      "[]\n",
      "[]\n",
      "['hello', 'hello', 'hello', 'hello', 'hello', 'hello', 'hello', 'hello', 'hello']\n",
      "Wall time: 1.02 s\n"
     ]
    }
   ],
   "source": [
    "%%time\n",
    "import time\n",
    "import threading\n",
    "a=time.time()\n",
    "r=[]\n",
    "v=[]\n",
    "def test_thread(para='hi',sleep=1):    \n",
    "    time.sleep(sleep)\n",
    "    r.append(para)\n",
    "    v.append(i)\n",
    "        \n",
    "thread_total=[]\n",
    "for j in range(3):\n",
    "    thread_list=[]\n",
    "    for i in range(3):\n",
    "        t = threading.Thread(target=test_thread,args=('hello',))\n",
    "        thread_list.append(t)\n",
    "    # t = threading.Thread(target=test_thread,args=('hello',3))\n",
    "    # thread_list.append(t)\n",
    "    for t in thread_list:\n",
    "        t.start()\n",
    "    thread_total.extend(thread_list)\n",
    "    print(2)\n",
    "    print(r)\n",
    "print(r)\n",
    "#不对子循环设置join，而是把任务全部部署起来，再对所有任务添加join，判断所有线程任务结束后，再print结果\n",
    "for t in (thread_total):\n",
    "    t.join()\n",
    "print(r)"
   ]
  },
  {
   "cell_type": "code",
   "execution_count": 41,
   "id": "38f94383-22ec-41c3-aeee-97dca1024b9a",
   "metadata": {},
   "outputs": [
    {
     "data": {
      "text/plain": [
       "9"
      ]
     },
     "execution_count": 41,
     "metadata": {},
     "output_type": "execute_result"
    }
   ],
   "source": [
    "len(v)"
   ]
  },
  {
   "cell_type": "code",
   "execution_count": 113,
   "id": "a8ea8232-6ed0-483f-a106-00d6dc778669",
   "metadata": {},
   "outputs": [
    {
     "name": "stdout",
     "output_type": "stream",
     "text": [
      "这是主线程： MainThread\n",
      "主线程已经结束 MainThread\n",
      "共用时： 0.0040051937103271484\n",
      "当前线程名称：当前线程名称： Thread-306\n",
      "当前线程名称： 当前线程名称： Thread-310\n",
      "Thread-308\n",
      "当前线程名称：  Thread-309\n",
      "Thread-307\n"
     ]
    }
   ],
   "source": [
    "def run():\n",
    "    time.sleep(2)\n",
    "    print(\"当前线程名称：\",threading.current_thread().name)\n",
    "a=time.time()\n",
    "print('这是主线程：',threading.current_thread().name)\n",
    "thread_list=[]\n",
    "for i in range(5):\n",
    "    t=threading.Thread(target=run)\n",
    "    thread_list.append(t)\n",
    "for t in thread_list:\n",
    "    t.start()\n",
    "print('主线程已经结束',threading.current_thread().name)\n",
    "print('共用时：',time.time()-a)"
   ]
  },
  {
   "cell_type": "code",
   "execution_count": 77,
   "id": "1e80f267-bce0-4212-be19-00e2796c07ca",
   "metadata": {},
   "outputs": [
    {
     "name": "stdout",
     "output_type": "stream",
     "text": [
      "这是主线程： MainThread\n",
      "当前线程的名字是： 当前线程的名字是：  Thread-256\n",
      "当前线程的名字是：  Thread-254\n",
      "当前线程的名字是：  Thread-255\n",
      " Thread-253\n",
      "当前线程的名字是：  Thread-257\n",
      "主线程结束了！ MainThread\n",
      "一共用时： 4.033334970474243\n"
     ]
    }
   ],
   "source": [
    "import threading\n",
    "import time\n",
    "\n",
    "def ab():\n",
    "\n",
    "    time.sleep(2)\n",
    "    print('当前线程的名字是： ', threading.current_thread().name)\n",
    "    time.sleep(2)\n",
    "\n",
    "\n",
    "start_time = time.time()\n",
    "\n",
    "print('这是主线程：', threading.current_thread().name)\n",
    "thread_list = []\n",
    "for i in range(5):\n",
    "    t = threading.Thread(target=ab)\n",
    "    thread_list.append(t)\n",
    "\n",
    "for t in thread_list:\n",
    "    t.setDaemon(True)\n",
    "    t.start()\n",
    "\n",
    "for t in thread_list:\n",
    "    t.join()\n",
    "\n",
    "\n",
    "print('主线程结束了！' , threading.current_thread().name)\n",
    "print('一共用时：', time.time()-start_time)"
   ]
  },
  {
   "cell_type": "code",
   "execution_count": 60,
   "id": "56200b33-79ab-48ed-acd6-b3ad7626c3fc",
   "metadata": {},
   "outputs": [
    {
     "data": {
      "text/plain": [
       "[<_MainThread(MainThread, started 1120)>,\n",
       " <Thread(Tornado selector, started daemon 2356)>,\n",
       " <Thread(Thread-4, started daemon 12160)>,\n",
       " <Heartbeat(Thread-5, started daemon 5596)>,\n",
       " <Thread(Tornado selector, started daemon 11564)>,\n",
       " <HistorySavingThread(IPythonHistorySavingThread, started 10728)>,\n",
       " <ParentPollerWindows(Thread-3, started daemon 15132)>]"
      ]
     },
     "execution_count": 60,
     "metadata": {},
     "output_type": "execute_result"
    }
   ],
   "source": [
    "threading.enumerate()\n"
   ]
  },
  {
   "cell_type": "code",
   "execution_count": 99,
   "id": "596d63d2-eaf4-485b-aa5a-31053ece0cf8",
   "metadata": {},
   "outputs": [],
   "source": [
    "a=[1,2,3,4,5,6,7]\n",
    "import itertools\n",
    "b=list(itertools.combinations(a,2))"
   ]
  },
  {
   "cell_type": "code",
   "execution_count": 103,
   "id": "27a1999c-2b3d-47e2-892b-27a21ce2547d",
   "metadata": {},
   "outputs": [
    {
     "name": "stdout",
     "output_type": "stream",
     "text": [
      "0\n",
      "3\n",
      "6\n",
      "9\n",
      "12\n",
      "15\n",
      "18\n"
     ]
    }
   ],
   "source": [
    "for i in range(0,len(b),3):\n",
    "    print(i)"
   ]
  },
  {
   "cell_type": "code",
   "execution_count": 6,
   "id": "95bc9c4d-5842-435d-864c-e351ef58e246",
   "metadata": {},
   "outputs": [],
   "source": [
    "import numpy as np\n",
    "import pandas as pd"
   ]
  },
  {
   "cell_type": "code",
   "execution_count": 9,
   "id": "2e26ab95-247c-4376-925b-7526c8dcc79c",
   "metadata": {},
   "outputs": [
    {
     "name": "stdout",
     "output_type": "stream",
     "text": [
      "Wall time: 128 ms\n"
     ]
    }
   ],
   "source": [
    "%%time\n",
    "data=pd.DataFrame({'A':np.random.rand(50000),'B':np.random.rand(50000),'C':np.random.rand(50000)})\n",
    "d=[]\n",
    "data['D']=[np.sort(x)[-3] for x in data.values]"
   ]
  },
  {
   "cell_type": "code",
   "execution_count": null,
   "id": "ff8ad145-0492-43df-a8fa-9ef818b71878",
   "metadata": {},
   "outputs": [],
   "source": []
  }
 ],
 "metadata": {
  "kernelspec": {
   "display_name": "Python 3 (ipykernel)",
   "language": "python",
   "name": "python3"
  },
  "language_info": {
   "codemirror_mode": {
    "name": "ipython",
    "version": 3
   },
   "file_extension": ".py",
   "mimetype": "text/x-python",
   "name": "python",
   "nbconvert_exporter": "python",
   "pygments_lexer": "ipython3",
   "version": "3.9.7"
  }
 },
 "nbformat": 4,
 "nbformat_minor": 5
}
