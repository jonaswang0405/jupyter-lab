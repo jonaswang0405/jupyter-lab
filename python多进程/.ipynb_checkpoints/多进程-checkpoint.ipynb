{
 "cells": [
  {
   "cell_type": "markdown",
   "id": "e2cdf29e-e4c8-489d-914f-e76e5ac5cbfe",
   "metadata": {
    "tags": []
   },
   "source": [
    "1、win10系统多进程要函数不起作用，需要在命令行执行，放可以启动多进程，或者在用import形式导入（未验证）\n",
    "\n",
    "2、如果是进程池，可直接在python自带编辑器中使用多进程，jupyter编辑器不起作用。\n",
    "\n",
    "3、进程之间切换需要消耗性能，如果函数使用的内存较多，则不适合掉多进程，因为每个进程都需要占用一个函数的数据，内存过大，会导致性能降低。\n",
    "\n",
    "4、如果函数执行速度非常快(小于50ms)，亦不适合调用多进程，因为进程切换会影响性能。\n",
    "\n",
    "5、当进程池与循环组合使用时，不易进行过多的循环，如果有较多循环时，应把循环元素拆成几组列表，然后循环调用进程。这样可以减少多个进程之间不停切换而造成的资源浪费。\n",
    "\n",
    "6、在进行性能调优时，如果用iloc[3,2]从dataframe数据结构提取元素时，其性能比从列表中提取要慢上数倍。正确做法将dataframe转换为列表，然后从列表中提取数据data[3][2]。"
   ]
  },
  {
   "cell_type": "code",
   "execution_count": 1,
   "id": "3af7953b-a6ab-4734-87f3-a71298a22d8a",
   "metadata": {},
   "outputs": [],
   "source": [
    "from threading import Thread\n",
    "from multiprocessing import Pool\n",
    "import numpy as np\n",
    "import pandas as pd\n",
    "import time\n",
    "\n",
    "def countdown(n):\n",
    "    r=[]\n",
    "    for i in range(5000):\n",
    "    r.append(np.sqrt(np.max(n)))\n",
    "    return r\n",
    "\n",
    "a=np.random.rand(3000)\n",
    "a=a.reshape(500,6)\n",
    "\n",
    "\n",
    "if __name__ == \"__main__\":\n",
    "    p=Pool(6)\n",
    "    t1=time.time()\n",
    "    r=[]\n",
    "    for  i in range(800):\n",
    "        r.extend(countdown(a[:300]))\n",
    "    print(len(r))\n",
    "    print(time.time()-t1)\n",
    "    time.sleep(3)\n",
    "    p_list=[]\n",
    "    r=[]\n",
    "    local_time=time.time()\n",
    "    for i in range(800):\n",
    "        p_list.append(p.apply_async(countdown,(a[:300],)))\n",
    "    \n",
    "\n",
    "    p.close()\n",
    "    p.join()\n",
    "    for p in p_list:\n",
    "        r.extend(p.get())\n",
    "    print(len(r))\n",
    "    b=time.time()\n",
    "    print(b-local_time)\n",
    "\n",
    "  "
   ]
  },
  {
   "cell_type": "code",
   "execution_count": 10,
   "id": "9261a13f-abfa-4a69-bf6e-884737bb5cbb",
   "metadata": {},
   "outputs": [],
   "source": [
    "from threading import Thread\n",
    "from multiprocessing import Pool\n",
    "import numpy as np\n",
    "import pandas as pd\n",
    "import time\n",
    "\n",
    "def countdown(n):\n",
    "    r=[]\n",
    "    for i in range(5000):\n",
    "        r.append(np.max(n))\n",
    "    return r\n",
    "\n",
    "a=np.random.rand(3000)\n",
    "a=a.reshape(500,6)\n"
   ]
  },
  {
   "cell_type": "code",
   "execution_count": 2,
   "id": "c821822e-a2ca-4ba8-b096-7fe3c891be15",
   "metadata": {},
   "outputs": [],
   "source": [
    "import os\n",
    "import pandas as pd\n",
    "import itertools\n",
    "from joblib import Parallel,delayed\n",
    "from joblib.externals.loky import get_reusable_executor\n",
    "import numpy as np\n",
    "\n",
    "z=np.random.rand(60000,2480)\n",
    "\n",
    "def b(z,x,y):\n",
    "    r=np.corrcoef(z[x],z[y])[0,1]\n",
    "    if r>0.008:\n",
    "        return x,y,r\n",
    "    \n",
    "\n",
    "with Parallel(n_jobs=4) as parallel:\n",
    "    r=parallel(delayed(b)(z,j,k) for j, k in itertools.combinations(range(30),2))\n",
    "\n",
    "#释放进程，如果不释放进程，多次调用脚本，会启动非常多的python进程，则导致报错\n",
    "get_reusable_executor().shutdown(wait=True)\n",
    "r2=[x for x in r if x is not None]\n",
    "\n",
    "rt=pd.DataFrame(r2)\n",
    "rt.head()"
   ]
  },
  {
   "cell_type": "code",
   "execution_count": 1,
   "id": "4f2cceb2-5e93-4c41-b83a-0c00b50039fb",
   "metadata": {},
   "outputs": [
    {
     "name": "stdout",
     "output_type": "stream",
     "text": [
      "Multi Threads\n",
      "1 Thread  run job need  0.1077125072479248\n",
      "2 Thread  run job need  0.1840806007385254\n",
      "4 Thread  run job need  0.3615126609802246\n",
      "7000000\n",
      "Multi Process\n",
      "1 Process  run job need  0.06981825828552246\n",
      "2 Process  run job need  0.07811737060546875\n",
      "4 Process  run job need  0.10030531883239746\n",
      "0\n"
     ]
    }
   ],
   "source": [
    "from threading import Thread\n",
    "from multiprocessing import Process\n",
    "import time\n",
    "import numpy as np\n",
    "r=[]\n",
    "def countdown(n):\n",
    "    while n > 0:\n",
    "        r.append(n)\n",
    "\n",
    "COUNT = 100\n",
    "\n",
    "\n",
    "def thread_process_job(n, Thread_Process, job):\n",
    "    \"\"\"\n",
    "    n: 多线程或多进程数\n",
    "    Thread_Process: Thread／Process类\n",
    "    job: countdown任务\n",
    "    \"\"\"\n",
    "    local_time = time.time()\n",
    "\n",
    "    # 实例化多线程或多进程\n",
    "   \n",
    "    threads_or_processes = [Thread_Process(target=job, args=(n,)) for i in range(4)]\n",
    "    for t in threads_or_processes:\n",
    "        t.start()  # 开始线程或进程，必须调用\n",
    "    for t in threads_or_processes:\n",
    "        t.join()  # 等待直到该线程或进程结束\n",
    "\n",
    "\n",
    "\n",
    "if __name__ == \"__main__\":\n",
    "    print(\"Multi Process\")\n",
    "    for i in range(COUNT):\n",
    "        thread_process_job(i, Process, countdown)"
   ]
  },
  {
   "cell_type": "code",
   "execution_count": 20,
   "id": "aaa0ee06-6b72-40f5-88d2-7406a9201b93",
   "metadata": {},
   "outputs": [
    {
     "name": "stdout",
     "output_type": "stream",
     "text": [
      "[1, 2, 3, 4, 5, 6, 7, 8, 9, 10]\n",
      "2.0365169048309326\n"
     ]
    }
   ],
   "source": [
    "#用joblib库执行多进程\n",
    "from joblib import Parallel,delayed\n",
    "import time\n",
    "def foo(a):\n",
    "    time.sleep(1)\n",
    "    c=a+1\n",
    "    return c\n",
    "start=time.time()\n",
    "t=Parallel(n_jobs=5)(delayed(foo)(i) for i in range(10))\n",
    "print(t)\n",
    "Time=time.time()\n",
    "print(Time-start)"
   ]
  },
  {
   "cell_type": "code",
   "execution_count": null,
   "id": "625df252-7d0b-4e3d-afdb-73df380c29a6",
   "metadata": {},
   "outputs": [],
   "source": []
  }
 ],
 "metadata": {
  "kernelspec": {
   "display_name": "Python 3",
   "language": "python",
   "name": "python3"
  },
  "language_info": {
   "codemirror_mode": {
    "name": "ipython",
    "version": 3
   },
   "file_extension": ".py",
   "mimetype": "text/x-python",
   "name": "python",
   "nbconvert_exporter": "python",
   "pygments_lexer": "ipython3",
   "version": "3.9.5"
  }
 },
 "nbformat": 4,
 "nbformat_minor": 5
}
