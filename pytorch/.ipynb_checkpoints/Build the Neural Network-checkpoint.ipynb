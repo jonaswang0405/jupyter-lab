{
 "cells": [
  {
   "cell_type": "code",
   "execution_count": 2,
   "id": "b4f00426-1ca0-4a75-bd64-99f09acbd3bc",
   "metadata": {},
   "outputs": [],
   "source": [
    "import os\n",
    "import torch\n",
    "from torch import nn\n",
    "from torch.utils.data import DataLoader\n",
    "from torchvision import datasets, transforms"
   ]
  },
  {
   "cell_type": "code",
   "execution_count": 3,
   "id": "83a681a8-9e88-4559-b78d-1990a2e772ed",
   "metadata": {},
   "outputs": [
    {
     "name": "stdout",
     "output_type": "stream",
     "text": [
      "Using cuda device\n"
     ]
    }
   ],
   "source": [
    "#设置运行设备 GPU/CPU\n",
    "device = 'cuda' if torch.cuda.is_available() else 'cpu'\n",
    "print('Using {} device'.format(device))"
   ]
  },
  {
   "cell_type": "code",
   "execution_count": 6,
   "id": "9b2174e3-22c4-45e1-8c3b-610f2b0ef533",
   "metadata": {},
   "outputs": [],
   "source": [
    "class NeuralNetwork(nn.Module):\n",
    "    def __init__(self):\n",
    "        super(NeuralNetwork,self).__init__()\n",
    "        self.flatten=nn.Flatten()\n",
    "        self.linear_relu_stack=nn.Sequential(\n",
    "        nn.Linear(28*28,512),\n",
    "        nn.ReLU(),\n",
    "        nn.Linear(512,512),\n",
    "        nn.ReLU(),\n",
    "        nn.Linear(512,10))\n",
    "    def forward(self,x):\n",
    "        x=self.flatten(x)\n",
    "        logits=self.linear_relu_stack(x)\n",
    "        return logits\n",
    "        "
   ]
  },
  {
   "cell_type": "code",
   "execution_count": 8,
   "id": "b317d756-8efa-4e82-bb37-e12b69766315",
   "metadata": {},
   "outputs": [],
   "source": [
    "#We create an instance of NeuralNetwork, and move it to the device, and print its structure.\n",
    "model=NeuralNetwork().to(device)\n"
   ]
  },
  {
   "cell_type": "code",
   "execution_count": 32,
   "id": "a46bb331-4f24-4059-914f-6e765b03007e",
   "metadata": {},
   "outputs": [
    {
     "name": "stdout",
     "output_type": "stream",
     "text": [
      "tensor([[-0.5459,  0.2863,  0.0435, -0.5460, -0.2305, -0.1295, -0.0566, -0.0499,\n",
      "         -0.1892, -0.5126],\n",
      "        [-0.7996,  0.2559,  0.0017, -0.4476, -0.5436,  0.1044, -0.1594, -0.2118,\n",
      "         -0.0320, -0.1577],\n",
      "        [-0.6698,  0.2804, -0.1844, -0.1369, -0.5267,  0.5737, -0.2762, -0.1499,\n",
      "         -0.1796, -0.3589]], grad_fn=<AddmmBackward>)\n",
      "tensor([[0.0000, 0.2863, 0.0435, 0.0000, 0.0000, 0.0000, 0.0000, 0.0000, 0.0000,\n",
      "         0.0000],\n",
      "        [0.0000, 0.2559, 0.0017, 0.0000, 0.0000, 0.1044, 0.0000, 0.0000, 0.0000,\n",
      "         0.0000],\n",
      "        [0.0000, 0.2804, 0.0000, 0.0000, 0.0000, 0.5737, 0.0000, 0.0000, 0.0000,\n",
      "         0.0000]], grad_fn=<ReluBackward0>)\n"
     ]
    }
   ],
   "source": [
    "input_image=torch.rand(3,28,28)\n",
    "flatten=nn.Flatten()\n",
    "flat_image=flatten(input_image) #flat_image.size:784*784*3\n",
    "layer1=nn.Linear(in_features=28*28,out_features=10)\n",
    "hidden1=layer1(flat_image)\n",
    "print(hidden1) #图像有3层，显示3组权重\n",
    "hidden1=nn.ReLU()(hidden1)\n",
    "print(hidden1)"
   ]
  },
  {
   "cell_type": "code",
   "execution_count": 26,
   "id": "16a910a1-0e4b-40a4-b19a-3ab4b61b330e",
   "metadata": {},
   "outputs": [
    {
     "data": {
      "text/plain": [
       "<matplotlib.image.AxesImage at 0x1b7b9d60850>"
      ]
     },
     "execution_count": 26,
     "metadata": {},
     "output_type": "execute_result"
    },
    {
     "data": {
      "image/png": "[encoded data removed]",
      "text/plain": [
       "<Figure size 432x288 with 1 Axes>"
      ]
     },
     "metadata": {
      "needs_background": "light"
     },
     "output_type": "display_data"
    }
   ],
   "source": [
    "from matplotlib.pylab import plt\n",
    "input_image=torch.rand(28,28,3)\n",
    "plt.imshow(input_image)"
   ]
  },
  {
   "cell_type": "code",
   "execution_count": 50,
   "id": "391bdd50-5f6c-45b0-a237-9f8ccbadf3b9",
   "metadata": {},
   "outputs": [
    {
     "name": "stdout",
     "output_type": "stream",
     "text": [
      "<AddBackward0 object at 0x000001B7B9D76610>\n",
      "<BinaryCrossEntropyWithLogitsBackward object at 0x000001B730B4C130>\n"
     ]
    }
   ],
   "source": [
    "import torch\n",
    "\n",
    "x = torch.ones(5)  # input tensor\n",
    "y = torch.zeros(3)  # expected output\n",
    "w = torch.randn(5, 3, requires_grad=True)\n",
    "b = torch.randn(3, requires_grad=True)\n",
    "z = torch.matmul(x, w)+b\n",
    "loss = torch.nn.functional.binary_cross_entropy_with_logits(z, y)\n",
    "print(z.grad_fn)\n",
    "print(loss.grad_fn)"
   ]
  },
  {
   "cell_type": "code",
   "execution_count": 51,
   "id": "7fb55d5d-bacf-47fc-9d9b-f0f47e2934ea",
   "metadata": {},
   "outputs": [
    {
     "name": "stdout",
     "output_type": "stream",
     "text": [
      "tensor([[0.2427, 0.0788, 0.2109],\n",
      "        [0.2427, 0.0788, 0.2109],\n",
      "        [0.2427, 0.0788, 0.2109],\n",
      "        [0.2427, 0.0788, 0.2109],\n",
      "        [0.2427, 0.0788, 0.2109]])\n",
      "tensor([0.2427, 0.0788, 0.2109])\n"
     ]
    }
   ],
   "source": [
    "loss.backward()   #反向传播，计算梯度\n",
    "print(w.grad)\n",
    "print(b.grad)"
   ]
  },
  {
   "cell_type": "markdown",
   "id": "ab93dfcc-0912-4121-8dcd-56884c0a45c2",
   "metadata": {},
   "source": [
    "### stop tracing:"
   ]
  },
  {
   "cell_type": "code",
   "execution_count": 53,
   "id": "68868218-5d21-4bc8-aa7e-99ffa3c2a49e",
   "metadata": {},
   "outputs": [
    {
     "name": "stdout",
     "output_type": "stream",
     "text": [
      "True\n",
      "False\n",
      "False\n"
     ]
    }
   ],
   "source": [
    "#by defalut,all tensor with requires_grad=True\n",
    "z=torch.matmul(x,w)+b\n",
    "print(z.requires_grad)\n",
    "# only want to do forward computations through the network. \n",
    "# We can stop tracking computations by surrounding our computation code \n",
    "# with torch.no_grad() block\n",
    "with torch.no_grad():  \n",
    "    z=torch.matmul(x,w)+b\n",
    "print(z.requires_grad)\n",
    "# Another way to achieve the same result is to use the detach() method on the tensor\n",
    "z = torch.matmul(x, w)+b\n",
    "z_det = z.detach()\n",
    "print(z_det.requires_grad)"
   ]
  },
  {
   "cell_type": "code",
   "execution_count": 65,
   "id": "0815dbd4-84ff-44b0-a97d-4eb8a52d55a8",
   "metadata": {},
   "outputs": [
    {
     "name": "stdout",
     "output_type": "stream",
     "text": [
      "tensor([[1., 0., 0., 0., 0.],\n",
      "        [0., 1., 0., 0., 0.],\n",
      "        [0., 0., 1., 0., 0.],\n",
      "        [0., 0., 0., 1., 0.],\n",
      "        [0., 0., 0., 0., 1.]], requires_grad=True)\n",
      "First call\n",
      " tensor([[4., 2., 2., 2., 2.],\n",
      "        [2., 4., 2., 2., 2.],\n",
      "        [2., 2., 4., 2., 2.],\n",
      "        [2., 2., 2., 4., 2.],\n",
      "        [2., 2., 2., 2., 4.]])\n",
      "\n",
      "Second call\n",
      " tensor([[8., 4., 4., 4., 4.],\n",
      "        [4., 8., 4., 4., 4.],\n",
      "        [4., 4., 8., 4., 4.],\n",
      "        [4., 4., 4., 8., 4.],\n",
      "        [4., 4., 4., 4., 8.]])\n",
      "\n",
      "Call after zeroing gradients\n",
      " tensor([[4., 2., 2., 2., 2.],\n",
      "        [2., 4., 2., 2., 2.],\n",
      "        [2., 2., 4., 2., 2.],\n",
      "        [2., 2., 2., 4., 2.],\n",
      "        [2., 2., 2., 2., 4.]])\n"
     ]
    }
   ],
   "source": [
    "# Notice that when we call backward for the second time with the same argument, \n",
    "# the value of the gradient is different. \n",
    "# This happens because when doing backward propagation, \n",
    "# PyTorch accumulates the gradients,\n",
    "# i.e. the value of computed gradients is added to the grad property of all \n",
    "# leaf nodes of computational graph. \n",
    "# If you want to compute the proper gradients, you need to zero out the grad property before.\n",
    "# In real-life training an optimizer helps us to do this.\n",
    "inp = torch.eye(5, requires_grad=True)\n",
    "print(inp)\n",
    "out = (inp+1).pow(2) #pow：平方\n",
    "out.backward(torch.ones_like(inp), retain_graph=True)\n",
    "print(\"First call\\n\", inp.grad)\n",
    "out.backward(torch.ones_like(inp), retain_graph=True)\n",
    "print(\"\\nSecond call\\n\", inp.grad)\n",
    "inp.grad.zero_()\n",
    "out.backward(torch.ones_like(inp), retain_graph=True)\n",
    "print(\"\\nCall after zeroing gradients\\n\", inp.grad)"
   ]
  },
  {
   "cell_type": "code",
   "execution_count": 63,
   "id": "27ee5069-e44c-426d-8521-b9f1b56ca9f1",
   "metadata": {},
   "outputs": [
    {
     "data": {
      "text/plain": [
       "tensor([[4., 1., 1., 1., 1.],\n",
       "        [1., 4., 1., 1., 1.],\n",
       "        [1., 1., 4., 1., 1.],\n",
       "        [1., 1., 1., 4., 1.],\n",
       "        [1., 1., 1., 1., 4.]], grad_fn=<PowBackward0>)"
      ]
     },
     "execution_count": 63,
     "metadata": {},
     "output_type": "execute_result"
    }
   ],
   "source": [
    "(inp+1).pow(2)"
   ]
  },
  {
   "cell_type": "code",
   "execution_count": 70,
   "id": "59035ce9-4ecd-4eb2-9965-ef631257b10b",
   "metadata": {},
   "outputs": [
    {
     "data": {
      "text/plain": [
       "tensor([[4., 4., 4., 4., 4.],\n",
       "        [4., 4., 4., 4., 4.],\n",
       "        [4., 4., 4., 4., 4.],\n",
       "        [4., 4., 4., 4., 4.],\n",
       "        [4., 4., 4., 4., 4.]])"
      ]
     },
     "execution_count": 70,
     "metadata": {},
     "output_type": "execute_result"
    }
   ],
   "source": [
    "inp1=torch.ones_like(inp)\n",
    "(inp1+1).pow(2)"
   ]
  },
  {
   "cell_type": "code",
   "execution_count": null,
   "id": "b8958a77-0bef-4d70-82dd-c197e7dc92fa",
   "metadata": {},
   "outputs": [],
   "source": []
  }
 ],
 "metadata": {
  "kernelspec": {
   "display_name": "Python 3",
   "language": "python",
   "name": "python3"
  },
  "language_info": {
   "codemirror_mode": {
    "name": "ipython",
    "version": 3
   },
   "file_extension": ".py",
   "mimetype": "text/x-python",
   "name": "python",
   "nbconvert_exporter": "python",
   "pygments_lexer": "ipython3",
   "version": "3.9.5"
  }
 },
 "nbformat": 4,
 "nbformat_minor": 5
}
