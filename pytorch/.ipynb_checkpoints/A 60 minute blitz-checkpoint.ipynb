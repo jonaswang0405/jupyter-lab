{
 "cells": [
  {
   "cell_type": "code",
   "execution_count": 1,
   "id": "b66dc8a8-d7ce-4f3c-867f-86fce4c84f4d",
   "metadata": {},
   "outputs": [
    {
     "name": "stdout",
     "output_type": "stream",
     "text": [
      "tensor([-12.,  65.], grad_fn=<SubBackward0>)\n"
     ]
    }
   ],
   "source": [
    "import torch\n",
    "a=torch.tensor([2.,3.],requires_grad=True)\n",
    "b=torch.tensor([6.,4.],requires_grad=True)\n",
    "Q= 3*a**3-b**2\n",
    "print(Q)\n",
    "external_grad=torch.tensor([1,1.])\n",
    "Q.backward(gradient=external_grad)\n"
   ]
  },
  {
   "cell_type": "markdown",
   "id": "fafa2170-6196-4736-8ac2-a0e6c50f9515",
   "metadata": {},
   "source": [
    "# 计算矩阵相似度"
   ]
  },
  {
   "cell_type": "code",
   "execution_count": 40,
   "id": "db9691b4-c5c9-48f8-aee6-ae94986e4261",
   "metadata": {},
   "outputs": [
    {
     "name": "stdout",
     "output_type": "stream",
     "text": [
      "tensor([0.7375], device='cuda:0')\n",
      "CPU times: total: 0 ns\n",
      "Wall time: 1.99 ms\n"
     ]
    }
   ],
   "source": [
    "%%time\n",
    "import torch\n",
    "device = \"cuda\" if torch.cuda.is_available() else \"cpu\"\n",
    "x1=torch.rand(1,3000,device=device)\n",
    "x2=torch.rand(1,3000,device=device)\n",
    "# print(x1)\n",
    "# print(x2)\n",
    "# print(x1[0],x2[0])\n",
    "print(torch.nn.functional.cosine_similarity(x1,x2))\n",
    "# print(torch.nn.functional.cosine_similarity(x1[0],x2[0],dim=0))\n",
    "#print(torch.randperm(5).tolist())"
   ]
  },
  {
   "cell_type": "code",
   "execution_count": null,
   "id": "7b4d8cd2-ac7c-4d83-b8f3-d352ef8d7a0c",
   "metadata": {},
   "outputs": [
    {
     "ename": "FileNotFoundError",
     "evalue": "[Errno 2] No such file or directory: 'D:\\\\pytorch\\\\pytorch_data\\\\train\\\\labels.json'",
     "output_type": "error",
     "traceback": [
      "\u001b[1;31m---------------------------------------------------------------------------\u001b[0m",
      "\u001b[1;31mFileNotFoundError\u001b[0m                         Traceback (most recent call last)",
      "Input \u001b[1;32mIn [38]\u001b[0m, in \u001b[0;36m<module>\u001b[1;34m\u001b[0m\n\u001b[0;32m      1\u001b[0m \u001b[38;5;28;01mimport\u001b[39;00m \u001b[38;5;21;01mjson\u001b[39;00m\n\u001b[1;32m----> 2\u001b[0m \u001b[38;5;28;01mwith\u001b[39;00m \u001b[38;5;28;43mopen\u001b[39;49m\u001b[43m(\u001b[49m\u001b[38;5;124;43mr\u001b[39;49m\u001b[38;5;124;43m'\u001b[39;49m\u001b[38;5;124;43mD:\u001b[39;49m\u001b[38;5;124;43m\\\u001b[39;49m\u001b[38;5;124;43mpytorch\u001b[39;49m\u001b[38;5;124;43m\\\u001b[39;49m\u001b[38;5;124;43mpytorch_data\u001b[39;49m\u001b[38;5;124;43m\\\u001b[39;49m\u001b[38;5;124;43mtrain\u001b[39;49m\u001b[38;5;124;43m\\\u001b[39;49m\u001b[38;5;124;43mlabels.json\u001b[39;49m\u001b[38;5;124;43m'\u001b[39;49m\u001b[43m,\u001b[49m\u001b[38;5;124;43m'\u001b[39;49m\u001b[38;5;124;43mrb\u001b[39;49m\u001b[38;5;124;43m'\u001b[39;49m\u001b[43m)\u001b[49m \u001b[38;5;28;01mas\u001b[39;00m f:\n\u001b[0;32m      3\u001b[0m     file\u001b[38;5;241m=\u001b[39mjson\u001b[38;5;241m.\u001b[39mload(f)\n",
      "\u001b[1;31mFileNotFoundError\u001b[0m: [Errno 2] No such file or directory: 'D:\\\\pytorch\\\\pytorch_data\\\\train\\\\labels.json'"
     ]
    }
   ],
   "source": [
    "import json\n",
    "with open(r'D:\\pytorch\\pytorch_data\\train\\labels.json','rb') as f:\n",
    "    file=json.load(f)"
   ]
  },
  {
   "cell_type": "code",
   "execution_count": 17,
   "id": "5bfb52c7-b089-4f51-8fd1-d21b9f6b22e6",
   "metadata": {},
   "outputs": [
    {
     "data": {
      "text/plain": [
       "dict_keys(['info', 'licenses', 'images', 'annotations', 'categories'])"
      ]
     },
     "execution_count": 17,
     "metadata": {},
     "output_type": "execute_result"
    }
   ],
   "source": [
    "file.keys()"
   ]
  },
  {
   "cell_type": "code",
   "execution_count": 73,
   "id": "6b0c66ad-891d-4eac-9a1e-fece14de8da9",
   "metadata": {},
   "outputs": [
    {
     "name": "stdout",
     "output_type": "stream",
     "text": [
      "tensor([[[[0.3766, 0.9215, 0.1354, 0.3062, 0.8772],\n",
      "          [0.5052, 0.0679, 0.7439, 0.3053, 0.1638],\n",
      "          [0.2162, 0.5970, 0.5581, 0.3412, 0.3516],\n",
      "          [0.7264, 0.4226, 0.6113, 0.6618, 0.1397],\n",
      "          [0.6823, 0.9110, 0.9721, 0.3101, 0.7996]]]])\n",
      "<bound method Module.get_parameter of Conv2d(1, 1, kernel_size=(3, 3), stride=(1, 1))>\n"
     ]
    },
    {
     "data": {
      "text/plain": [
       "tensor([[[[-0.0287, -0.0475, -0.2612],\n",
       "          [-0.1240, -0.2255, -0.0541],\n",
       "          [-0.1461,  0.0668, -0.1723]]]], grad_fn=<ThnnConv2DBackward0>)"
      ]
     },
     "execution_count": 73,
     "metadata": {},
     "output_type": "execute_result"
    }
   ],
   "source": [
    "import torch\n",
    "import torch.nn as nn\n",
    "import torch.nn.functional as F\n",
    "a=torch.rand((1,1,5,5))\n",
    "print(a)\n",
    "res=nn.Conv2d(1,1,3)   #随机生成一个3*3的核，然后对a进行内积计算,第一个1为批次号，第二个1代表通道数（一般彩色图片为3通道）\n",
    "print(res.get_parameter)\n",
    "res(a)\n"
   ]
  },
  {
   "cell_type": "code",
   "execution_count": 59,
   "id": "618cc9a9-d0bc-427f-b743-a414c2a2daec",
   "metadata": {},
   "outputs": [
    {
     "name": "stdout",
     "output_type": "stream",
     "text": [
      "<bound method Module.parameters of Net(\n",
      "  (conv1): Conv2d(1, 6, kernel_size=(5, 5), stride=(1, 1))\n",
      "  (conv2): Conv2d(6, 16, kernel_size=(5, 5), stride=(1, 1))\n",
      "  (fc1): Linear(in_features=400, out_features=120, bias=True)\n",
      "  (fc2): Linear(in_features=120, out_features=84, bias=True)\n",
      "  (fc3): Linear(in_features=84, out_features=10, bias=True)\n",
      ")>\n"
     ]
    }
   ],
   "source": [
    "import torch\n",
    "import torch.nn as nn\n",
    "import torch.nn.functional as F\n",
    "\n",
    "\n",
    "class Net(nn.Module):\n",
    "\n",
    "    def __init__(self):\n",
    "        super(Net, self).__init__()\n",
    "        # 1 input image channel, 6 output channels, 5x5 square convolution\n",
    "        # kernel\n",
    "        self.conv1 = nn.Conv2d(1, 6, 5)\n",
    "        self.conv2 = nn.Conv2d(6, 16, 5)\n",
    "        # an affine operation: y = Wx + b\n",
    "        self.fc1 = nn.Linear(16 * 5 * 5, 120)  # 5*5 from image dimension\n",
    "        self.fc2 = nn.Linear(120, 84)\n",
    "        self.fc3 = nn.Linear(84, 10)\n",
    "\n",
    "    def forward(self, x):\n",
    "        # Max pooling over a (2, 2) window\n",
    "        x = F.max_pool2d(F.relu(self.conv1(x)), (2, 2))\n",
    "        # If the size is a square, you can specify with a single number\n",
    "        x = F.max_pool2d(F.relu(self.conv2(x)), 2)\n",
    "        x = torch.flatten(x, 1) # flatten all dimensions except the batch dimension\n",
    "        x = F.relu(self.fc1(x))\n",
    "        x = F.relu(self.fc2(x))\n",
    "        x = self.fc3(x)\n",
    "        return x\n",
    "\n",
    "\n",
    "net = Net()\n",
    "print(net.parameters)"
   ]
  },
  {
   "cell_type": "code",
   "execution_count": 41,
   "id": "a5edfc6a-6317-40ce-bbba-afe4a5417917",
   "metadata": {},
   "outputs": [
    {
     "name": "stdout",
     "output_type": "stream",
     "text": [
      "Using downloaded and verified file: ./data\\cifar-10-python.tar.gz\n",
      "Extracting ./data\\cifar-10-python.tar.gz to ./data\n",
      "Files already downloaded and verified\n"
     ]
    },
    {
     "data": {
      "image/png": "[encoded data removed]",
      "text/plain": [
       "<Figure size 432x288 with 1 Axes>"
      ]
     },
     "metadata": {
      "needs_background": "light"
     },
     "output_type": "display_data"
    }
   ],
   "source": [
    "import torch\n",
    "import torchvision\n",
    "import torchvision.transforms as transforms\n",
    "transform=transforms.Compose([transforms.ToTensor(),\n",
    "                              transforms.Normalize((0.5,0.5,0.5),(0.5,0.5,0.5))])\n",
    "batch_size=4\n",
    "trainset=torchvision.datasets.CIFAR10(root='./data',train=True,\n",
    "                                      download=True,transform=transform)\n",
    "trainloader=torch.utils.data.DataLoader(trainset,batch_size=batch_size,\n",
    "                                        shuffle=True,num_workers=2)\n",
    "testset=torchvision.datasets.CIFAR10(root='./data',train=False,\n",
    "                                    download=True,transform=transform)\n",
    "testloader=torch.utils.data.DataLoader(testset,batch_size=batch_size,\n",
    "                                       shuffle=False,num_workers=2)\n",
    "classes = ('plane', 'car', 'bird', 'cat',\n",
    "           'deer', 'dog', 'frog', 'horse', 'ship', 'truck')\n",
    "\n",
    "import matplotlib.pyplot as plt\n",
    "import numpy as np\n",
    "def imshow(img):\n",
    "    img=img/2+0.5\n",
    "    nping=img.numpy()\n",
    "    plt.imshow(np.transpose(nping,(1,2,0)))    #此处调整nping图片通道的次序\n",
    "    plt.show()\n",
    "\n",
    "dataiter=iter(trainloader)\n",
    "images,lables=dataiter.next()\n",
    "imshow(torchvision.utils.make_grid(images))\n"
   ]
  },
  {
   "cell_type": "code",
   "execution_count": 42,
   "id": "04a1450d-be38-430a-9342-7ee0897f9c3f",
   "metadata": {},
   "outputs": [
    {
     "ename": "NameError",
     "evalue": "name 'optimizer' is not defined",
     "output_type": "error",
     "traceback": [
      "\u001b[1;31m---------------------------------------------------------------------------\u001b[0m",
      "\u001b[1;31mNameError\u001b[0m                                 Traceback (most recent call last)",
      "Input \u001b[1;32mIn [42]\u001b[0m, in \u001b[0;36m<module>\u001b[1;34m\u001b[0m\n\u001b[0;32m      6\u001b[0m inputs,labels\u001b[38;5;241m=\u001b[39mdata[\u001b[38;5;241m0\u001b[39m]\u001b[38;5;241m.\u001b[39mto(device),data[\u001b[38;5;241m1\u001b[39m]\u001b[38;5;241m.\u001b[39mto(device) \u001b[38;5;66;03m#设置在device上执行\u001b[39;00m\n\u001b[0;32m      8\u001b[0m \u001b[38;5;66;03m# zero the parameter graditents \u001b[39;00m\n\u001b[1;32m----> 9\u001b[0m \u001b[43moptimizer\u001b[49m\u001b[38;5;241m.\u001b[39mzero_grad()\n\u001b[0;32m     10\u001b[0m \u001b[38;5;66;03m#forward+backward+optimize\u001b[39;00m\n\u001b[0;32m     11\u001b[0m outputs\u001b[38;5;241m=\u001b[39mnet(inputs)  \u001b[38;5;66;03m#正向传播\u001b[39;00m\n",
      "\u001b[1;31mNameError\u001b[0m: name 'optimizer' is not defined"
     ]
    }
   ],
   "source": [
    "# train the network\n",
    "for epoch in range(2):\n",
    "    running_loss=0.0\n",
    "    for i ,data in enumerate(trainloader,0):\n",
    "        # get the inputs ;data is a list of [inputs ,labels]\n",
    "        inputs,labels=data[0].to(device),data[1].to(device) #设置在device上执行\n",
    "\n",
    "        # zero the parameter graditents \n",
    "        optimizer.zero_grad()\n",
    "        #forward+backward+optimize\n",
    "        outputs=net(inputs)  #正向传播\n",
    "        loss=criterion(outputs,labels)  #计算损失函数\n",
    "        loss.backward()   #反向传播\n",
    "        optimizer.step()  #更新参数\n",
    "        \n",
    "        #print statistics\n",
    "        running_loss +=loss.item()\n",
    "        if i % 2000==1999:\n",
    "            print('[%d, %5d] loss: %.3f' %\n",
    "                 (epoch + i,i+1,running_loss/2000)) \n",
    "            running_loss=0.0"
   ]
  },
  {
   "cell_type": "code",
   "execution_count": 8,
   "id": "47b80419-4ade-40f3-a6c9-f323ffef6a90",
   "metadata": {},
   "outputs": [],
   "source": [
    "# save trained model:\n",
    "path='./cifar_net.pth'\n",
    "torch.save(net.state_dict(),path)"
   ]
  },
  {
   "cell_type": "code",
   "execution_count": 38,
   "id": "1190925a-7196-495b-a831-d4444db97744",
   "metadata": {},
   "outputs": [
    {
     "name": "stdout",
     "output_type": "stream",
     "text": [
      "torch.Size([4, 3, 32, 32])\n",
      "(3, 36, 138)\n"
     ]
    },
    {
     "data": {
      "image/png": "[encoded data removed]",
      "text/plain": [
       "<Figure size 432x288 with 1 Axes>"
      ]
     },
     "metadata": {
      "needs_background": "light"
     },
     "output_type": "display_data"
    },
    {
     "name": "stdout",
     "output_type": "stream",
     "text": [
      "GroundTruth:   cat  ship  ship plane\n",
      "outputs: tensor([[-3.2616, -4.0782,  3.2501,  3.0840,  2.3074,  2.4442,  4.4298,  0.7905,\n",
      "         -5.0129, -3.5846],\n",
      "        [-1.6881, -3.7810,  2.3157,  3.4443,  0.4706,  4.0667, -0.1186,  0.6686,\n",
      "         -1.8627, -3.0995],\n",
      "        [ 0.2880,  1.0571,  0.7940, -1.0519,  1.8804, -0.8514,  0.8490, -1.1389,\n",
      "         -1.8305, -0.6919],\n",
      "        [-1.6718, -1.4624,  0.7595, -0.0647,  3.1177,  0.8919,  0.9563,  3.4828,\n",
      "         -3.5563, -1.3646]])\n",
      "Predicted:  frog   dog  deer horse\n"
     ]
    }
   ],
   "source": [
    "# test the network on the test data\n",
    "# display an image from the test set to get familiar,数据集中，一组图片有4张\n",
    "dataiter =iter(testloader)\n",
    "images,labels=dataiter.next()\n",
    "#print images\n",
    "print(images.shape)\n",
    "imshow(torchvision.utils.make_grid(images))\n",
    "print('GroundTruth:',' '.join('%5s' % classes[labels[j]] for j in range(4)))\n",
    "\n",
    "#load back in our saved model \n",
    "net=Net() #定义模型\n",
    "net.load_state_dict(torch.load(path)) #加载模型参数\n",
    "print(\"outputs:\",outputs) #输出是一个10维的数组，最大值代表最可能的类别\n",
    "_,predicted=torch.max(outputs,1)\n",
    "print('Predicted:',' '.join('%5s' % classes[predicted[j]] for j in range(4)))"
   ]
  },
  {
   "cell_type": "code",
   "execution_count": 39,
   "id": "d039128f-9524-4e19-8374-1f35ba533616",
   "metadata": {},
   "outputs": [
    {
     "name": "stdout",
     "output_type": "stream",
     "text": [
      "Accuracy of the network on the 10000 test images: 55 %\n"
     ]
    }
   ],
   "source": [
    "#查看模型对所有数据的预测情况\n",
    "correct = 0\n",
    "total = 0\n",
    "# since we're not training, we don't need to calculate the gradients for our outputs\n",
    "with torch.no_grad():\n",
    "    for data in testloader:\n",
    "        images, labels = data\n",
    "        # calculate outputs by running images through the network\n",
    "        outputs = net(images)\n",
    "        # the class with the highest energy is what we choose as prediction\n",
    "        _, predicted = torch.max(outputs.data, 1)\n",
    "        total += labels.size(0)\n",
    "        correct += (predicted == labels).sum().item()  #item从tensor(2)中，取出2\n",
    "\n",
    "print('Accuracy of the network on the 10000 test images: %d %%' % (\n",
    "    100 * correct / total))\n"
   ]
  },
  {
   "cell_type": "code",
   "execution_count": 11,
   "id": "94b371ae-3d03-459f-ac19-784d4097ba12",
   "metadata": {},
   "outputs": [
    {
     "name": "stdout",
     "output_type": "stream",
     "text": [
      "Accuracy for class plane is: 63.5 %\n",
      "Accuracy for class car   is: 59.0 %\n",
      "Accuracy for class bird  is: 58.9 %\n",
      "Accuracy for class cat   is: 36.2 %\n",
      "Accuracy for class deer  is: 37.3 %\n",
      "Accuracy for class dog   is: 37.5 %\n",
      "Accuracy for class frog  is: 73.6 %\n",
      "Accuracy for class horse is: 52.8 %\n",
      "Accuracy for class ship  is: 71.8 %\n",
      "Accuracy for class truck is: 59.9 %\n"
     ]
    }
   ],
   "source": [
    "\n",
    "#查看每个类别的预测精度\n",
    "# prepare to count predictions for each class\n",
    "correct_pred = {classname: 0 for classname in classes} #使用for循环构建字典\n",
    "total_pred = {classname: 0 for classname in classes}\n",
    "\n",
    "# again no gradients needed\n",
    "with torch.no_grad():\n",
    "    for data in testloader:\n",
    "        images, labels = data\n",
    "        outputs = net(images)\n",
    "        _, predictions = torch.max(outputs, 1)\n",
    "        # collect the correct predictions for each class\n",
    "        for label, prediction in zip(labels, predictions):\n",
    "            if label == prediction:\n",
    "                correct_pred[classes[label]] += 1  #按对应的键、值更新字典的值\n",
    "            total_pred[classes[label]] += 1\n",
    "\n",
    "\n",
    "# print accuracy for each class\n",
    "for classname, correct_count in correct_pred.items():\n",
    "    accuracy = 100 * float(correct_count) / total_pred[classname]\n",
    "    print(\"Accuracy for class {:5s} is: {:.1f} %\".format(classname,\n",
    "                                                   accuracy))"
   ]
  },
  {
   "cell_type": "markdown",
   "id": "33243c4d-5a67-4e5b-9a63-f8b8061061c1",
   "metadata": {},
   "source": [
    "# 下面是步骤拆解分析："
   ]
  },
  {
   "cell_type": "code",
   "execution_count": 48,
   "id": "f3fe45a0-f953-4a1e-8b33-d6180bb3a97d",
   "metadata": {
    "tags": []
   },
   "outputs": [
    {
     "name": "stdout",
     "output_type": "stream",
     "text": [
      "torch.Size([2, 3])\n",
      "torch.Size([2, 3])\n",
      "tensor([[-0.1558, -0.4192],\n",
      "        [ 0.0150, -0.2623]], grad_fn=<MmBackward0>)\n"
     ]
    }
   ],
   "source": [
    "import torch\n",
    "import torch.nn as nn\n",
    "input=torch.rand((2,3))\n",
    "m=nn.Linear(3,2,bias=False)  #m默认生产2行3列，在m()计算时，会自动转置 \n",
    "print(m.weight.shape)\n",
    "print(input.shape)\n",
    "output=m(input)   #执行input*m.T \n",
    "print(output)"
   ]
  },
  {
   "cell_type": "code",
   "execution_count": 59,
   "id": "cec295c3-43a8-4b1f-92cb-f382e78aa016",
   "metadata": {},
   "outputs": [
    {
     "data": {
      "text/plain": [
       "array([[-0.15572839, -0.41916339],\n",
       "       [ 0.01505608, -0.2623132 ]])"
      ]
     },
     "execution_count": 59,
     "metadata": {},
     "output_type": "execute_result"
    }
   ],
   "source": [
    "import numpy as np\n",
    "a=np.array([[0.7379, 0.7379, 0.2397],\n",
    "        [0.7074, 0.4134, 0.0736]])\n",
    "b=np.array([[ 0.2380, -0.2760, -0.5327],\n",
    "         [-0.1174, -0.4130, -0.1159]])\n",
    "np.dot(a,b.T)\n"
   ]
  },
  {
   "cell_type": "code",
   "execution_count": 57,
   "id": "4a2b525c-26e5-4790-bc5a-cc942b7d4ee5",
   "metadata": {},
   "outputs": [
    {
     "data": {
      "text/plain": [
       "0.015056079999999993"
      ]
     },
     "execution_count": 57,
     "metadata": {},
     "output_type": "execute_result"
    }
   ],
   "source": [
    "0.7074*0.2380+0.4134*-0.2760+0.0736*-0.5327"
   ]
  },
  {
   "cell_type": "code",
   "execution_count": 13,
   "id": "bb8a58f8-517d-44b7-996c-5450451dec1c",
   "metadata": {},
   "outputs": [
    {
     "data": {
      "text/plain": [
       "array([[-0.10451823, -0.56034446, -0.18969531],\n",
       "       [-1.1719816 , -0.0919904 ,  0.17458288],\n",
       "       [-0.7803322 ,  0.8791406 ,  1.7265769 ]], dtype=float32)"
      ]
     },
     "execution_count": 13,
     "metadata": {},
     "output_type": "execute_result"
    }
   ],
   "source": [
    "# tensor转numpy\n",
    "input=torch.randn(3,3)\n",
    "input.numpy() "
   ]
  },
  {
   "cell_type": "code",
   "execution_count": 14,
   "id": "5e9085aa-296a-4350-87f4-9bc9717fb11b",
   "metadata": {},
   "outputs": [],
   "source": [
    "import torch,torchvision\n",
    "model=torchvision.models.resnet18(pretrained=True) #从torchvision中加载一个与训练的数据集模型\n",
    "data=torch.randn(1,3,64,64)\n",
    "labels=torch.rand(1,1000)\n",
    "prediction=model(data) #forward pass \n",
    "loss=(prediction-labels).sum()  #设置损失函数\n",
    "loss.backward() #backward pass ,计算梯度，并存储在.grad属性中\n",
    "optim=torch.optim.SGD(model.parameters(),lr=1e-2,momentum=0.9)\n",
    "optim.step() # initiate gradient descent \n"
   ]
  },
  {
   "cell_type": "markdown",
   "id": "2ac74a10-24ba-4fee-ab8d-7e879adf21ad",
   "metadata": {},
   "source": [
    "# Differentiation in autograd"
   ]
  },
  {
   "cell_type": "code",
   "execution_count": 60,
   "id": "e961a963-88e7-4433-b739-bb0c29d964c4",
   "metadata": {},
   "outputs": [
    {
     "name": "stdout",
     "output_type": "stream",
     "text": [
      "tensor([36., 81.])\n",
      "tensor([-12.,  -8.])\n"
     ]
    }
   ],
   "source": [
    "import torch\n",
    "a = torch.tensor([2., 3.], requires_grad=True)\n",
    "b = torch.tensor([6., 4.], requires_grad=True)\n",
    "Q=3*a**3-b**2\n",
    "external_grad = torch.tensor([1., 1.]) \n",
    "#backward需要传入一个和Q的shape一样的梯度参数，并且代表的是Q的梯度，\n",
    "#也可以把Q作为一个标量(scalar),进行隐式调用，如：Q.sum().backward()\n",
    "Q.backward(gradient=external_grad) \n",
    "#反向传播之后，梯度保存在变量a.grad和b.grad中\n",
    "print(a.grad)\n",
    "print(b.grad)"
   ]
  },
  {
   "cell_type": "code",
   "execution_count": 16,
   "id": "1be9bc96-88c5-45a9-b7e6-9e1a4ad4bfbc",
   "metadata": {},
   "outputs": [],
   "source": [
    "# 冻结参数\n",
    "from torch import nn ,optim\n",
    "model=torchvision.models.resnet18(pretrained=True)  #resnet18为torch自带的模型参数\n",
    "for param in model.parameters():\n",
    "    # Freeze all the parameters in the network\n",
    "    param.requires_grad =False\n",
    "# linetuning\n",
    "# model.resnet18模型的最后一层为model.fc,可以通过model.named_modules查看每一层的名称即参数\n",
    "model.fc=nn.Linear(512,10) #将模型的最后一层用线性表示"
   ]
  },
  {
   "cell_type": "code",
   "execution_count": 17,
   "id": "88be0cf6-dec4-4d7c-9c8e-8327f56f398f",
   "metadata": {
    "collapsed": true,
    "jupyter": {
     "outputs_hidden": true
    },
    "tags": []
   },
   "outputs": [
    {
     "data": {
      "text/plain": [
       "<bound method Module.named_modules of ResNet(\n",
       "  (conv1): Conv2d(3, 64, kernel_size=(7, 7), stride=(2, 2), padding=(3, 3), bias=False)\n",
       "  (bn1): BatchNorm2d(64, eps=1e-05, momentum=0.1, affine=True, track_running_stats=True)\n",
       "  (relu): ReLU(inplace=True)\n",
       "  (maxpool): MaxPool2d(kernel_size=3, stride=2, padding=1, dilation=1, ceil_mode=False)\n",
       "  (layer1): Sequential(\n",
       "    (0): BasicBlock(\n",
       "      (conv1): Conv2d(64, 64, kernel_size=(3, 3), stride=(1, 1), padding=(1, 1), bias=False)\n",
       "      (bn1): BatchNorm2d(64, eps=1e-05, momentum=0.1, affine=True, track_running_stats=True)\n",
       "      (relu): ReLU(inplace=True)\n",
       "      (conv2): Conv2d(64, 64, kernel_size=(3, 3), stride=(1, 1), padding=(1, 1), bias=False)\n",
       "      (bn2): BatchNorm2d(64, eps=1e-05, momentum=0.1, affine=True, track_running_stats=True)\n",
       "    )\n",
       "    (1): BasicBlock(\n",
       "      (conv1): Conv2d(64, 64, kernel_size=(3, 3), stride=(1, 1), padding=(1, 1), bias=False)\n",
       "      (bn1): BatchNorm2d(64, eps=1e-05, momentum=0.1, affine=True, track_running_stats=True)\n",
       "      (relu): ReLU(inplace=True)\n",
       "      (conv2): Conv2d(64, 64, kernel_size=(3, 3), stride=(1, 1), padding=(1, 1), bias=False)\n",
       "      (bn2): BatchNorm2d(64, eps=1e-05, momentum=0.1, affine=True, track_running_stats=True)\n",
       "    )\n",
       "  )\n",
       "  (layer2): Sequential(\n",
       "    (0): BasicBlock(\n",
       "      (conv1): Conv2d(64, 128, kernel_size=(3, 3), stride=(2, 2), padding=(1, 1), bias=False)\n",
       "      (bn1): BatchNorm2d(128, eps=1e-05, momentum=0.1, affine=True, track_running_stats=True)\n",
       "      (relu): ReLU(inplace=True)\n",
       "      (conv2): Conv2d(128, 128, kernel_size=(3, 3), stride=(1, 1), padding=(1, 1), bias=False)\n",
       "      (bn2): BatchNorm2d(128, eps=1e-05, momentum=0.1, affine=True, track_running_stats=True)\n",
       "      (downsample): Sequential(\n",
       "        (0): Conv2d(64, 128, kernel_size=(1, 1), stride=(2, 2), bias=False)\n",
       "        (1): BatchNorm2d(128, eps=1e-05, momentum=0.1, affine=True, track_running_stats=True)\n",
       "      )\n",
       "    )\n",
       "    (1): BasicBlock(\n",
       "      (conv1): Conv2d(128, 128, kernel_size=(3, 3), stride=(1, 1), padding=(1, 1), bias=False)\n",
       "      (bn1): BatchNorm2d(128, eps=1e-05, momentum=0.1, affine=True, track_running_stats=True)\n",
       "      (relu): ReLU(inplace=True)\n",
       "      (conv2): Conv2d(128, 128, kernel_size=(3, 3), stride=(1, 1), padding=(1, 1), bias=False)\n",
       "      (bn2): BatchNorm2d(128, eps=1e-05, momentum=0.1, affine=True, track_running_stats=True)\n",
       "    )\n",
       "  )\n",
       "  (layer3): Sequential(\n",
       "    (0): BasicBlock(\n",
       "      (conv1): Conv2d(128, 256, kernel_size=(3, 3), stride=(2, 2), padding=(1, 1), bias=False)\n",
       "      (bn1): BatchNorm2d(256, eps=1e-05, momentum=0.1, affine=True, track_running_stats=True)\n",
       "      (relu): ReLU(inplace=True)\n",
       "      (conv2): Conv2d(256, 256, kernel_size=(3, 3), stride=(1, 1), padding=(1, 1), bias=False)\n",
       "      (bn2): BatchNorm2d(256, eps=1e-05, momentum=0.1, affine=True, track_running_stats=True)\n",
       "      (downsample): Sequential(\n",
       "        (0): Conv2d(128, 256, kernel_size=(1, 1), stride=(2, 2), bias=False)\n",
       "        (1): BatchNorm2d(256, eps=1e-05, momentum=0.1, affine=True, track_running_stats=True)\n",
       "      )\n",
       "    )\n",
       "    (1): BasicBlock(\n",
       "      (conv1): Conv2d(256, 256, kernel_size=(3, 3), stride=(1, 1), padding=(1, 1), bias=False)\n",
       "      (bn1): BatchNorm2d(256, eps=1e-05, momentum=0.1, affine=True, track_running_stats=True)\n",
       "      (relu): ReLU(inplace=True)\n",
       "      (conv2): Conv2d(256, 256, kernel_size=(3, 3), stride=(1, 1), padding=(1, 1), bias=False)\n",
       "      (bn2): BatchNorm2d(256, eps=1e-05, momentum=0.1, affine=True, track_running_stats=True)\n",
       "    )\n",
       "  )\n",
       "  (layer4): Sequential(\n",
       "    (0): BasicBlock(\n",
       "      (conv1): Conv2d(256, 512, kernel_size=(3, 3), stride=(2, 2), padding=(1, 1), bias=False)\n",
       "      (bn1): BatchNorm2d(512, eps=1e-05, momentum=0.1, affine=True, track_running_stats=True)\n",
       "      (relu): ReLU(inplace=True)\n",
       "      (conv2): Conv2d(512, 512, kernel_size=(3, 3), stride=(1, 1), padding=(1, 1), bias=False)\n",
       "      (bn2): BatchNorm2d(512, eps=1e-05, momentum=0.1, affine=True, track_running_stats=True)\n",
       "      (downsample): Sequential(\n",
       "        (0): Conv2d(256, 512, kernel_size=(1, 1), stride=(2, 2), bias=False)\n",
       "        (1): BatchNorm2d(512, eps=1e-05, momentum=0.1, affine=True, track_running_stats=True)\n",
       "      )\n",
       "    )\n",
       "    (1): BasicBlock(\n",
       "      (conv1): Conv2d(512, 512, kernel_size=(3, 3), stride=(1, 1), padding=(1, 1), bias=False)\n",
       "      (bn1): BatchNorm2d(512, eps=1e-05, momentum=0.1, affine=True, track_running_stats=True)\n",
       "      (relu): ReLU(inplace=True)\n",
       "      (conv2): Conv2d(512, 512, kernel_size=(3, 3), stride=(1, 1), padding=(1, 1), bias=False)\n",
       "      (bn2): BatchNorm2d(512, eps=1e-05, momentum=0.1, affine=True, track_running_stats=True)\n",
       "    )\n",
       "  )\n",
       "  (avgpool): AdaptiveAvgPool2d(output_size=(1, 1))\n",
       "  (fc): Linear(in_features=512, out_features=10, bias=True)\n",
       ")>"
      ]
     },
     "execution_count": 17,
     "metadata": {},
     "output_type": "execute_result"
    }
   ],
   "source": [
    "model.named_modules"
   ]
  },
  {
   "cell_type": "markdown",
   "id": "11be9a8e-24a4-47df-b3bd-fe59f199fdea",
   "metadata": {},
   "source": [
    "# NEURAL NETWORKS"
   ]
  },
  {
   "cell_type": "code",
   "execution_count": 18,
   "id": "3ebdd823-eb04-429e-b57e-c7b3c2ff4a0c",
   "metadata": {},
   "outputs": [
    {
     "name": "stdout",
     "output_type": "stream",
     "text": [
      "Net(\n",
      "  (conv1): Conv2d(1, 6, kernel_size=(5, 5), stride=(1, 1))\n",
      "  (conv2): Conv2d(6, 16, kernel_size=(5, 5), stride=(1, 1))\n",
      "  (fc1): Linear(in_features=400, out_features=120, bias=True)\n",
      "  (fc2): Linear(in_features=120, out_features=84, bias=True)\n",
      "  (fc3): Linear(in_features=84, out_features=10, bias=True)\n",
      ")\n",
      "一次卷积后维度 torch.Size([1, 6, 28, 28])\n",
      "一次池化后维度 torch.Size([1, 6, 14, 14])\n",
      "二次卷积后维度 torch.Size([1, 16, 10, 10])\n",
      "二次池化后维度： torch.Size([1, 16, 5, 5])\n",
      "二次池化x展开后维度 torch.Size([1, 400])\n",
      "tensor([[ 0.1891,  0.0486,  0.0138,  0.0427,  0.0125, -0.2100,  0.1028,  0.0508,\n",
      "         -0.0482,  0.1779]], grad_fn=<AddmmBackward>)\n"
     ]
    }
   ],
   "source": [
    "import torch\n",
    "import torch.nn as nn\n",
    "import torch.nn.functional as F\n",
    "class Net(nn.Module):\n",
    "    def __init__(self):\n",
    "        super(Net, self).__init__()\n",
    "        # 1 input image channel ,6 output channels,5*5 square convolution\n",
    "        # kernel\n",
    "        self.conv1 = nn.Conv2d(1, 6, 5) #单通道，输出6通道，5*5的核大小，生成6通道，5*5的张量\n",
    "        self.conv2 = nn.Conv2d(6, 16, 5)\n",
    "        # an affine operation: y=wx+b\n",
    "        # 5*5 from image dimension,生成120行，400(16*25)列的张量,计算时对该张量先转置，再计算\n",
    "        # 16*5*5必须为输入的列数(维度数),120为输出的维度数\n",
    "        self.fc1 = nn.Linear(16 * 5 * 5, 120) \n",
    "        self.fc2 = nn.Linear(120, 84)\n",
    "        self.fc3 = nn.Linear(84, 10)\n",
    "    #定义正向传播算法\n",
    "    def forward(self,x):\n",
    "        # Max pooling over a (2,2) window\n",
    "        t=F.relu(self.conv1(x))\n",
    "        print('一次卷积后维度',t.shape) #卷积之后，32*32维转为维28*28维度\n",
    "        x=F.max_pool2d(F.relu(self.conv1(x)),(2,2)) #池化层之后，维度将为14     \n",
    "        print('一次池化后维度',x.shape)\n",
    "        # if the size is a square ,you can specify with a single number\n",
    "        t1=self.conv2(x)\n",
    "        print('二次卷积后维度',t1.shape)\n",
    "        x=F.max_pool2d(F.relu(self.conv2(x)),2)\n",
    "        print(\"二次池化后维度：\",x.shape)\n",
    "        x=torch.flatten(x,1) # flatten all dimensions except the batch dimension\n",
    "        print(\"二次池化x展开后维度\",x.shape)\n",
    "        x=F.relu(self.fc1(x)) # 该模型中，一个32*32的单通道图片经过二次池化，并展开后，维度维（1，400）\n",
    "        x=F.relu(self.fc2(x))\n",
    "        x=self.fc3(x)\n",
    "        return x\n",
    "net =Net()\n",
    "print(net)\n",
    "params=list(net.parameters())\n",
    "#print(params) # 输出模型所有参数\n",
    "input=torch.randn(1,1,32,32)\n",
    "out=net(input)\n",
    "print(out)\n"
   ]
  },
  {
   "cell_type": "code",
   "execution_count": 19,
   "id": "7c6e794d-4fd6-4096-bc08-03e60dfdc92b",
   "metadata": {},
   "outputs": [],
   "source": [
    "net.zero_grad() #将随机下降参数设置为0\n",
    "out.backward(torch.randn(1,10)) #反向传播"
   ]
  },
  {
   "cell_type": "code",
   "execution_count": 20,
   "id": "9ec16753-093d-4b66-ae12-5342434587ad",
   "metadata": {},
   "outputs": [],
   "source": [
    "#torch.nn支持一个批次的运算，并非一个单一的样本\n",
    "# for example, nn.Conv2d will take in a 4D Tensor of nSamples x nChannels x Height x Width"
   ]
  },
  {
   "cell_type": "code",
   "execution_count": 21,
   "id": "e1a5d4f7-8098-4df0-af6a-2b7fc8746548",
   "metadata": {},
   "outputs": [
    {
     "name": "stdout",
     "output_type": "stream",
     "text": [
      "torch.Size([10])\n",
      "tensor(0.4785, grad_fn=<MseLossBackward>)\n"
     ]
    }
   ],
   "source": [
    "target=torch.randn(10)\n",
    "print(target.shape)\n",
    "target=target.view(1,-1) #更改随机数组的维度\n",
    "target.shape\n",
    "criterion=nn.MSELoss() # 定义mean-squared error 做为损失函数\n",
    "loss=criterion(out,target) #输出目标值和预测值之间的均方误差\n",
    "print(loss)"
   ]
  },
  {
   "cell_type": "code",
   "execution_count": 22,
   "id": "54502f0a-79e4-4940-92e0-d4145587e615",
   "metadata": {
    "collapsed": true,
    "jupyter": {
     "outputs_hidden": true
    },
    "tags": []
   },
   "outputs": [
    {
     "name": "stdout",
     "output_type": "stream",
     "text": [
      "conv1.bias.grad before backward\n",
      "tensor([0., 0., 0., 0., 0., 0.])\n"
     ]
    },
    {
     "ename": "RuntimeError",
     "evalue": "Trying to backward through the graph a second time (or directly access saved variables after they have already been freed). Saved intermediate values of the graph are freed when you call .backward() or autograd.grad(). Specify retain_graph=True if you need to backward through the graph a second time or if you need to access saved variables after calling backward.",
     "output_type": "error",
     "traceback": [
      "\u001b[1;31m---------------------------------------------------------------------------\u001b[0m",
      "\u001b[1;31mRuntimeError\u001b[0m                              Traceback (most recent call last)",
      "\u001b[1;32m<ipython-input-22-9f2a7403ce0c>\u001b[0m in \u001b[0;36m<module>\u001b[1;34m\u001b[0m\n\u001b[0;32m      3\u001b[0m \u001b[0mprint\u001b[0m\u001b[1;33m(\u001b[0m\u001b[1;34m'conv1.bias.grad before backward'\u001b[0m\u001b[1;33m)\u001b[0m \u001b[1;31m#反向传播前，conv1层的偏置项的值\u001b[0m\u001b[1;33m\u001b[0m\u001b[1;33m\u001b[0m\u001b[0m\n\u001b[0;32m      4\u001b[0m \u001b[0mprint\u001b[0m\u001b[1;33m(\u001b[0m\u001b[0mnet\u001b[0m\u001b[1;33m.\u001b[0m\u001b[0mconv1\u001b[0m\u001b[1;33m.\u001b[0m\u001b[0mbias\u001b[0m\u001b[1;33m.\u001b[0m\u001b[0mgrad\u001b[0m\u001b[1;33m)\u001b[0m\u001b[1;33m\u001b[0m\u001b[1;33m\u001b[0m\u001b[0m\n\u001b[1;32m----> 5\u001b[1;33m \u001b[0mloss\u001b[0m\u001b[1;33m.\u001b[0m\u001b[0mbackward\u001b[0m\u001b[1;33m(\u001b[0m\u001b[1;33m)\u001b[0m\u001b[1;33m\u001b[0m\u001b[1;33m\u001b[0m\u001b[0m\n\u001b[0m\u001b[0;32m      6\u001b[0m \u001b[0mprint\u001b[0m\u001b[1;33m(\u001b[0m\u001b[1;34m'conv1.bias.grad after backward'\u001b[0m\u001b[1;33m)\u001b[0m  \u001b[1;31m#反向传播后，conv1层的偏置项的值\u001b[0m\u001b[1;33m\u001b[0m\u001b[1;33m\u001b[0m\u001b[0m\n\u001b[0;32m      7\u001b[0m \u001b[0mprint\u001b[0m\u001b[1;33m(\u001b[0m\u001b[0mnet\u001b[0m\u001b[1;33m.\u001b[0m\u001b[0mconv1\u001b[0m\u001b[1;33m.\u001b[0m\u001b[0mbias\u001b[0m\u001b[1;33m.\u001b[0m\u001b[0mgrad\u001b[0m\u001b[1;33m)\u001b[0m\u001b[1;33m\u001b[0m\u001b[1;33m\u001b[0m\u001b[0m\n",
      "\u001b[1;32mc:\\python39\\lib\\site-packages\\torch\\_tensor.py\u001b[0m in \u001b[0;36mbackward\u001b[1;34m(self, gradient, retain_graph, create_graph, inputs)\u001b[0m\n\u001b[0;32m    253\u001b[0m                 \u001b[0mcreate_graph\u001b[0m\u001b[1;33m=\u001b[0m\u001b[0mcreate_graph\u001b[0m\u001b[1;33m,\u001b[0m\u001b[1;33m\u001b[0m\u001b[1;33m\u001b[0m\u001b[0m\n\u001b[0;32m    254\u001b[0m                 inputs=inputs)\n\u001b[1;32m--> 255\u001b[1;33m         \u001b[0mtorch\u001b[0m\u001b[1;33m.\u001b[0m\u001b[0mautograd\u001b[0m\u001b[1;33m.\u001b[0m\u001b[0mbackward\u001b[0m\u001b[1;33m(\u001b[0m\u001b[0mself\u001b[0m\u001b[1;33m,\u001b[0m \u001b[0mgradient\u001b[0m\u001b[1;33m,\u001b[0m \u001b[0mretain_graph\u001b[0m\u001b[1;33m,\u001b[0m \u001b[0mcreate_graph\u001b[0m\u001b[1;33m,\u001b[0m \u001b[0minputs\u001b[0m\u001b[1;33m=\u001b[0m\u001b[0minputs\u001b[0m\u001b[1;33m)\u001b[0m\u001b[1;33m\u001b[0m\u001b[1;33m\u001b[0m\u001b[0m\n\u001b[0m\u001b[0;32m    256\u001b[0m \u001b[1;33m\u001b[0m\u001b[0m\n\u001b[0;32m    257\u001b[0m     \u001b[1;32mdef\u001b[0m \u001b[0mregister_hook\u001b[0m\u001b[1;33m(\u001b[0m\u001b[0mself\u001b[0m\u001b[1;33m,\u001b[0m \u001b[0mhook\u001b[0m\u001b[1;33m)\u001b[0m\u001b[1;33m:\u001b[0m\u001b[1;33m\u001b[0m\u001b[1;33m\u001b[0m\u001b[0m\n",
      "\u001b[1;32mc:\\python39\\lib\\site-packages\\torch\\autograd\\__init__.py\u001b[0m in \u001b[0;36mbackward\u001b[1;34m(tensors, grad_tensors, retain_graph, create_graph, grad_variables, inputs)\u001b[0m\n\u001b[0;32m    145\u001b[0m         \u001b[0mretain_graph\u001b[0m \u001b[1;33m=\u001b[0m \u001b[0mcreate_graph\u001b[0m\u001b[1;33m\u001b[0m\u001b[1;33m\u001b[0m\u001b[0m\n\u001b[0;32m    146\u001b[0m \u001b[1;33m\u001b[0m\u001b[0m\n\u001b[1;32m--> 147\u001b[1;33m     Variable._execution_engine.run_backward(\n\u001b[0m\u001b[0;32m    148\u001b[0m         \u001b[0mtensors\u001b[0m\u001b[1;33m,\u001b[0m \u001b[0mgrad_tensors_\u001b[0m\u001b[1;33m,\u001b[0m \u001b[0mretain_graph\u001b[0m\u001b[1;33m,\u001b[0m \u001b[0mcreate_graph\u001b[0m\u001b[1;33m,\u001b[0m \u001b[0minputs\u001b[0m\u001b[1;33m,\u001b[0m\u001b[1;33m\u001b[0m\u001b[1;33m\u001b[0m\u001b[0m\n\u001b[0;32m    149\u001b[0m         allow_unreachable=True, accumulate_grad=True)  # allow_unreachable flag\n",
      "\u001b[1;31mRuntimeError\u001b[0m: Trying to backward through the graph a second time (or directly access saved variables after they have already been freed). Saved intermediate values of the graph are freed when you call .backward() or autograd.grad(). Specify retain_graph=True if you need to backward through the graph a second time or if you need to access saved variables after calling backward."
     ]
    }
   ],
   "source": [
    "# 查看反向传播前后，偏执项前后的差异，由于前面设置了冻结参数，此次执行反向传播会报错\n",
    "net.zero_grad()     # zeroes the gradient buffers of all parameters\n",
    "print('conv1.bias.grad before backward') #反向传播前，conv1层的偏置项的值\n",
    "print(net.conv1.bias.grad)\n",
    "loss.backward()\n",
    "print('conv1.bias.grad after backward')  #反向传播后，conv1层的偏置项的值\n",
    "print(net.conv1.bias.grad)"
   ]
  },
  {
   "cell_type": "code",
   "execution_count": null,
   "id": "a12a861d-fbbd-4572-8119-e3143d28d49c",
   "metadata": {},
   "outputs": [],
   "source": [
    "#update the weights\n",
    "learning_rate=0.01\n",
    "for f in net.parameters():\n",
    "    f.data.sub(f.grad.data * learning_rate)\n",
    "# torch 提供了更新权重的lib (torch.optim),如SGD,Nesterov-SGD,Adam,RMSProp.\n",
    "# 下面演示optim的应用示例：\n",
    "import torch.optim as optim\n",
    "# create your otimizer\n",
    "optimizer=optim.SGD(net.paramters(),lr=0.01)\n",
    "# in training loop:\n",
    "optimizer.zero_grad()\n",
    "output=net(input)\n",
    "loss=criterion(output,target)\n",
    "loss.backward()\n",
    "optimizer.step() # does the update"
   ]
  },
  {
   "cell_type": "code",
   "execution_count": 34,
   "id": "eca14aae-e5e7-4937-a017-ea8e4e93c37e",
   "metadata": {},
   "outputs": [
    {
     "data": {
      "image/png": "[encoded data removed]",
      "text/plain": [
       "<Figure size 432x288 with 1 Axes>"
      ]
     },
     "metadata": {
      "needs_background": "light"
     },
     "output_type": "display_data"
    },
    {
     "data": {
      "image/png": "[encoded data removed]",
      "text/plain": [
       "<Figure size 432x288 with 1 Axes>"
      ]
     },
     "metadata": {
      "needs_background": "light"
     },
     "output_type": "display_data"
    }
   ],
   "source": [
    "import matplotlib.pyplot as plt\n",
    "import torch\n",
    "img1=torch.rand((10,10,3))\n",
    "img2=torch.randint(0,255,(10,10,3))\n",
    "plt.imshow(img1)\n",
    "plt.show()\n",
    "plt.imshow(img2)\n",
    "plt.show()"
   ]
  },
  {
   "cell_type": "code",
   "execution_count": null,
   "id": "cb577def-6ad6-4380-96f2-2559065caf33",
   "metadata": {},
   "outputs": [],
   "source": []
  }
 ],
 "metadata": {
  "kernelspec": {
   "display_name": "Python 3 (ipykernel)",
   "language": "python",
   "name": "python3"
  },
  "language_info": {
   "codemirror_mode": {
    "name": "ipython",
    "version": 3
   },
   "file_extension": ".py",
   "mimetype": "text/x-python",
   "name": "python",
   "nbconvert_exporter": "python",
   "pygments_lexer": "ipython3",
   "version": "3.9.9"
  }
 },
 "nbformat": 4,
 "nbformat_minor": 5
}
