{
 "cells": [
  {
   "cell_type": "markdown",
   "id": "81f40f66-88eb-4e1d-9964-649b94031883",
   "metadata": {},
   "source": [
    "### pytorch 安装配置\n",
    "查看cuda版本，cmd，nvidia-smi 则显示：如下示例：CUDA Version: 11.2"
   ]
  },
  {
   "cell_type": "code",
   "execution_count": 48,
   "id": "3e379db7-f636-4c90-8367-ceff79bc16a7",
   "metadata": {},
   "outputs": [
    {
     "name": "stdout",
     "output_type": "stream",
     "text": [
      "tensor([[  1.,   2.],\n",
      "        [  3.,   5.],\n",
      "        [  5.,   3.],\n",
      "        [600.,   8.],\n",
      "        [  5.,   7.],\n",
      "        [  3.,   6.]])\n",
      "tensor([[0.0017, 0.1463],\n",
      "        [0.0050, 0.3656],\n",
      "        [0.0083, 0.2194],\n",
      "        [0.9999, 0.5850],\n",
      "        [0.0083, 0.5119],\n",
      "        [0.0050, 0.4388]])\n"
     ]
    }
   ],
   "source": [
    "import torch\n",
    "a=torch.tensor([1,3,5,600,5,3.0])\n",
    "b=torch.tensor([2,5,3,8,7,6.0])\n",
    "data=torch.stack([a,b],dim=1)              \n",
    "norm_data=torch.nn.functional.normalize(data,dim=0)  #按列进行标准化\n",
    "print(data)\n",
    "print(norm_data)"
   ]
  },
  {
   "cell_type": "code",
   "execution_count": 75,
   "id": "12de3896-5d22-4cc8-84f9-d79d5d86660b",
   "metadata": {
    "tags": []
   },
   "outputs": [
    {
     "data": {
      "text/plain": [
       "tensor([[ 2.9730e+03, -6.9710e-01, -2.5537e-01,  1.8391e-01,  4.3145e-01,\n",
       "         -8.5754e-01, -4.4181e-01, -6.1396e-01,  1.1652e+00,  1.1576e-01,\n",
       "         -1.5643e+00],\n",
       "        [ 4.3340e+03,  5.2740e-01, -2.1541e+00, -4.8767e-01, -2.2971e-01,\n",
       "         -1.9468e+00, -1.3086e+00, -1.4069e+00, -8.5967e-01,  3.6927e-01,\n",
       "          1.2411e+00]])"
      ]
     },
     "execution_count": 75,
     "metadata": {},
     "output_type": "execute_result"
    }
   ],
   "source": [
    "import numpy as np \n",
    "import pandas as pd\n",
    "#data=np.random.randn(5000,10)\n",
    "#data=pd.DataFrame(data)\n",
    "#data.to_csv(os.path.join(os.getcwd(),'data\\\\test_data.csv'))\n",
    "file_path=os.path.join(os.getcwd(),'data\\\\test_data.csv')\n",
    "data=pd.read_csv(file_path)\n",
    "tensor=torch.Tensor(data.values)\n",
    "length=len(tensor)\n",
    "labels=torch.Tensor(list(range(length)))\n",
    "labels=labels.unsqueeze(1)\n",
    "torch_cat=torch.cat((tensor,labels),1)\n",
    "train_tensor,test_tensor=torch.utils.data.random_split(tensor,[4000,1000])\n",
    "train=torch.utils.data.DataLoader(train_tensor,batch_size=2,shuffle=True)   #从tensor矩阵中随机提取数据\n",
    "next(iter(train))"
   ]
  },
  {
   "cell_type": "code",
   "execution_count": 96,
   "id": "25c570b8-efe2-4504-9b74-86ed570ba8e8",
   "metadata": {},
   "outputs": [],
   "source": [
    "'''\n",
    "自定义dataset类，提取dataframe中的数据，__init__,__len__,__getitem__三个函数必须有\n",
    "可参考pytorch官方文档，自定义dataset\n",
    "'''\n",
    "import os\n",
    "import pandas as pd\n",
    "from torch.utils.data import Dataset\n",
    "\n",
    "class CustomDataset(Dataset):\n",
    "    def __init__(self, dataset_path,labels):\n",
    "        self.data_set = pd.read_csv(dataset_path)\n",
    "        self.labels=labels\n",
    "\n",
    "    def __len__(self):\n",
    "        return len(self.labels)\n",
    "\n",
    "    def __getitem__(self, idx):\n",
    "        data=self.data_set\n",
    "        data=torch.Tensor(data.values)\n",
    "        data=data[idx]\n",
    "        label =self.labels[idx]\n",
    "        return data, label\n",
    "labels=torch.Tensor(list(range(length)))\n",
    "dt=CustomDataset(file_path,labels)    #实例化CustomDataset类，类的实例化传入初始函数中的参数\n",
    "train=torch.utils.data.DataLoader(dt,batch_size=2,shuffle=True)   #直接将类的实例化对象传入即可\n",
    "data_set,label=next(iter(train))"
   ]
  },
  {
   "cell_type": "code",
   "execution_count": null,
   "id": "c5496a10-81bb-4944-85f4-2573fb09bab3",
   "metadata": {},
   "outputs": [],
   "source": []
  }
 ],
 "metadata": {
  "kernelspec": {
   "display_name": "Python 3 (ipykernel)",
   "language": "python",
   "name": "python3"
  },
  "language_info": {
   "codemirror_mode": {
    "name": "ipython",
    "version": 3
   },
   "file_extension": ".py",
   "mimetype": "text/x-python",
   "name": "python",
   "nbconvert_exporter": "python",
   "pygments_lexer": "ipython3",
   "version": "3.9.9"
  }
 },
 "nbformat": 4,
 "nbformat_minor": 5
}
