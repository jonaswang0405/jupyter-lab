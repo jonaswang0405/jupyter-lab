{
 "cells": [
  {
   "cell_type": "code",
   "execution_count": 1,
   "id": "dd11e391-ecb7-4854-a7c2-790fdbb438b3",
   "metadata": {},
   "outputs": [
    {
     "name": "stdout",
     "output_type": "stream",
     "text": [
      "tensor([[  1.,   2.],\n",
      "        [  3.,   5.],\n",
      "        [  5.,   3.],\n",
      "        [600.,   8.],\n",
      "        [  5.,   7.],\n",
      "        [  3.,   6.]])\n",
      "tensor([[0.0017, 0.1463],\n",
      "        [0.0050, 0.3656],\n",
      "        [0.0083, 0.2194],\n",
      "        [0.9999, 0.5850],\n",
      "        [0.0083, 0.5119],\n",
      "        [0.0050, 0.4388]])\n"
     ]
    }
   ],
   "source": [
    "import torch\n",
    "a=torch.tensor([1,3,5,600,5,3.0])\n",
    "b=torch.tensor([2,5,3,8,7,6.0])\n",
    "data=torch.stack([a,b],dim=1)              \n",
    "norm_data=torch.nn.functional.normalize(data,dim=0)  #按列进行标准化\n",
    "print(data)\n",
    "print(norm_data)"
   ]
  },
  {
   "cell_type": "code",
   "execution_count": 3,
   "id": "a88db712-a7f7-41a7-b7c7-ec986750dd44",
   "metadata": {},
   "outputs": [
    {
     "data": {
      "text/plain": [
       "tensor([[ 1.7870e+03, -1.8140e+00,  1.4842e+00,  9.4913e-01, -9.3335e-02,\n",
       "         -1.7700e-01, -6.6785e-01, -1.5671e-01, -1.4106e+00,  7.4195e-01,\n",
       "          3.8999e-02],\n",
       "        [ 4.0050e+03,  1.2821e+00, -4.2488e-03, -5.1614e-01, -8.6254e-01,\n",
       "         -5.1312e-01,  1.4673e+00, -2.1154e-01,  8.4204e-01,  7.4089e-01,\n",
       "          1.5469e-02]])"
      ]
     },
     "execution_count": 3,
     "metadata": {},
     "output_type": "execute_result"
    }
   ],
   "source": [
    "#从dataframe中加载数据\n",
    "import numpy as np \n",
    "import os\n",
    "import pandas as pd\n",
    "#data=np.random.randn(5000,10)\n",
    "#data=pd.DataFrame(data)\n",
    "#data.to_csv(os.path.join(os.getcwd(),'data\\\\test_data.csv'))\n",
    "file_path=os.path.join(os.getcwd(),'data\\\\test_data.csv')\n",
    "data=pd.read_csv(file_path)\n",
    "tensor=torch.Tensor(data.values)\n",
    "length=len(tensor)\n",
    "labels=torch.Tensor(list(range(length)))\n",
    "labels=labels.unsqueeze(1)\n",
    "torch_cat=torch.cat((tensor,labels),1)\n",
    "train_tensor,test_tensor=torch.utils.data.random_split(tensor,[4000,1000])\n",
    "train=torch.utils.data.DataLoader(train_tensor,batch_size=2,shuffle=True)   #从tensor矩阵中随机提取数据\n",
    "next(iter(train))"
   ]
  },
  {
   "cell_type": "code",
   "execution_count": 8,
   "id": "12829eab-3b96-47a0-a7db-1d0728fcfa2e",
   "metadata": {},
   "outputs": [
    {
     "name": "stdout",
     "output_type": "stream",
     "text": [
      "tensor([[ 2.6660e+03, -1.0031e+00,  3.9287e-01, -6.2941e-01, -8.0789e-01,\n",
      "          4.6374e-01, -5.5712e-02,  1.0213e+00, -3.2576e-01, -1.6442e-01,\n",
      "          4.9701e-01],\n",
      "        [ 8.4300e+02, -5.6125e-01, -1.1955e+00,  8.3157e-01, -2.5472e-01,\n",
      "         -8.1902e-01,  3.7078e-01, -3.3378e-01,  1.0817e-01, -2.5823e-01,\n",
      "         -1.5253e+00]]) tensor([2666.,  843.])\n"
     ]
    }
   ],
   "source": [
    "'''\n",
    "自定义dataset类，提取dataframe中的数据，__init__,__len__,__getitem__三个函数必须有\n",
    "可参考pytorch官方文档，自定义dataset.\n",
    "此方法可借用dataloader函数的能力，随机提取datas和labels.\n",
    "'''\n",
    "import os\n",
    "import pandas as pd\n",
    "from torch.utils.data import Dataset\n",
    "from torchvision.transforms import ToTensor #把Converts a PIL Image or numpy.ndarray (H x W x C) to a torch.FloatTensor of shape (C x H x W) in the range [0.0, 1.0]\n",
    "class CustomDataset(Dataset):\n",
    "    def __init__(self, dataset_path,labels):\n",
    "        self.data_set = pd.read_csv(dataset_path)\n",
    "        self.labels=labels\n",
    "\n",
    "    def __len__(self):\n",
    "        return len(self.labels)\n",
    "\n",
    "    def __getitem__(self, idx):\n",
    "        data=self.data_set\n",
    "        data=torch.Tensor(data.values)\n",
    "        data=data[idx]\n",
    "        label =self.labels[idx]\n",
    "        return data, label\n",
    "labels=torch.Tensor(list(range(length)))\n",
    "dt=CustomDataset(file_path,labels)    #实例化CustomDataset类，类的实例化传入初始函数中的参数\n",
    "train=torch.utils.data.DataLoader(dt,batch_size=2,shuffle=True)   #直接将类的实例化对象传入即可\n",
    "data_set,label=next(iter(train))\n",
    "print(data_set,label)"
   ]
  },
  {
   "cell_type": "code",
   "execution_count": null,
   "id": "23e455b2-01ab-44a0-9ad7-4c7ccf198109",
   "metadata": {},
   "outputs": [
    {
     "ename": "TypeError",
     "evalue": "ToTensor() takes no arguments",
     "output_type": "error",
     "traceback": [
      "\u001b[1;31m---------------------------------------------------------------------------\u001b[0m",
      "\u001b[1;31mTypeError\u001b[0m                                 Traceback (most recent call last)",
      "Input \u001b[1;32mIn [7]\u001b[0m, in \u001b[0;36m<module>\u001b[1;34m\u001b[0m\n\u001b[1;32m----> 1\u001b[0m \u001b[43mToTensor\u001b[49m\u001b[43m(\u001b[49m\u001b[43m[\u001b[49m\u001b[38;5;241;43m1\u001b[39;49m\u001b[43m,\u001b[49m\u001b[38;5;241;43m2\u001b[39;49m\u001b[43m,\u001b[49m\u001b[38;5;241;43m34\u001b[39;49m\u001b[43m]\u001b[49m\u001b[43m)\u001b[49m\n",
      "\u001b[1;31mTypeError\u001b[0m: ToTensor() takes no arguments"
     ]
    }
   ],
   "source": [
    "ToTensor("
   ]
  }
 ],
 "metadata": {
  "kernelspec": {
   "display_name": "Python 3 (ipykernel)",
   "language": "python",
   "name": "python3"
  },
  "language_info": {
   "codemirror_mode": {
    "name": "ipython",
    "version": 3
   },
   "file_extension": ".py",
   "mimetype": "text/x-python",
   "name": "python",
   "nbconvert_exporter": "python",
   "pygments_lexer": "ipython3",
   "version": "3.9.9"
  }
 },
 "nbformat": 4,
 "nbformat_minor": 5
}
