{
 "cells": [
  {
   "cell_type": "code",
   "execution_count": 1,
   "id": "cadf938f-9442-4bd3-adff-748b31a0a239",
   "metadata": {},
   "outputs": [
    {
     "name": "stdout",
     "output_type": "stream",
     "text": [
      "['<bbb>', 'i', 'am', 'a', 'boy', ',', 'you', 'are', 'a', 'student', '<aaa>']\n",
      "[1, 7, 4, 2, 6, 3, 9, 5, 2, 8, 0]\n"
     ]
    }
   ],
   "source": [
    "from torchtext.data.utils import get_tokenizer \n",
    "from torchtext.vocab import build_vocab_from_iterator\n",
    "text=\"<bbb> i am a boy, you are a student <aaa>\"\n",
    "tokenizer = get_tokenizer('basic_english')  #指定英语语法进行拆分\n",
    "item=tokenizer(text)  #tokenizer 可把句子按单词进行拆分\n",
    "print(item)\n",
    "vocab = build_vocab_from_iterator(map(tokenizer, item), specials=['<aaa>','<bbb>'])   #构建单词映射器，将单词转换为数值\n",
    "print(vocab(item))"
   ]
  },
  {
   "cell_type": "code",
   "execution_count": null,
   "id": "8e50dd33-1456-4998-a68f-35aef4d8d937",
   "metadata": {},
   "outputs": [],
   "source": []
  }
 ],
 "metadata": {
  "kernelspec": {
   "display_name": "Python 3 (ipykernel)",
   "language": "python",
   "name": "python3"
  },
  "language_info": {
   "codemirror_mode": {
    "name": "ipython",
    "version": 3
   },
   "file_extension": ".py",
   "mimetype": "text/x-python",
   "name": "python",
   "nbconvert_exporter": "python",
   "pygments_lexer": "ipython3",
   "version": "3.9.9"
  }
 },
 "nbformat": 4,
 "nbformat_minor": 5
}
