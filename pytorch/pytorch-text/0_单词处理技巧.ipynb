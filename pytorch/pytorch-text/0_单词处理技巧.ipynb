{
 "cells": [
  {
   "cell_type": "code",
   "execution_count": 1,
   "id": "cadf938f-9442-4bd3-adff-748b31a0a239",
   "metadata": {},
   "outputs": [
    {
     "name": "stdout",
     "output_type": "stream",
     "text": [
      "['<bbb>', 'i', 'am', 'a', 'boy', ',', 'you', 'are', 'a', 'student', '<aaa>']\n",
      "[1, 7, 4, 2, 6, 3, 9, 5, 2, 8, 0]\n"
     ]
    }
   ],
   "source": [
    "from torchtext.data.utils import get_tokenizer \n",
    "from torchtext.vocab import build_vocab_from_iterator\n",
    "text=\"<bbb> i am a boy, you are a student <aaa>\"\n",
    "tokenizer = get_tokenizer('basic_english')  #指定英语语法进行拆分\n",
    "item=tokenizer(text)  #tokenizer 可把句子按单词进行拆分\n",
    "print(item)\n",
    "vocab = build_vocab_from_iterator(map(tokenizer, item), specials=['<aaa>','<bbb>'])   #构建单词映射器，将单词转换为数值\n",
    "print(vocab(item))"
   ]
  },
  {
   "cell_type": "code",
   "execution_count": 8,
   "id": "793ff301-8883-4c5a-865b-9fb902229fd7",
   "metadata": {},
   "outputs": [
    {
     "data": {
      "text/plain": [
       "[1, 7, 4, 2, 6, 3, 9, 5, 2, 8, 0]"
      ]
     },
     "execution_count": 8,
     "metadata": {},
     "output_type": "execute_result"
    }
   ],
   "source": [
    "vocab(item)"
   ]
  },
  {
   "cell_type": "code",
   "execution_count": 10,
   "id": "9a47a378-b737-443b-9408-90c8ef6603d8",
   "metadata": {},
   "outputs": [],
   "source": [
    "item=tokenizer(\"我 是 工作人员\")"
   ]
  },
  {
   "cell_type": "code",
   "execution_count": 12,
   "id": "17e53391-a508-40d2-b9d2-9f7e22a54fe5",
   "metadata": {},
   "outputs": [],
   "source": [
    "v=build_vocab_from_iterator(map(tokenizer, item), specials=['<aaa>','<bbb>']) "
   ]
  },
  {
   "cell_type": "code",
   "execution_count": 15,
   "id": "e17f8101-9fb6-45f3-bfb9-47438b07665b",
   "metadata": {},
   "outputs": [
    {
     "name": "stdout",
     "output_type": "stream",
     "text": [
      "['我']\n",
      "['是']\n",
      "['工作人员']\n"
     ]
    }
   ],
   "source": [
    "for x in map(tokenizer, item):\n",
    "    print(x)"
   ]
  },
  {
   "cell_type": "code",
   "execution_count": null,
   "id": "cf5b083f-24c0-4dc9-8611-c206b546417f",
   "metadata": {},
   "outputs": [],
   "source": []
  }
 ],
 "metadata": {
  "kernelspec": {
   "display_name": "Python 3 (ipykernel)",
   "language": "python",
   "name": "python3"
  },
  "language_info": {
   "codemirror_mode": {
    "name": "ipython",
    "version": 3
   },
   "file_extension": ".py",
   "mimetype": "text/x-python",
   "name": "python",
   "nbconvert_exporter": "python",
   "pygments_lexer": "ipython3",
   "version": "3.9.9"
  }
 },
 "nbformat": 4,
 "nbformat_minor": 5
}
