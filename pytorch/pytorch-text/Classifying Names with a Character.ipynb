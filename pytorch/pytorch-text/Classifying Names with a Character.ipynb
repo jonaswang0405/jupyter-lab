{
 "cells": [
  {
   "cell_type": "markdown",
   "id": "f6a87a28-ebe9-4960-9656-e4ce094cd2ef",
   "metadata": {},
   "source": [
    "### Preparing the Data"
   ]
  },
  {
   "cell_type": "code",
   "execution_count": 2,
   "id": "7629e5ad-d5d3-4106-a4a2-9d56f4a62e6f",
   "metadata": {},
   "outputs": [
    {
     "name": "stdout",
     "output_type": "stream",
     "text": [
      "['C:\\\\Users\\\\DELL\\\\Downloads\\\\data\\\\names\\\\Arabic.txt', 'C:\\\\Users\\\\DELL\\\\Downloads\\\\data\\\\names\\\\Chinese.txt', 'C:\\\\Users\\\\DELL\\\\Downloads\\\\data\\\\names\\\\Czech.txt', 'C:\\\\Users\\\\DELL\\\\Downloads\\\\data\\\\names\\\\Dutch.txt', 'C:\\\\Users\\\\DELL\\\\Downloads\\\\data\\\\names\\\\English.txt', 'C:\\\\Users\\\\DELL\\\\Downloads\\\\data\\\\names\\\\French.txt', 'C:\\\\Users\\\\DELL\\\\Downloads\\\\data\\\\names\\\\German.txt', 'C:\\\\Users\\\\DELL\\\\Downloads\\\\data\\\\names\\\\Greek.txt', 'C:\\\\Users\\\\DELL\\\\Downloads\\\\data\\\\names\\\\Irish.txt', 'C:\\\\Users\\\\DELL\\\\Downloads\\\\data\\\\names\\\\Italian.txt', 'C:\\\\Users\\\\DELL\\\\Downloads\\\\data\\\\names\\\\Japanese.txt', 'C:\\\\Users\\\\DELL\\\\Downloads\\\\data\\\\names\\\\Korean.txt', 'C:\\\\Users\\\\DELL\\\\Downloads\\\\data\\\\names\\\\Polish.txt', 'C:\\\\Users\\\\DELL\\\\Downloads\\\\data\\\\names\\\\Portuguese.txt', 'C:\\\\Users\\\\DELL\\\\Downloads\\\\data\\\\names\\\\Russian.txt', 'C:\\\\Users\\\\DELL\\\\Downloads\\\\data\\\\names\\\\Scottish.txt', 'C:\\\\Users\\\\DELL\\\\Downloads\\\\data\\\\names\\\\Spanish.txt', 'C:\\\\Users\\\\DELL\\\\Downloads\\\\data\\\\names\\\\Vietnamese.txt']\n",
      "Slusarski\n",
      "['Abandonato', 'Abatangelo', 'Abatantuono', 'Abate', 'Abategiovanni']\n"
     ]
    }
   ],
   "source": [
    "from __future__ import unicode_literals, print_function, division\n",
    "from io import open\n",
    "import glob\n",
    "import os\n",
    "path=r'C:\\Users\\DELL\\Downloads\\data\\names\\*.txt'\n",
    "def findFiles(path):return glob.glob(path)\n",
    "print(findFiles(path))\n",
    "import unicodedata\n",
    "import string\n",
    "\n",
    "all_letters = string.ascii_letters +'.,;' #获取A-Z大小写字符及“.,;”\n",
    "n_letters=len(all_letters)\n",
    "\n",
    "def unicodeToAscii(s):\n",
    "    return ''.join(\n",
    "        c for c in unicodedata.normalize('NFD',s)\n",
    "        if unicodedata.category(c)!='Mn'\n",
    "        and c in all_letters\n",
    "        )\n",
    "print(unicodeToAscii('Ślusàrski'))\n",
    "\n",
    "category_lines={}\n",
    "all_categories=[]\n",
    "\n",
    "def readLines(filename):\n",
    "    lines=open(filename,encoding='utf-8').read().strip().split('\\n')\n",
    "    return [unicodeToAscii(line) for line in lines]\n",
    "\n",
    "for filename in findFiles(path):\n",
    "    category=os.path.splitext(os.path.basename(filename))[0]\n",
    "    all_categories.append(category)\n",
    "    lines=readLines(filename)\n",
    "    category_lines[category]=lines\n",
    "n_categories=len(all_categories)\n",
    "print(category_lines['Italian'][:5])"
   ]
  },
  {
   "cell_type": "markdown",
   "id": "041aaeb4-7fef-403a-a536-db5851f8e0ea",
   "metadata": {},
   "source": [
    "### Turning Names into Tensors"
   ]
  },
  {
   "cell_type": "code",
   "execution_count": 3,
   "id": "6b4275da-f24f-4af8-bd40-ef44c4d8d67d",
   "metadata": {},
   "outputs": [
    {
     "name": "stdout",
     "output_type": "stream",
     "text": [
      "tensor([[0., 0., 0., 0., 0., 0., 0., 0., 0., 0., 0., 0., 0., 0., 0., 0., 0., 0.,\n",
      "         0., 0., 0., 0., 0., 0., 0., 0., 0., 0., 0., 0., 0., 0., 0., 0., 0., 1.,\n",
      "         0., 0., 0., 0., 0., 0., 0., 0., 0., 0., 0., 0., 0., 0., 0., 0., 0., 0.,\n",
      "         0.]])\n",
      "torch.Size([5, 1, 55])\n"
     ]
    }
   ],
   "source": [
    "import torch\n",
    "\n",
    "# Find letter index from all_letters, e.g. \"a\" = 0\n",
    "def letterToIndex(letter):\n",
    "    return all_letters.find(letter)\n",
    "\n",
    "# Just for demonstration, turn a letter into a <1 x n_letters> Tensor\n",
    "def letterToTensor(letter):\n",
    "    tensor = torch.zeros(1, n_letters)\n",
    "    tensor[0][letterToIndex(letter)] = 1\n",
    "    return tensor\n",
    "\n",
    "# Turn a line into a <line_length x 1 x n_letters>,\n",
    "# or an array of one-hot letter vectors\n",
    "def lineToTensor(line):\n",
    "    tensor = torch.zeros(len(line), 1, n_letters)\n",
    "    for li, letter in enumerate(line):\n",
    "        tensor[li][0][letterToIndex(letter)] = 1\n",
    "    return tensor\n",
    "\n",
    "print(letterToTensor('J'))\n",
    "\n",
    "print(lineToTensor('Jones').size())"
   ]
  },
  {
   "cell_type": "code",
   "execution_count": 37,
   "id": "2d9d5d4c-16a6-4c1d-b7be-a805ca5499dd",
   "metadata": {},
   "outputs": [
    {
     "name": "stdout",
     "output_type": "stream",
     "text": [
      "tensor([    9,  9606, 25610,  ...,     9,     9,     9])\n"
     ]
    }
   ],
   "source": [
    "from torchtext.datasets import WikiText2\n",
    "from torchtext.data.utils import get_tokenizer\n",
    "from torchtext.vocab import build_vocab_from_iterator\n",
    "\n",
    "train_iter = WikiText2(split='train')\n",
    "tokenizer = get_tokenizer('basic_english')\n",
    "vocab = build_vocab_from_iterator(map(tokenizer, train_iter), specials=['<unk>'])\n",
    "vocab.set_default_index(vocab['<unk>'])\n",
    "\n",
    "def data_process(raw_text_iter: dataset.IterableDataset) -> Tensor:\n",
    "    \"\"\"Converts raw text into a flat Tensor.\"\"\"\n",
    "    data = [torch.tensor(vocab(tokenizer(item)), dtype=torch.long) for item in raw_text_iter]\n",
    "    return torch.cat(tuple(filter(lambda t: t.numel() > 0, data)))\n",
    "\n",
    "# train_iter was \"consumed\" by the process of building the vocab,\n",
    "# so we have to create it again\n",
    "train_iter, val_iter, test_iter = WikiText2()\n",
    "train_data = data_process(train_iter)\n",
    "val_data = data_process(val_iter)\n",
    "test_data = data_process(test_iter)\n",
    "\n",
    "device = torch.device('cuda' if torch.cuda.is_available() else 'cpu')\n",
    "\n",
    "def batchify(data: Tensor, bsz: int) -> Tensor:\n",
    "    \"\"\"Divides the data into bsz separate sequences, removing extra elements\n",
    "    that wouldn't cleanly fit.\n",
    "\n",
    "    Args:\n",
    "        data: Tensor, shape [N]\n",
    "        bsz: int, batch size\n",
    "\n",
    "    Returns:\n",
    "        Tensor of shape [N // bsz, bsz]\n",
    "    \"\"\"\n",
    "    seq_len = data.size(0) // bsz\n",
    "    data = data[:seq_len * bsz]\n",
    "    data = data.view(bsz, seq_len).t().contiguous()\n",
    "    return data.to(device)\n",
    "\n",
    "batch_size = 20\n",
    "eval_batch_size = 10\n",
    "train_data = batchify(train_data, batch_size)  # shape [seq_len, batch_size]\n",
    "val_data = batchify(val_data, eval_batch_size)\n",
    "test_data = batchify(test_data, eval_batch_size)"
   ]
  },
  {
   "cell_type": "markdown",
   "id": "0d564e30-4797-4003-914b-c58a228934d9",
   "metadata": {},
   "source": [
    "### Turning Names into Tensors"
   ]
  },
  {
   "cell_type": "code",
   "execution_count": 8,
   "id": "6fc393b5-725c-40b2-82ca-cbcf01d0bbdb",
   "metadata": {},
   "outputs": [
    {
     "name": "stdout",
     "output_type": "stream",
     "text": [
      "tensor([[0., 0., 0., 0., 0., 0., 0., 0., 0., 0., 0., 0., 0., 0., 0., 0., 0., 0.,\n",
      "         0., 0., 0., 0., 0., 0., 0., 0., 0., 0., 0., 0., 0., 0., 0., 0., 0., 1.,\n",
      "         0., 0., 0., 0., 0., 0., 0., 0., 0., 0., 0., 0., 0., 0., 0., 0., 0., 0.,\n",
      "         0.]])\n",
      "torch.Size([5, 1, 55])\n"
     ]
    }
   ],
   "source": [
    "import torch\n",
    "\n",
    "# Find letter index from all_letters, e.g. \"a\" = 0\n",
    "def letterToIndex(letter):\n",
    "    return all_letters.find(letter)\n",
    "\n",
    "# Just for demonstration, turn a letter into a <1 x n_letters> Tensor\n",
    "def letterToTensor(letter):\n",
    "    tensor = torch.zeros(1, n_letters)\n",
    "    tensor[0][letterToIndex(letter)] = 1\n",
    "    return tensor\n",
    "\n",
    "# Turn a line into a <line_length x 1 x n_letters>,\n",
    "# or an array of one-hot letter vectors\n",
    "def lineToTensor(line):\n",
    "    tensor = torch.zeros(len(line), 1, n_letters)\n",
    "    for li, letter in enumerate(line):\n",
    "        tensor[li][0][letterToIndex(letter)] = 1\n",
    "    return tensor\n",
    "\n",
    "print(letterToTensor('J'))\n",
    "print(lineToTensor('Jones').size())"
   ]
  },
  {
   "cell_type": "markdown",
   "id": "f09cd835-caa2-4d3b-b580-a3fe077cbdd3",
   "metadata": {},
   "source": [
    "### Creating the Network"
   ]
  },
  {
   "cell_type": "code",
   "execution_count": 9,
   "id": "c44c5be1-fa7a-4462-937f-e1542f0d892e",
   "metadata": {},
   "outputs": [],
   "source": [
    "import torch.nn as nn\n",
    "\n",
    "class RNN(nn.Module):\n",
    "    def __init__(self, input_size, hidden_size, output_size):\n",
    "        super(RNN, self).__init__()\n",
    "\n",
    "        self.hidden_size = hidden_size\n",
    "\n",
    "        self.i2h = nn.Linear(input_size + hidden_size, hidden_size)\n",
    "        self.i2o = nn.Linear(input_size + hidden_size, output_size)\n",
    "        self.softmax = nn.LogSoftmax(dim=1)\n",
    "\n",
    "    def forward(self, input, hidden):\n",
    "        combined = torch.cat((input, hidden), 1)\n",
    "        hidden = self.i2h(combined)\n",
    "        output = self.i2o(combined)\n",
    "        output = self.softmax(output)\n",
    "        return output, hidden\n",
    "\n",
    "    def initHidden(self):\n",
    "        return torch.zeros(1, self.hidden_size)\n",
    "\n",
    "n_hidden = 128\n",
    "rnn = RNN(n_letters, n_hidden, n_categories)"
   ]
  },
  {
   "cell_type": "code",
   "execution_count": 11,
   "id": "5e73c191-5a33-463d-8278-7e0ba969aa7e",
   "metadata": {},
   "outputs": [
    {
     "name": "stdout",
     "output_type": "stream",
     "text": [
      "tensor([[-2.8634, -2.9208, -2.9325, -2.8143, -2.8139, -2.9034, -2.9146, -2.9824,\n",
      "         -2.7852, -2.9411, -2.9637, -2.9338, -2.7963, -2.9411, -2.8555, -2.9263,\n",
      "         -2.8669, -2.9015]], grad_fn=<LogSoftmaxBackward0>)\n"
     ]
    }
   ],
   "source": [
    "#使用简单文本，测试模型\n",
    "input = lineToTensor('Albert')\n",
    "hidden = torch.zeros(1, n_hidden)\n",
    "output, next_hidden = rnn(input[0], hidden)\n",
    "print(output)"
   ]
  },
  {
   "cell_type": "markdown",
   "id": "23097630-4af4-417a-812a-9b66cd5ba63e",
   "metadata": {},
   "source": [
    "## Training"
   ]
  },
  {
   "cell_type": "code",
   "execution_count": 43,
   "id": "c0e95f6c-335e-43f4-820d-986699c05d48",
   "metadata": {},
   "outputs": [
    {
     "name": "stdout",
     "output_type": "stream",
     "text": [
      "('Vietnamese', 17)\n"
     ]
    }
   ],
   "source": [
    "#从output中提取最大的类别及索引\n",
    "def categoryFormOutput(output):\n",
    "    top_n,top_i=output.topk(1)  #Tensor.topk to get the index of the greatest value\n",
    "    category_i=top_i[0].item()\n",
    "    return all_categories[category_i],category_i\n",
    "print(categoryFromOutput(output))"
   ]
  },
  {
   "cell_type": "code",
   "execution_count": 44,
   "id": "209de4c5-99e5-4703-9b25-b33515583449",
   "metadata": {},
   "outputs": [
    {
     "name": "stdout",
     "output_type": "stream",
     "text": [
      "category = Korean / line = Song\n",
      "category = Chinese / line = Xiang\n",
      "category = Spanish / line = Holguin\n",
      "category = Arabic / line = Naifeh\n",
      "category = Italian / line = Negrini\n",
      "category = French / line = Gagnon\n",
      "category = Italian / line = Abrami\n",
      "category = Korean / line = Shin\n",
      "category = Polish / line = Sokolsky\n",
      "category = Chinese / line = Xie\n"
     ]
    }
   ],
   "source": [
    "import random\n",
    "#从变量中随机输出一个索引\n",
    "def randomChoice(l):\n",
    "    return l[random.randint(0, len(l) - 1)]\n",
    "#随机输出一个字符的类别、字符、类别索引，字符张量\n",
    "def randomTrainingExample():\n",
    "    category = randomChoice(all_categories)\n",
    "    line = randomChoice(category_lines[category])\n",
    "    category_tensor = torch.tensor([all_categories.index(category)], dtype=torch.long)\n",
    "    line_tensor = lineToTensor(line)\n",
    "    return category, line, category_tensor, line_tensor\n",
    "for i in range(10):\n",
    "    category, line, category_tensor, line_tensor = randomTrainingExample()\n",
    "    print('category =', category, '/ line =', line)"
   ]
  },
  {
   "cell_type": "code",
   "execution_count": 45,
   "id": "c54e8679-0779-49e8-a5db-c27fc4ed7581",
   "metadata": {},
   "outputs": [],
   "source": [
    "criterion=nn.NLLLoss()\n",
    "learning_rate=0.005\n",
    "def tain(category_tensor,line_tensor):\n",
    "    hidden=rnn.initHidden()\n",
    "    rnn.zero_grad()\n",
    "    for i in range(line_tensor.size()[0]):\n",
    "        output, hidden = rnn(line_tensor[i], hidden)\n",
    "    loss = criterion(output, category_tensor)\n",
    "    loss.backward()\n",
    "    # Add parameters' gradients to their values, multiplied by learning rate\n",
    "    for p in rnn.parameters():\n",
    "        p.data.add_(p.grad.data, alpha=-learning_rate)\n",
    "    return output, loss.item()"
   ]
  },
  {
   "cell_type": "code",
   "execution_count": 47,
   "id": "ac0ec986-3fd8-43a1-88cb-8470d80f2e7e",
   "metadata": {},
   "outputs": [
    {
     "name": "stdout",
     "output_type": "stream",
     "text": [
      "5000 5% (0m 5s) 2.2489 Carey / Portuguese ✗ (Irish)\n",
      "10000 10% (0m 12s) 0.7440 Saeki / Japanese ✓\n",
      "15000 15% (0m 18s) 1.4261 Vozab / Arabic ✗ (Czech)\n",
      "20000 20% (0m 23s) 1.0370 Lieu / Vietnamese ✓\n",
      "25000 25% (0m 29s) 2.0764 Thien / Vietnamese ✗ (Chinese)\n",
      "30000 30% (0m 35s) 0.8313 Fabron / French ✓\n",
      "35000 35% (0m 41s) 0.7178 Roosevelt / Dutch ✓\n",
      "40000 40% (0m 47s) 0.3470 Finnegan / Irish ✓\n",
      "45000 45% (0m 53s) 0.0618 Ieyasu / Japanese ✓\n",
      "50000 50% (0m 59s) 1.2076 Pokorny / Polish ✓\n",
      "55000 55% (1m 4s) 2.0903 Scott / English ✗ (Scottish)\n",
      "60000 60% (1m 10s) 0.3808 Byon / Korean ✓\n",
      "65000 65% (1m 16s) 0.0006 Chrysanthopoulos / Greek ✓\n",
      "70000 70% (1m 22s) 0.5135 Rocha / Portuguese ✓\n",
      "75000 75% (1m 28s) 4.4206 Desmond / Scottish ✗ (Irish)\n",
      "80000 80% (1m 34s) 1.3594 Derrien / French ✗ (English)\n",
      "85000 85% (1m 40s) 1.8859 Solberg / Dutch ✗ (German)\n",
      "90000 90% (1m 46s) 0.5035 Yong / Chinese ✓\n",
      "95000 95% (1m 51s) 0.6131 Mo / Korean ✓\n",
      "100000 100% (1m 57s) 0.6418 Kui / Chinese ✓\n"
     ]
    }
   ],
   "source": [
    "import time\n",
    "import math\n",
    "n_iters=100000\n",
    "print_every=5000\n",
    "plot_every=1000\n",
    "current_loss=0\n",
    "all_losses=[]\n",
    "def timeSince(since):\n",
    "    now=time.time()\n",
    "    s=now-since\n",
    "    m=math.floor(s/60)\n",
    "    s-=m*60\n",
    "    return '%dm %ds'  % (m,s)\n",
    "start =time.time()\n",
    "\n",
    "for iter in range(1,n_iters+1):\n",
    "    category,line,category_tensor,line_tensor=randomTrainingExample()\n",
    "    output,loss=tain(category_tensor,line_tensor)\n",
    "    current_loss +=loss\n",
    "    \n",
    "    if iter % print_every==0:\n",
    "        guess,guess_i=categoryFormOutput(output)\n",
    "        correct = '✓' if guess == category else '✗ (%s)' % category\n",
    "        print('%d %d%% (%s) %.4f %s / %s %s' % (iter, iter / n_iters * 100,\n",
    "                                                timeSince(start), loss, line, guess, correct))\n",
    "    if iter% plot_every==0:\n",
    "        all_losses.append(current_loss/plot_every)\n",
    "        current_loss=0"
   ]
  },
  {
   "cell_type": "markdown",
   "id": "9782ce15-07e7-426d-b94a-57ace0453ce2",
   "metadata": {},
   "source": [
    "### plotting the result"
   ]
  },
  {
   "cell_type": "code",
   "execution_count": 48,
   "id": "f4a54421-e501-4894-b245-9ce1315da980",
   "metadata": {},
   "outputs": [
    {
     "data": {
      "text/plain": [
       "[<matplotlib.lines.Line2D at 0x27d2b2bd1f0>]"
      ]
     },
     "execution_count": 48,
     "metadata": {},
     "output_type": "execute_result"
    },
    {
     "data": {
      "image/png": "[encoded data removed]",
      "text/plain": [
       "<Figure size 432x288 with 1 Axes>"
      ]
     },
     "metadata": {
      "needs_background": "light"
     },
     "output_type": "display_data"
    }
   ],
   "source": [
    "import matplotlib.pyplot as plt\n",
    "import matplotlib.ticker as ticker\n",
    "plt.figure()\n",
    "plt.plot(all_losses)\n"
   ]
  },
  {
   "cell_type": "code",
   "execution_count": 58,
   "id": "f2537226-0033-4f63-88bc-6d6ff41dbea2",
   "metadata": {},
   "outputs": [
    {
     "name": "stderr",
     "output_type": "stream",
     "text": [
      "C:\\Users\\DELL\\AppData\\Local\\Temp/ipykernel_21624/3585656379.py:33: UserWarning: FixedFormatter should only be used together with FixedLocator\n",
      "  ax.set_xticklabels([''] + all_categories, rotation=90)\n",
      "C:\\Users\\DELL\\AppData\\Local\\Temp/ipykernel_21624/3585656379.py:34: UserWarning: FixedFormatter should only be used together with FixedLocator\n",
      "  ax.set_yticklabels([''] + all_categories)\n"
     ]
    },
    {
     "data": {
      "image/png": "[encoded data removed]",
      "text/plain": [
       "<Figure size 432x288 with 2 Axes>"
      ]
     },
     "metadata": {
      "needs_background": "light"
     },
     "output_type": "display_data"
    }
   ],
   "source": [
    "# Keep track of correct guesses in a confusion matrix\n",
    "confusion = torch.zeros(n_categories, n_categories)\n",
    "n_confusion = 10000\n",
    "\n",
    "# Just return an output given a line\n",
    "def evaluate(line_tensor):\n",
    "    hidden = rnn.initHidden()\n",
    "\n",
    "    for i in range(line_tensor.size()[0]):\n",
    "        output, hidden = rnn(line_tensor[i], hidden)\n",
    "\n",
    "    return output\n",
    "\n",
    "# Go through a bunch of examples and record which are correctly guessed\n",
    "for i in range(n_confusion):\n",
    "    category, line, category_tensor, line_tensor = randomTrainingExample()\n",
    "    output = evaluate(line_tensor)\n",
    "    guess, guess_i = categoryFromOutput(output)\n",
    "    category_i = all_categories.index(category)\n",
    "    confusion[category_i][guess_i] += 1\n",
    "\n",
    "# Normalize by dividing every row by its sum\n",
    "for i in range(n_categories):\n",
    "    confusion[i] = confusion[i] / confusion[i].sum()\n",
    "\n",
    "# Set up plot\n",
    "fig = plt.figure()\n",
    "ax = fig.add_subplot(111)\n",
    "cax = ax.matshow(confusion.numpy())\n",
    "fig.colorbar(cax)\n",
    "\n",
    "# Set up axes\n",
    "ax.set_xticklabels([''] + all_categories, rotation=90)\n",
    "ax.set_yticklabels([''] + all_categories)\n",
    "\n",
    "# Force label at every tick 强制设置X,Y轴上的每种语言都显示\n",
    "ax.xaxis.set_major_locator(ticker.MultipleLocator(1))\n",
    "ax.yaxis.set_major_locator(ticker.MultipleLocator(1))\n",
    "\n",
    "# sphinx_gallery_thumbnail_number = 2\n",
    "plt.show()"
   ]
  },
  {
   "cell_type": "code",
   "execution_count": 65,
   "id": "d96bd1bd-e719-4573-a0a1-34de9f075044",
   "metadata": {},
   "outputs": [
    {
     "name": "stdout",
     "output_type": "stream",
     "text": [
      "\n",
      "> Dovesky\n",
      "(-0.78) Russian\n",
      "(-1.23) Czech\n",
      "(-2.19) Irish\n",
      "\n",
      "> Jackson\n",
      "(-0.35) Scottish\n",
      "(-2.07) English\n",
      "(-2.90) Czech\n",
      "\n",
      "> Satoshi\n",
      "(-0.40) Arabic\n",
      "(-2.01) Japanese\n",
      "(-2.74) Portuguese\n"
     ]
    }
   ],
   "source": [
    "def predict(input_line, n_predictions=3):\n",
    "    print('\\n> %s' % input_line)\n",
    "    with torch.no_grad():\n",
    "        output = evaluate(lineToTensor(input_line))\n",
    "\n",
    "        # Get top N categories\n",
    "        topv, topi = output.topk(n_predictions, 1, True)\n",
    "        predictions = []\n",
    "\n",
    "        for i in range(n_predictions):\n",
    "            value = topv[0][i].item()\n",
    "            category_index = topi[0][i].item()\n",
    "            print('(%.2f) %s' % (value, all_categories[category_index]))\n",
    "            predictions.append([value, all_categories[category_index]])\n",
    "\n",
    "predict('Dovesky')\n",
    "predict('Jackson')\n",
    "predict('Satoshi')"
   ]
  },
  {
   "cell_type": "code",
   "execution_count": null,
   "id": "255659dd-0872-457d-9613-9b181f7bc434",
   "metadata": {},
   "outputs": [],
   "source": []
  }
 ],
 "metadata": {
  "kernelspec": {
   "display_name": "Python 3 (ipykernel)",
   "language": "python",
   "name": "python3"
  },
  "language_info": {
   "codemirror_mode": {
    "name": "ipython",
    "version": 3
   },
   "file_extension": ".py",
   "mimetype": "text/x-python",
   "name": "python",
   "nbconvert_exporter": "python",
   "pygments_lexer": "ipython3",
   "version": "3.9.9"
  }
 },
 "nbformat": 4,
 "nbformat_minor": 5
}
