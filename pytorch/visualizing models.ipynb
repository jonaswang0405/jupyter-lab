{
 "cells": [
  {
   "cell_type": "code",
   "execution_count": 1,
   "id": "32738465-b0f8-4c2f-b698-449ac2ccfc7e",
   "metadata": {},
   "outputs": [
    {
     "name": "stdout",
     "output_type": "stream",
     "text": [
      "Parent\n",
      "Child\n",
      "HelloWorld from Parent\n",
      "Child bar fuction\n",
      "I'm the parent.\n",
      "\n",
      "Parent\n",
      "I'm the parent.\n"
     ]
    }
   ],
   "source": [
    "# super函数的使用说明：\n",
    "#__init__为类初始化，只要一声明类，则执行__init__()\n",
    "class Parent(object):\n",
    "    def __init__(self):\n",
    "        self.parent = 'I\\'m the parent.'\n",
    "        print ('Parent')    \n",
    "    \n",
    "    def bar(self,message):\n",
    "        print (\"%s from Parent\" % message)\n",
    " \n",
    "class Child(Parent):\n",
    "    def __init__(self):\n",
    "        # super(Child,self) 首先找到 Child 的父类，然后把类 Child 的对象转换为类 Parent 的对象\n",
    "        super(Child,self).__init__()    \n",
    "        print ('Child')\n",
    "        \n",
    "    def bar(self,message):\n",
    "        super().bar(message)  #调用父类的bar函数\n",
    "        print ('Child bar fuction')\n",
    "        print (self.parent)  #self.parent 输出bar的父类\n",
    " \n",
    "if __name__ == '__main__':\n",
    "    Child = Child()\n",
    "    Child.bar('HelloWorld')\n",
    "    print('')\n",
    "    print(Parent().parent)"
   ]
  },
  {
   "cell_type": "code",
   "execution_count": 81,
   "id": "7b76e3c6-e162-4369-b53a-e511fb533572",
   "metadata": {},
   "outputs": [],
   "source": [
    "import matplotlib.pyplot as plt\n",
    "import numpy as np\n",
    "import torch\n",
    "import torchvision\n",
    "import torchvision.transforms as transforms\n",
    "\n",
    "import torch.nn as nn\n",
    "import torch.nn.functional as F\n",
    "import torch.optim as optim\n",
    "# transforms\n",
    "transform=transforms.Compose([transforms.ToTensor(),\n",
    "                             transforms.Normalize((0.5,),(0.5,))]) #normalize对数据按均值和标准差进行归一化\n",
    "\n",
    "# datasets\n",
    "trainset=torchvision.datasets.FashionMNIST('./data',download=True,\n",
    "                                          train=True,transform=transform)\n",
    "testset=torchvision.datasets.FashionMNIST('./data',download=True,\n",
    "                                         train=False,transform=transform)\n",
    "#dataloaders\n",
    "trainloader=torch.utils.data.DataLoader(trainset,batch_size=4,shuffle=True,num_workers=2)  #每次读取4张图片，shuffle为随机读取，使用2核\n",
    "#dataloaders\n",
    "testloader=torch.utils.data.DataLoader(trainset,batch_size=4,shuffle=False,num_workers=2)\n",
    "# constant for classes\n",
    "classes = ('T-shirt/top', 'Trouser', 'Pullover', 'Dress', 'Coat',\n",
    "        'Sandal', 'Shirt', 'Sneaker', 'Bag', 'Ankle Boot')\n",
    "# helper function to show an image\n",
    "# (used in the `plot_classes_preds` function below)\n",
    "def matplotlib_imshow(img, one_channel=False):\n",
    "    if one_channel:\n",
    "        img = img.mean(dim=0)\n",
    "    img = img / 2 + 0.5     # unnormalize\n",
    "    npimg = img.numpy()\n",
    "    if one_channel:\n",
    "        plt.imshow(npimg, cmap=\"Greys\")\n",
    "    else:\n",
    "        plt.imshow(np.transpose(npimg, (1, 2, 0))) #np.transponse 按索引位置转换通道"
   ]
  },
  {
   "cell_type": "code",
   "execution_count": 114,
   "id": "778deca9-1692-41e5-89e4-e3a61d597975",
   "metadata": {},
   "outputs": [
    {
     "data": {
      "text/plain": [
       "Dataset FashionMNIST\n",
       "    Number of datapoints: 60000\n",
       "    Root location: ./data\n",
       "    Split: Train\n",
       "    StandardTransform\n",
       "Transform: Compose(\n",
       "               ToTensor()\n",
       "               Normalize(mean=(0.5,), std=(0.5,))\n",
       "           )"
      ]
     },
     "execution_count": 114,
     "metadata": {},
     "output_type": "execute_result"
    }
   ],
   "source": [
    "trainset"
   ]
  },
  {
   "cell_type": "code",
   "execution_count": 82,
   "id": "0f86135f-fcb2-4c6c-9fdb-c3cf927e648e",
   "metadata": {},
   "outputs": [],
   "source": [
    "class Net(nn.Module):\n",
    "    def __init__(self):\n",
    "        super(Net, self).__init__()\n",
    "        self.conv1 = nn.Conv2d(1, 6, 5)\n",
    "        self.pool = nn.MaxPool2d(2, 2)\n",
    "        self.conv2 = nn.Conv2d(6, 16, 5)\n",
    "        self.fc1 = nn.Linear(16 * 4 * 4, 120)\n",
    "        self.fc2 = nn.Linear(120, 84)\n",
    "        self.fc3 = nn.Linear(84, 10)\n",
    "\n",
    "    def forward(self, x):\n",
    "        x = self.pool(F.relu(self.conv1(x)))\n",
    "        x = self.pool(F.relu(self.conv2(x)))\n",
    "        x = x.view(-1, 16 * 4 * 4)\n",
    "        x = F.relu(self.fc1(x))\n",
    "        x = F.relu(self.fc2(x))\n",
    "        x = self.fc3(x)\n",
    "        return x\n",
    "\n",
    "\n",
    "net = Net() \n",
    "criterion = nn.CrossEntropyLoss()  #定义损失函数\n",
    "optimizer = optim.SGD(net.parameters(), lr=0.001, momentum=0.9)  #定义优化器"
   ]
  },
  {
   "cell_type": "code",
   "execution_count": 83,
   "id": "3e1cbb33-c095-4bde-b873-4ea6e1ab8f55",
   "metadata": {},
   "outputs": [],
   "source": [
    "# TensorBoard setup\n",
    "from torch.utils.tensorboard import SummaryWriter\n",
    "# default `log_dir` is \"runs\" - we'll be more specific here\n",
    "writer = SummaryWriter('runs/fashion_mnist_experiment_1') #将会创建runs/fashion_mnist_experiment_1文件夹"
   ]
  },
  {
   "cell_type": "code",
   "execution_count": 84,
   "id": "882596e5-e60b-4946-9ed7-03fc3c6a32bf",
   "metadata": {},
   "outputs": [
    {
     "data": {
      "image/png": "[encoded data removed]",
      "text/plain": [
       "<Figure size 432x288 with 1 Axes>"
      ]
     },
     "metadata": {
      "needs_background": "light"
     },
     "output_type": "display_data"
    }
   ],
   "source": [
    "# writing to TensorBoard\n",
    "# get some random training images\n",
    "dataiter = iter(trainloader)\n",
    "images, labels = dataiter.next()\n",
    "\n",
    "# create grid of images\n",
    "img_grid = torchvision.utils.make_grid(images)  #将batch=4的4通道图片转成一张三通道图片，并添加方格\n",
    "\n",
    "# show images\n",
    "matplotlib_imshow(img_grid, one_channel=True)\n",
    "\n",
    "# write to tensorboard\n",
    "writer.add_image('four_fashion_mnist_images', img_grid)\n",
    "\n",
    "#在命令窗口，cd /d 该脚本路径，执行tensorboard --logdir=runs，在浏览器打开http://localhost:6006查看视觉结果"
   ]
  },
  {
   "cell_type": "code",
   "execution_count": 85,
   "id": "fa388a67-8227-4fc6-b61d-eec3daae4b68",
   "metadata": {},
   "outputs": [],
   "source": [
    "#添加graph菜单，显示模型结构\n",
    "writer.add_graph(net,images)   \n",
    "writer.close()"
   ]
  },
  {
   "cell_type": "code",
   "execution_count": 86,
   "id": "15b0c3ad-fa50-43e0-a791-8d47cd485800",
   "metadata": {},
   "outputs": [],
   "source": [
    "import tensorflow as tf\n",
    "import tensorboard as tb\n",
    "tf.io.gfile = tb.compat.tensorflow_stub.io.gfile #设置次语句，为了避免报错，否则torch和tensorflow好像有冲突\n",
    "# helper function\n",
    "def select_n_random(data,labels,n=100):\n",
    "    # Selects n random datapoints and their corresponding labels from a dataset\n",
    "    assert len(data)==len(labels)\n",
    "    perm=torch.randperm(len(data)) #randperm 生成整数张量数组，顺序随机打乱\n",
    "    return data[perm][:n],labels[perm][:n]\n",
    "\n",
    "# select random images and their target indices\n",
    "images, labels = select_n_random(trainset.data, trainset.targets)\n",
    "\n",
    "#get the class labels for each image\n",
    "class_labels = [classes[lab] for lab in labels] #获取labels的索引列表中获取名称\n",
    "# log embeddings\n",
    "features = images.view(-1, 28 * 28)\n",
    "# writer.add_embedding 对数据降维，将高维数据映射到3维数据，并在projecter中查看映射效果\n",
    "writer.add_embedding(features,\n",
    "                     metadata=class_labels, \n",
    "                     label_img=images.unsqueeze(1)) #unsqueeze 增加images的维度\n",
    "writer.close()\n"
   ]
  },
  {
   "cell_type": "code",
   "execution_count": 90,
   "id": "6fa40767-57eb-45e8-aac4-0ad8fb3138ae",
   "metadata": {},
   "outputs": [],
   "source": [
    "# helper functions\n",
    "\n",
    "def images_to_probs(net, images):\n",
    "    '''\n",
    "    Generates predictions and corresponding probabilities from a trained\n",
    "    network and a list of images\n",
    "    '''\n",
    "    output = net(images)\n",
    "    # convert output probabilities to predicted class\n",
    "    _, preds_tensor = torch.max(output, 1)    #提取每个预测类别中最大的元素的位置\n",
    "    preds = np.squeeze(preds_tensor.numpy())\n",
    "    return preds, [F.softmax(el, dim=0)[i].item() for i, el in zip(preds, output)]\n",
    "\n",
    "\n",
    "def plot_classes_preds(net, images, labels):\n",
    "    '''\n",
    "    Generates matplotlib Figure using a trained network, along with images\n",
    "    and labels from a batch, that shows the network's top prediction along\n",
    "    with its probability, alongside the actual label, coloring this\n",
    "    information based on whether the prediction was correct or not.\n",
    "    Uses the \"images_to_probs\" function.\n",
    "    '''\n",
    "    preds, probs = images_to_probs(net, images)\n",
    "    # plot the images in the batch, along with predicted and true labels\n",
    "    fig = plt.figure(figsize=(12, 48))\n",
    "    for idx in np.arange(4):\n",
    "        ax = fig.add_subplot(1, 4, idx+1, xticks=[], yticks=[])\n",
    "        matplotlib_imshow(images[idx], one_channel=True)\n",
    "        ax.set_title(\"{0}, {1:.1f}%\\n(label: {2})\".format(\n",
    "            classes[preds[idx]],\n",
    "            probs[idx] * 100.0,\n",
    "            classes[labels[idx]]),\n",
    "                    color=(\"green\" if preds[idx]==labels[idx].item() else \"red\"))\n",
    "    return fig\n",
    "running_loss = 0.0\n",
    "for epoch in range(1):  # loop over the dataset multiple times\n",
    "\n",
    "    for i, data in enumerate(trainloader, 0):\n",
    "\n",
    "        # get the inputs; data is a list of [inputs, labels]\n",
    "        inputs, labels = data\n",
    "\n",
    "        # zero the parameter gradients\n",
    "        optimizer.zero_grad()\n",
    "\n",
    "        # forward + backward + optimize\n",
    "        outputs = net(inputs)\n",
    "        loss = criterion(outputs, labels)\n",
    "        loss.backward()\n",
    "        optimizer.step()\n",
    "\n",
    "        running_loss += loss.item()\n",
    "        if i % 1000 == 999:    # every 1000 mini-batches...\n",
    "\n",
    "            # ...log the running loss\n",
    "            writer.add_scalar('training loss',\n",
    "                            running_loss / 1000,\n",
    "                            epoch * len(trainloader) + i)\n",
    "\n",
    "            # ...log a Matplotlib Figure showing the model's predictions on a\n",
    "            # random mini-batch\n",
    "            writer.add_figure('predictions vs. actuals',\n",
    "                            plot_classes_preds(net, inputs, labels),\n",
    "                            global_step=epoch * len(trainloader) + i)\n",
    "            running_loss = 0.0\n",
    "    "
   ]
  },
  {
   "cell_type": "code",
   "execution_count": 89,
   "id": "90bf9175-84e7-430f-bcca-fdf88368291c",
   "metadata": {},
   "outputs": [
    {
     "data": {
      "text/plain": [
       "0"
      ]
     },
     "execution_count": 89,
     "metadata": {},
     "output_type": "execute_result"
    }
   ],
   "source": [
    "epoch"
   ]
  },
  {
   "cell_type": "code",
   "execution_count": 21,
   "id": "7c378098-64cf-4a8c-89ef-088666920e71",
   "metadata": {},
   "outputs": [],
   "source": [
    "# 1. gets the probability predictions in a test_size x num_classes Tensor\n",
    "# 2. gets the preds in a test_size Tensor\n",
    "# takes ~10 seconds to run\n",
    "class_probs = []\n",
    "class_label = []\n",
    "with torch.no_grad():\n",
    "    for data in testloader:\n",
    "        images, labels = data\n",
    "        output = net(images)\n",
    "        class_probs_batch = [F.softmax(el, dim=0) for el in output]\n",
    "\n",
    "        class_probs.append(class_probs_batch)\n",
    "        class_label.append(labels)\n",
    "\n",
    "test_probs = torch.cat([torch.stack(batch) for batch in class_probs])\n",
    "test_label = torch.cat(class_label)\n",
    "\n",
    "# helper function\n",
    "def add_pr_curve_tensorboard(class_index, test_probs, test_label, global_step=0):\n",
    "    '''\n",
    "    Takes in a \"class_index\" from 0 to 9 and plots the corresponding\n",
    "    precision-recall curve\n",
    "    '''\n",
    "    tensorboard_truth = test_label == class_index\n",
    "    tensorboard_probs = test_probs[:, class_index]\n",
    "\n",
    "    writer.add_pr_curve(classes[class_index],\n",
    "                        tensorboard_truth,\n",
    "                        tensorboard_probs,\n",
    "                        global_step=global_step)\n",
    "    writer.close()\n",
    "\n",
    "# plot all the pr curves\n",
    "for i in range(len(classes)):\n",
    "    add_pr_curve_tensorboard(i, test_probs, test_label)"
   ]
  },
  {
   "cell_type": "code",
   "execution_count": 109,
   "id": "c23716eb-8dc5-47f2-af9b-132b6ce7976d",
   "metadata": {},
   "outputs": [],
   "source": [
    "tensorboard_truth = test_label == 1"
   ]
  },
  {
   "cell_type": "code",
   "execution_count": 110,
   "id": "9dcce733-19de-4b54-855f-3eed6e96dda2",
   "metadata": {},
   "outputs": [
    {
     "data": {
      "text/plain": [
       "torch.Size([60000])"
      ]
     },
     "execution_count": 110,
     "metadata": {},
     "output_type": "execute_result"
    }
   ],
   "source": [
    "tensorboard_truth.shape\n"
   ]
  },
  {
   "cell_type": "code",
   "execution_count": 112,
   "id": "9f7fdc2a-ae8e-43fd-9479-5423cc776892",
   "metadata": {},
   "outputs": [],
   "source": [
    "tensorboard_probs = test_probs[:, 0]"
   ]
  },
  {
   "cell_type": "code",
   "execution_count": 113,
   "id": "cff7c22d-a45d-406f-b166-12c6cd21a3f6",
   "metadata": {},
   "outputs": [
    {
     "data": {
      "text/plain": [
       "torch.Size([60000])"
      ]
     },
     "execution_count": 113,
     "metadata": {},
     "output_type": "execute_result"
    }
   ],
   "source": [
    "tensorboard_probs.shape"
   ]
  },
  {
   "cell_type": "code",
   "execution_count": null,
   "id": "27ec52c3-0029-4546-9287-03f5020f3f23",
   "metadata": {},
   "outputs": [],
   "source": []
  }
 ],
 "metadata": {
  "kernelspec": {
   "display_name": "Python 3 (ipykernel)",
   "language": "python",
   "name": "python3"
  },
  "language_info": {
   "codemirror_mode": {
    "name": "ipython",
    "version": 3
   },
   "file_extension": ".py",
   "mimetype": "text/x-python",
   "name": "python",
   "nbconvert_exporter": "python",
   "pygments_lexer": "ipython3",
   "version": "3.9.9"
  }
 },
 "nbformat": 4,
 "nbformat_minor": 5
}
