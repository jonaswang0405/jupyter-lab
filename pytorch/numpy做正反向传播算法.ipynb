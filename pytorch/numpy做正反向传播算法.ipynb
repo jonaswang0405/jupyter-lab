{
 "cells": [
  {
   "cell_type": "code",
   "execution_count": 30,
   "id": "4705bb3d-0763-4f19-9c69-ed2c5ce77fe8",
   "metadata": {},
   "outputs": [
    {
     "name": "stdout",
     "output_type": "stream",
     "text": [
      "99 2676.5297283202763 -1001.4575332904681 -3097.214202429039 174.98220728565593 440.5517495169661\n",
      "199 1786.7249537493421 -842.7602562466288 -2518.5714020341193 145.39067734340392 358.24485002662357\n",
      "299 1194.2829125440662 -708.9487048586209 -2048.034618390084 122.30544866274829 291.31509002362213\n",
      "399 799.6585079230865 -596.3833860375116 -1665.4067439726277 102.88605795387741 236.8896068405851\n",
      "499 536.6806753465912 -501.69094138150035 -1354.2640334125604 86.55003556160807 192.6322657179776\n",
      "599 361.34832319456984 -422.03355518764045 -1101.2511380973492 72.80781093853955 156.64338461506435\n",
      "699 244.39201951433904 -355.02399388327296 -895.5078472435926 61.247546569622386 127.37819311945782\n",
      "799 166.33442667248192 -298.6540636011527 -728.202929134193 51.52279559626834 103.58052542244275\n",
      "899 114.20916684954558 -251.23442708722177 -592.1550633328792 43.342119231458014 84.22890122744144\n",
      "999 79.38066547478428 -211.34397634762638 -481.5245929423452 36.460352698912914 68.49268019299967\n",
      "1099 56.09508789088959 -177.7872437956889 -391.56286581973757 30.671257947261665 55.69640790341899\n",
      "1199 40.51688499943787 -149.55857556345558 -318.4084055854721 25.8013429501365 45.29082296974906\n",
      "1299 30.08798597310429 -125.81199329618204 -258.9211633622007 21.704662364196594 36.82928078294401\n",
      "1399 23.101429792897143 -105.83584122491634 -210.54773574072138 18.258443727297774 29.94858194331175\n",
      "1499 18.417564699038866 -89.03145872123821 -171.21176364997433 15.3594081192809 24.353382454048074\n",
      "1599 15.275065734071916 -74.89523917692834 -139.22480766182215 12.920675020179289 19.803516509602744\n",
      "1699 13.165036459906156 -63.0035375353366 -113.21387418272934 10.86915860823538 16.10368772740854\n",
      "1799 11.74709803249214 -52.99997417178112 -92.06248169935762 9.143377468008296 13.095086334590647\n",
      "1899 10.793435567926744 -44.5847546359437 -74.86273743238328 7.691612068220387 10.648572489302339\n",
      "1999 10.151467950910373 -37.50568518211992 -60.87636735855137 6.470354791211996 8.659133140679131\n",
      "result: y=-0.021673447183461616+0.8273355537326443x+0.003739030286864972x^2 +-0.08914774269533413x^3\n"
     ]
    }
   ],
   "source": [
    "import numpy as np\n",
    "import math\n",
    "x=np.linspace(-math.pi,math.pi,2000) #生成均匀间隔的数列\n",
    "y=np.sin(x)\n",
    "a=np.random.randn()\n",
    "b=np.random.randn()\n",
    "c=np.random.randn()\n",
    "d=np.random.randn()\n",
    "learning_rate=1e-6\n",
    "for t in range(2000):\n",
    "    #forward apss compute predict y\n",
    "    y_pred=a+b*x+c*x**2+d*x**3\n",
    "    #compute and print loss\n",
    "    loss=np.square(y_pred-y).sum()\n",
    "    \n",
    "    #backprop to compute gradients of a,b,c,d wiht respect to loss\n",
    "    grad_y_pred=2.0*(y_pred-y)\n",
    "    grad_a=grad_y_pred.sum()\n",
    "    grad_b=(grad_y_pred*x).sum()\n",
    "    grad_c=(grad_y_pred*x**2).sum()\n",
    "    grad_d=(grad_y_pred*x**3).sum()\n",
    "    if t%100 ==99:\n",
    "        print(t,loss,grad_a,grad_b,grad_c,grad_d)\n",
    "    #update weights\n",
    "    a-=learning_rate*grad_a\n",
    "    b-=learning_rate*grad_b\n",
    "    c-=learning_rate*grad_c\n",
    "    d-=learning_rate*grad_d\n",
    "print(f'result: y={a}+{b}x+{c}x^2 +{d}x^3')"
   ]
  },
  {
   "cell_type": "code",
   "execution_count": 27,
   "id": "12954ce9-de9a-42f6-ac95-20264edfc19a",
   "metadata": {},
   "outputs": [
    {
     "data": {
      "image/png": "[encoded data removed]",
      "text/plain": [
       "<Figure size 432x288 with 2 Axes>"
      ]
     },
     "metadata": {
      "needs_background": "light"
     },
     "output_type": "display_data"
    }
   ],
   "source": [
    "from matplotlib.pylab import plt\n",
    "plt.figure(1)\n",
    "plt.subplot(211)\n",
    "plt.plot(x,y)\n",
    "plt.subplot(212)\n",
    "plt.plot(x,y_pred)\n",
    "plt.show()"
   ]
  },
  {
   "cell_type": "code",
   "execution_count": 37,
   "id": "6da684de-6227-4bf8-90d5-78a2f29926b6",
   "metadata": {},
   "outputs": [
    {
     "name": "stdout",
     "output_type": "stream",
     "text": [
      "Result: y = -0.021984070539474487 + 0.8446479439735413 x + 0.0037926165387034416 x^2 + -0.09161027520895004 x^3\n",
      "Wall time: 694 ms\n"
     ]
    }
   ],
   "source": [
    "%%time\n",
    "\n",
    "import torch\n",
    "import math\n",
    "\n",
    "dtype = torch.float\n",
    "device = torch.device(\"cpu\")\n",
    "\n",
    "device = torch.device(\"cuda:0\") # Uncomment this to run on GPU\n",
    "\n",
    "# Create random input and output data\n",
    "x = torch.linspace(-math.pi, math.pi, 2000, device=device, dtype=dtype)\n",
    "y = torch.sin(x)\n",
    "# Randomly initialize weights\n",
    "a = torch.randn((), device=device, dtype=dtype)\n",
    "b = torch.randn((), device=device, dtype=dtype)\n",
    "c = torch.randn((), device=device, dtype=dtype)\n",
    "d = torch.randn((), device=device, dtype=dtype)\n",
    "\n",
    "learning_rate = 1e-6\n",
    "for t in range(2000):\n",
    "    # Forward pass: compute predicted y\n",
    "    y_pred = a + b * x + c * x ** 2 + d * x ** 3\n",
    "\n",
    "    # Compute and print loss\n",
    "    loss = (y_pred - y).pow(2).sum().item()\n",
    "#     if t % 100 == 99:\n",
    "#         print(t, loss)\n",
    "\n",
    "    # Backprop to compute gradients of a, b, c, d with respect to loss\n",
    "    grad_y_pred = 2.0 * (y_pred - y)\n",
    "    grad_a = grad_y_pred.sum()\n",
    "    grad_b = (grad_y_pred * x).sum()\n",
    "    grad_c = (grad_y_pred * x ** 2).sum()\n",
    "    grad_d = (grad_y_pred * x ** 3).sum()\n",
    "\n",
    "    # Update weights using gradient descent\n",
    "    a -= learning_rate * grad_a\n",
    "    b -= learning_rate * grad_b\n",
    "    c -= learning_rate * grad_c\n",
    "    d -= learning_rate * grad_d\n",
    "print(f'Result: y = {a.item()} + {b.item()} x + {c.item()} x^2 + {d.item()} x^3')    "
   ]
  },
  {
   "cell_type": "code",
   "execution_count": null,
   "id": "4b64383c-2660-43b1-a020-d968c4fdf8dd",
   "metadata": {},
   "outputs": [],
   "source": []
  }
 ],
 "metadata": {
  "kernelspec": {
   "display_name": "Python 3 (ipykernel)",
   "language": "python",
   "name": "python3"
  },
  "language_info": {
   "codemirror_mode": {
    "name": "ipython",
    "version": 3
   },
   "file_extension": ".py",
   "mimetype": "text/x-python",
   "name": "python",
   "nbconvert_exporter": "python",
   "pygments_lexer": "ipython3",
   "version": "3.9.9"
  }
 },
 "nbformat": 4,
 "nbformat_minor": 5
}
