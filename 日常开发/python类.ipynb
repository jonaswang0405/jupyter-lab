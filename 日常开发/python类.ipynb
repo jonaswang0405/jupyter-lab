{
 "cells": [
  {
   "cell_type": "code",
   "execution_count": 11,
   "id": "208526c2-9017-4f54-af5a-e27ff9ea163d",
   "metadata": {},
   "outputs": [
    {
     "name": "stdout",
     "output_type": "stream",
     "text": [
      "调用子类构造方法\n",
      "调用子类方法1\n",
      "调用子类方法\n"
     ]
    }
   ],
   "source": [
    "class Person:        \n",
    "    def __init__(self,name):\n",
    "        self.name = name\n",
    "        print ('调用父类构造函数')\n",
    "\n",
    "    def eat(self):\n",
    "        print('调用父类方法')\n",
    " \n",
    "class Student(Person):  # 定义子类\n",
    "   def __init__(self):\n",
    "      print ('调用子类构造方法')\n",
    " \n",
    "   def study(self):\n",
    "      print('调用子类方法')\n",
    "class teacher(Student):  # 定义子类\n",
    "   def __init__(self):\n",
    "      print ('调用子类构造方法')\n",
    " \n",
    "   def studens(self):\n",
    "      print('调用子类方法1')\n",
    "\n",
    "s = teacher()          # 实例化子类\n",
    "s.studens()              # 调用子类的方法\n",
    "s.study()     "
   ]
  },
  {
   "cell_type": "code",
   "execution_count": null,
   "id": "87180641-7704-4c45-a40b-63c483e271e0",
   "metadata": {},
   "outputs": [],
   "source": []
  },
  {
   "cell_type": "code",
   "execution_count": null,
   "id": "4a70a3f1-e8fb-4233-96e8-7ecc73906c87",
   "metadata": {},
   "outputs": [],
   "source": [
    "import time\n",
    "class Base(object):\n",
    "    def __init__(self):\n",
    "        print (\"Create Base\")\n",
    "\n",
    "class A(Base):\n",
    "    def __init__(self):\n",
    "        time.sleep(2)         #此处设置了等待时间，导致先输出B\n",
    "        super(A, self).__init__()\n",
    "        print(\"Create A\")\n",
    "\n",
    "class B(Base):\n",
    "    def __init__(self):\n",
    "        super(B, self).__init__()    \n",
    "        print(\"Create B\")\n",
    "\n",
    "class C(A, B):\n",
    "    def __init__(self):\n",
    "        super(C, self).__init__()  #super调用C的父类（A、B），并保证每个父类及父类中的父类只调用一次，顺序按列队顺序执行。\n",
    "        print(\"Create C\")\n",
    "C()\n",
    "print(C.mro())"
   ]
  },
  {
   "cell_type": "code",
   "execution_count": 4,
   "id": "704d9762-cb00-4f04-9d0e-c5b885c421a7",
   "metadata": {},
   "outputs": [
    {
     "name": "stdout",
     "output_type": "stream",
     "text": [
      "C语言中文网\n",
      "学习 Python\n",
      "http://c.biancheng.net\n",
      "学习 Python\n",
      "abc\n",
      "将funB作为参数传给A,funA的执行结果传给funB： 装饰器函数的返回值\n"
     ]
    }
   ],
   "source": [
    "#将B做为参数，传给A，将A的返回结果传给B\n",
    "def funA(fn):\n",
    "    print(\"C语言中文网\")\n",
    "    fn() # 执行传入的fn参数\n",
    "    print(\"http://c.biancheng.net\")\n",
    "    c=fn()\n",
    "    print(c)\n",
    "    return \"装饰器函数的返回值\"\n",
    "@funA\n",
    "def funB():\n",
    "    print(\"学习 Python\")\n",
    "    return 'abc'\n",
    "print('将funB作为参数传给A,funA的执行结果传给funB：',funB)"
   ]
  },
  {
   "cell_type": "code",
   "execution_count": 5,
   "id": "5a4c5c24-ddb6-43fe-a1b1-25ec71250925",
   "metadata": {},
   "outputs": [
    {
     "ename": "TypeError",
     "evalue": "'str' object is not callable",
     "output_type": "error",
     "traceback": [
      "\u001b[1;31m---------------------------------------------------------------------------\u001b[0m",
      "\u001b[1;31mTypeError\u001b[0m                                 Traceback (most recent call last)",
      "\u001b[1;32m<ipython-input-5-b53278dec512>\u001b[0m in \u001b[0;36m<module>\u001b[1;34m\u001b[0m\n\u001b[1;32m----> 1\u001b[1;33m \u001b[0mfunB\u001b[0m\u001b[1;33m(\u001b[0m\u001b[1;33m)\u001b[0m\u001b[1;33m\u001b[0m\u001b[1;33m\u001b[0m\u001b[0m\n\u001b[0m",
      "\u001b[1;31mTypeError\u001b[0m: 'str' object is not callable"
     ]
    }
   ],
   "source": []
  },
  {
   "cell_type": "code",
   "execution_count": 56,
   "id": "356bf280-36cd-4524-8159-2356421da516",
   "metadata": {},
   "outputs": [],
   "source": [
    "def funA(fn):\n",
    "    # 定义一个嵌套函数\n",
    "    def say(arc):\n",
    "        print(\"Python教程:\",arc)\n",
    "        return \"adfa\"\n",
    "    return say\n",
    "@funA\n",
    "def funB(arc):\n",
    "    print(\"funB():\",a)\n",
    "    print('adfad')\n"
   ]
  },
  {
   "cell_type": "code",
   "execution_count": 16,
   "id": "1bcae760-0c2d-4d02-ae18-a0e9148b9f8a",
   "metadata": {},
   "outputs": [],
   "source": [
    "from dataclasses import dataclass\n",
    "@dataclass\n",
    "class InventoryItem:\n",
    "    \"\"\"Class for keeping track of an item in inventory.\"\"\"\n",
    "    name: str\n",
    "    unit_price: float\n",
    "    quantity_on_hand: int = 0\n",
    "\n",
    "    def total_cost(self) -> float:\n",
    "        return self.unit_price * self.quantity_on_hand"
   ]
  },
  {
   "cell_type": "code",
   "execution_count": 13,
   "id": "080b269d-1882-4335-b838-03bade0dfba9",
   "metadata": {},
   "outputs": [],
   "source": [
    "InventoryItem.name='apple'\n",
    "InventoryItem.unit_price=5\n",
    "InventoryItem.quantity_on_hand=3"
   ]
  },
  {
   "cell_type": "code",
   "execution_count": 18,
   "id": "bb96569f-9df9-4c7c-bb30-855c7efc8929",
   "metadata": {},
   "outputs": [
    {
     "data": {
      "text/plain": [
       "<function __main__.InventoryItem.total_cost(self) -> float>"
      ]
     },
     "execution_count": 18,
     "metadata": {},
     "output_type": "execute_result"
    }
   ],
   "source": [
    "InventoryItem.total_cost"
   ]
  },
  {
   "cell_type": "code",
   "execution_count": 19,
   "id": "01b5d573-7a6f-490f-81f6-30abe02480a1",
   "metadata": {},
   "outputs": [
    {
     "name": "stdout",
     "output_type": "stream",
     "text": [
      "Help on function dataclass in module dataclasses:\n",
      "\n",
      "dataclass(cls=None, /, *, init=True, repr=True, eq=True, order=False, unsafe_hash=False, frozen=False)\n",
      "    Returns the same class as was passed in, with dunder methods\n",
      "    added based on the fields defined in the class.\n",
      "    \n",
      "    Examines PEP 526 __annotations__ to determine fields.\n",
      "    \n",
      "    If init is true, an __init__() method is added to the class. If\n",
      "    repr is true, a __repr__() method is added. If order is true, rich\n",
      "    comparison dunder methods are added. If unsafe_hash is true, a\n",
      "    __hash__() method function is added. If frozen is true, fields may\n",
      "    not be assigned to after instance creation.\n",
      "\n"
     ]
    }
   ],
   "source": [
    "help(dataclass)"
   ]
  },
  {
   "cell_type": "code",
   "execution_count": null,
   "id": "856948b6-a9f5-4083-a158-40c2b4c7ad4d",
   "metadata": {},
   "outputs": [],
   "source": []
  }
 ],
 "metadata": {
  "kernelspec": {
   "display_name": "Python 3",
   "language": "python",
   "name": "python3"
  },
  "language_info": {
   "codemirror_mode": {
    "name": "ipython",
    "version": 3
   },
   "file_extension": ".py",
   "mimetype": "text/x-python",
   "name": "python",
   "nbconvert_exporter": "python",
   "pygments_lexer": "ipython3",
   "version": "3.9.5"
  }
 },
 "nbformat": 4,
 "nbformat_minor": 5
}
