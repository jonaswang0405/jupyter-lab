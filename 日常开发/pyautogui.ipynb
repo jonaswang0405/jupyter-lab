{
 "cells": [
  {
   "cell_type": "markdown",
   "id": "82af0708-7651-4341-8327-36e40c6d4c39",
   "metadata": {},
   "source": [
    "取消or 确定"
   ]
  },
  {
   "cell_type": "code",
   "execution_count": 1,
   "id": "1c19cfac-25ba-4d1e-bb10-ef19f440757e",
   "metadata": {},
   "outputs": [
    {
     "name": "stdout",
     "output_type": "stream",
     "text": [
      "OK\n"
     ]
    }
   ],
   "source": [
    "import pyautogui as pg\n",
    "b=pg.confirm(text='hhh',title='test',buttons=['OK','cancel'])\n",
    "print(b)"
   ]
  },
  {
   "cell_type": "code",
   "execution_count": 2,
   "id": "f2d71e10-587c-408a-9b6d-1eba38bbb1e5",
   "metadata": {},
   "outputs": [
    {
     "name": "stdout",
     "output_type": "stream",
     "text": [
      "ok\n"
     ]
    }
   ],
   "source": [
    "b = pg.alert(text='hahh',title='test',button='ok') \n",
    "print(b)"
   ]
  },
  {
   "cell_type": "markdown",
   "id": "c35bb49d-5bd3-4c7c-958a-7156b599baab",
   "metadata": {},
   "source": [
    "接收输入框输入内容"
   ]
  },
  {
   "cell_type": "code",
   "execution_count": 3,
   "id": "98a54f6a-4e87-497b-a990-4e0d9803ed44",
   "metadata": {},
   "outputs": [
    {
     "name": "stdout",
     "output_type": "stream",
     "text": [
      "1234123\n"
     ]
    }
   ],
   "source": [
    "b3 = pg.prompt(text='testing',title='HAHHH',default='dd')\n",
    "print(b3)"
   ]
  },
  {
   "cell_type": "markdown",
   "id": "0ac01477-7817-4aeb-9641-34c957426975",
   "metadata": {},
   "source": [
    "密码掩码"
   ]
  },
  {
   "cell_type": "code",
   "execution_count": 4,
   "id": "be80a6a4-aea2-4763-a427-cf0f9e894d0d",
   "metadata": {},
   "outputs": [
    {
     "name": "stdout",
     "output_type": "stream",
     "text": [
      "12355\n"
     ]
    }
   ],
   "source": [
    "b5 = pg.password(text='testing',title='HAHHH',default='',mask='*')#可以输入密码的密码框，密码框*显示\n",
    "print(b5)"
   ]
  },
  {
   "cell_type": "code",
   "execution_count": 16,
   "id": "901642b4-058e-44f3-a784-8799ff130dd0",
   "metadata": {},
   "outputs": [],
   "source": [
    "pg.moveTo(100,50)"
   ]
  },
  {
   "cell_type": "code",
   "execution_count": 5,
   "id": "a479115c-af96-435c-87ba-72671fd50282",
   "metadata": {},
   "outputs": [
    {
     "ename": "NameError",
     "evalue": "name 'generate' is not defined",
     "output_type": "error",
     "traceback": [
      "\u001b[1;31m---------------------------------------------------------------------------\u001b[0m",
      "\u001b[1;31mNameError\u001b[0m                                 Traceback (most recent call last)",
      "\u001b[1;32m<ipython-input-5-a98e9db955ed>\u001b[0m in \u001b[0;36m<module>\u001b[1;34m\u001b[0m\n\u001b[0;32m      1\u001b[0m \u001b[1;32mimport\u001b[0m \u001b[0mos\u001b[0m\u001b[1;33m\u001b[0m\u001b[1;33m\u001b[0m\u001b[0m\n\u001b[1;32m----> 2\u001b[1;33m \u001b[0mgenerate\u001b[0m\u001b[1;33m-\u001b[0m\u001b[0mconfig\u001b[0m\u001b[1;33m\u001b[0m\u001b[1;33m\u001b[0m\u001b[0m\n\u001b[0m",
      "\u001b[1;31mNameError\u001b[0m: name 'generate' is not defined"
     ]
    }
   ],
   "source": [
    "path1=r''\n",
    "path2=r''\n",
    "copy='xcopy %s %s /s/Y' % (path1,path2)\n",
    "os.system(copy)    #将path1路径下所有文件复制到path2路径"
   ]
  },
  {
   "cell_type": "code",
   "execution_count": 18,
   "id": "5fa966c1-cfe6-4183-b8c5-5f66a6279fd7",
   "metadata": {},
   "outputs": [
    {
     "name": "stdout",
     "output_type": "stream",
     "text": [
      "\n"
     ]
    }
   ],
   "source": [
    "import pyperclip\n",
    "a=pyperclip.paste()\n",
    "print(a)"
   ]
  },
  {
   "cell_type": "code",
   "execution_count": 20,
   "id": "3d9d9e4e-03f1-489a-a395-0b1cd0a026a1",
   "metadata": {},
   "outputs": [
    {
     "data": {
      "text/plain": [
       "''"
      ]
     },
     "execution_count": 20,
     "metadata": {},
     "output_type": "execute_result"
    }
   ],
   "source": [
    "pyperclip.paste()"
   ]
  },
  {
   "cell_type": "code",
   "execution_count": null,
   "id": "53aa17a6-d49a-4b41-9a3f-71721fae73f9",
   "metadata": {},
   "outputs": [],
   "source": []
  }
 ],
 "metadata": {
  "kernelspec": {
   "display_name": "Python 3",
   "language": "python",
   "name": "python3"
  },
  "language_info": {
   "codemirror_mode": {
    "name": "ipython",
    "version": 3
   },
   "file_extension": ".py",
   "mimetype": "text/x-python",
   "name": "python",
   "nbconvert_exporter": "python",
   "pygments_lexer": "ipython3",
   "version": "3.9.5"
  }
 },
 "nbformat": 4,
 "nbformat_minor": 5
}
