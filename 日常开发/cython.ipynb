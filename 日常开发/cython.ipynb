{
 "cells": [
  {
   "cell_type": "code",
   "execution_count": 2,
   "id": "0aae3286-ec5a-4540-bce7-24785d850464",
   "metadata": {},
   "outputs": [],
   "source": [
    "from ctypes import CDLL"
   ]
  },
  {
   "cell_type": "code",
   "execution_count": 4,
   "id": "3a077231-7a83-437f-88a0-8274b3570b79",
   "metadata": {},
   "outputs": [],
   "source": [
    "import ctypes\n",
    "import numpy as np\n",
    "a=np.array([[1,2,3],[4,5,6]])"
   ]
  },
  {
   "cell_type": "code",
   "execution_count": 6,
   "id": "e0f3217b-83d0-40bb-b1dc-6ea09d23a34e",
   "metadata": {},
   "outputs": [],
   "source": [
    "c_short_p=ctypes.POINTER(ctypes.c_short)"
   ]
  },
  {
   "cell_type": "code",
   "execution_count": 7,
   "id": "72d1254c-ca7c-4e6f-a97f-0b1b4e4786c7",
   "metadata": {},
   "outputs": [
    {
     "data": {
      "text/plain": [
       "ctypes.wintypes.LP_c_short"
      ]
     },
     "execution_count": 7,
     "metadata": {},
     "output_type": "execute_result"
    }
   ],
   "source": [
    "c_short_p"
   ]
  },
  {
   "cell_type": "code",
   "execution_count": null,
   "id": "cb62f002-4cbb-4149-a67b-7fc31f1c7e3e",
   "metadata": {},
   "outputs": [],
   "source": [
    "x=[1,2,4,5,6]\n",
    "y=[2,3,4,5,6]\n",
    "for i in range(5):\n",
    "    xy+=x[i]*y[i]\n",
    "    "
   ]
  }
 ],
 "metadata": {
  "kernelspec": {
   "display_name": "Python 3 (ipykernel)",
   "language": "python",
   "name": "python3"
  },
  "language_info": {
   "codemirror_mode": {
    "name": "ipython",
    "version": 3
   },
   "file_extension": ".py",
   "mimetype": "text/x-python",
   "name": "python",
   "nbconvert_exporter": "python",
   "pygments_lexer": "ipython3",
   "version": "3.9.9"
  }
 },
 "nbformat": 4,
 "nbformat_minor": 5
}
