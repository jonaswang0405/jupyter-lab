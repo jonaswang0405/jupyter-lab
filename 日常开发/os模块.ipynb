{
 "cells": [
  {
   "cell_type": "code",
   "execution_count": 3,
   "id": "53edb7d8-b09b-4650-9297-5e75797f10a8",
   "metadata": {},
   "outputs": [
    {
     "data": {
      "text/plain": [
       "['12.xlsx',\n",
       " '4.3.0.zip',\n",
       " 'cpython',\n",
       " 'debug.log',\n",
       " 'excel',\n",
       " 'filename.pdf',\n",
       " 'jupyter',\n",
       " 'opencv练习',\n",
       " 'pandas',\n",
       " 'pythonProject',\n",
       " 'scikit image',\n",
       " 'scikit learn',\n",
       " 'selenium',\n",
       " 'teach.py',\n",
       " 'tensorflow',\n",
       " 'tkinter',\n",
       " '不定长参数.py',\n",
       " '中石油股票.py',\n",
       " '图片',\n",
       " '多进程',\n",
       " '官方测试',\n",
       " '将浏览器打印为pdf.py',\n",
       " '并行.py',\n",
       " '新建文件夹',\n",
       " '桌面屏保动图.py',\n",
       " '爬虫',\n",
       " '物体颜色检测.py',\n",
       " '特征选择',\n",
       " '窗口内容提取',\n",
       " '股票预测',\n",
       " '超市分析',\n",
       " '飞浆']"
      ]
     },
     "execution_count": 3,
     "metadata": {},
     "output_type": "execute_result"
    }
   ],
   "source": [
    "import os\n",
    "os.listdir(r'D:\\python')"
   ]
  },
  {
   "cell_type": "code",
   "execution_count": null,
   "id": "dbbd6d58-2c03-4f83-9bf1-1ec377fdc909",
   "metadata": {},
   "outputs": [],
   "source": []
  }
 ],
 "metadata": {
  "kernelspec": {
   "display_name": "Python 3",
   "language": "python",
   "name": "python3"
  },
  "language_info": {
   "codemirror_mode": {
    "name": "ipython",
    "version": 3
   },
   "file_extension": ".py",
   "mimetype": "text/x-python",
   "name": "python",
   "nbconvert_exporter": "python",
   "pygments_lexer": "ipython3",
   "version": "3.9.5"
  }
 },
 "nbformat": 4,
 "nbformat_minor": 5
}
