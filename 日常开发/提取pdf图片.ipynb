{
 "cells": [
  {
   "cell_type": "markdown",
   "id": "a3d9b173-b374-4b16-8040-696885b91ca0",
   "metadata": {},
   "source": [
    "### 1 首先安装pymupdf包\n",
    "pip3 install PyMuPDF Pillow"
   ]
  },
  {
   "cell_type": "code",
   "execution_count": null,
   "id": "7b5fe046-5f17-4117-ad66-c51ecd996360",
   "metadata": {},
   "outputs": [],
   "source": [
    "import fitz \n",
    "import io\n",
    "from PIL import Image\n",
    "\n",
    "# file path you want to extract images from\n",
    "file = \"1710.05006.pdf\"\n",
    "# open the file\n",
    "pdf_file = fitz.open(file)\n",
    "\n",
    "# iterate over PDF pages\n",
    "for page_index in range(len(pdf_file)):\n",
    "    # get the page itself\n",
    "    page = pdf_file[page_index]\n",
    "    image_list = page.getImageList()\n",
    "    # printing number of images found in this page\n",
    "    if image_list:\n",
    "        print(f\"[+] Found a total of {len(image_list)} images in page {page_index}\")\n",
    "    else:\n",
    "        print(\"[!] No images found on page\", page_index)\n",
    "    for image_index, img in enumerate(page.getImageList(), start=1):\n",
    "        # get the XREF of the image\n",
    "        xref = img[0]\n",
    "        # extract the image bytes\n",
    "        base_image = pdf_file.extractImage(xref)\n",
    "        image_bytes = base_image[\"image\"]\n",
    "        # get the image extension\n",
    "        image_ext = base_image[\"ext\"]\n",
    "        # load it to PIL\n",
    "        image = Image.open(io.BytesIO(image_bytes))\n",
    "        # save it to local disk\n",
    "        image.save(open(f\"image{page_index+1}_{image_index}.{image_ext}\", \"wb\"))"
   ]
  },
  {
   "cell_type": "code",
   "execution_count": null,
   "id": "e5df69e9-3f3a-44c4-a9e0-8719864960cf",
   "metadata": {},
   "outputs": [],
   "source": [
    "#Opencv 直接从Image.open对象中，转为opencv类型的图片\n",
    "image = PIL.Image.open(file)\n",
    "cv_img = cv2.cvtColor(numpy.array(image), cv2.COLOR_RGB2BGR)\n"
   ]
  }
 ],
 "metadata": {
  "kernelspec": {
   "display_name": "Python 3 (ipykernel)",
   "language": "python",
   "name": "python3"
  },
  "language_info": {
   "codemirror_mode": {
    "name": "ipython",
    "version": 3
   },
   "file_extension": ".py",
   "mimetype": "text/x-python",
   "name": "python",
   "nbconvert_exporter": "python",
   "pygments_lexer": "ipython3",
   "version": "3.9.9"
  }
 },
 "nbformat": 4,
 "nbformat_minor": 5
}
