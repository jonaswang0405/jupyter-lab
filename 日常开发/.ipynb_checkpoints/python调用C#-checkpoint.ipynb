{
 "cells": [
  {
   "cell_type": "markdown",
   "id": "05b7c0c2-7c15-4b0c-ab6b-69f048fa7303",
   "metadata": {},
   "source": [
    "1、创建项目：\n",
    "C#控制台应用(.NET Core) 可用以跨平台，但有的dll不支持\n",
    "C#控制台应用(.NET FrameWork) 比较稳定，建议优选该类型项目，以排除是否因为项目类型导致不支持Dll文件\n",
    "\n",
    "2、添加引用\n",
    "\n",
    "3、python调用C#可不用main函数，但必须有类、命名空间及函数。且函数、类必须为public类型方可调用。\n",
    "\n",
    "4、C#函数完成后，点击项目-属性-应用程序，选择输出类型-类库，选择目标框架。\n",
    "\n",
    "5、右击项目-生成，生成Dll文件\n",
    "\n",
    "6、将生成的dll文件和python脚本放在同一路径下。如xxx.dll\n",
    "\n",
    "7、python调用代码如下："
   ]
  },
  {
   "cell_type": "code",
   "execution_count": null,
   "id": "c77e4ab3-e5ad-4053-97b3-dce128e8e298",
   "metadata": {},
   "outputs": [],
   "source": [
    "import clr\n",
    "clr.AddReference('xxx')  #dll文件名\n",
    "from xxx \n",
    "result=xxx.class().function(params)\n",
    "print(result)\n"
   ]
  }
 ],
 "metadata": {
  "kernelspec": {
   "display_name": "Python 3 (ipykernel)",
   "language": "python",
   "name": "python3"
  },
  "language_info": {
   "codemirror_mode": {
    "name": "ipython",
    "version": 3
   },
   "file_extension": ".py",
   "mimetype": "text/x-python",
   "name": "python",
   "nbconvert_exporter": "python",
   "pygments_lexer": "ipython3",
   "version": "3.9.8"
  }
 },
 "nbformat": 4,
 "nbformat_minor": 5
}
