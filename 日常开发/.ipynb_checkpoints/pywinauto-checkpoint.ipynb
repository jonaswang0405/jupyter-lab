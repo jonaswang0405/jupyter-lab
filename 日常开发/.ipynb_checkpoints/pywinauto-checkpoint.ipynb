{
 "cells": [
  {
   "cell_type": "code",
   "execution_count": 1,
   "id": "c2caa64b-6f51-418d-8b71-3afdec22295e",
   "metadata": {},
   "outputs": [],
   "source": [
    "from pywinauto.application import Application\n",
    "import pywinauto\n",
    "app = Application(backend=\"uia\").connect(title_re=\".*pptx\")  #以uia形式，链接到窗口\n",
    "handle=pywinauto.findwindows.find_elements(title_re='转换')[-1].handle #找到转换窗口的句柄。\n",
    "dlg=app.window(handle=handle) #获取转换的对话框\n",
    "dlg.print_control_identifiers(depth=8) #输出dlg下的所有8级子目录\n",
    "dlg.children() #获取dlg对话框下的子菜单\n",
    "dlg['Static6'].texts() #获取dlg下的Static6的文本内容\n",
    "dlg.Image2.draw_outline() #话一个绿框\n",
    "dlg.child_window(title='取消',control_type='Button').click() #点击取消\n",
    "pywinauto.keyboard.send_keys(\"^d\") #按下ctrl+D键\n",
    "pywinauto.keyboard.send_keys('%{D}') #按下alt+D键"
   ]
  },
  {
   "cell_type": "code",
   "execution_count": null,
   "id": "3680468b-a276-4fe4-83be-ae6ed1e0650b",
   "metadata": {},
   "outputs": [],
   "source": []
  }
 ],
 "metadata": {
  "kernelspec": {
   "display_name": "Python 3",
   "language": "python",
   "name": "python3"
  },
  "language_info": {
   "codemirror_mode": {
    "name": "ipython",
    "version": 3
   },
   "file_extension": ".py",
   "mimetype": "text/x-python",
   "name": "python",
   "nbconvert_exporter": "python",
   "pygments_lexer": "ipython3",
   "version": "3.9.5"
  }
 },
 "nbformat": 4,
 "nbformat_minor": 5
}
