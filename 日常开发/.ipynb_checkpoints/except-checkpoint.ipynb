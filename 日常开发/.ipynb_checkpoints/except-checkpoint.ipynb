{
 "cells": [
  {
   "cell_type": "code",
   "execution_count": 6,
   "id": "5c551b8d-2ff0-4f8b-a8df-e5794c018bf4",
   "metadata": {},
   "outputs": [
    {
     "name": "stdout",
     "output_type": "stream",
     "text": [
      "Exception获取错误异常内容： division by zero\n",
      "traceback获取错误异常内容： Traceback (most recent call last):\n",
      "  File \"<ipython-input-6-33c6e639385a>\", line 3, in <module>\n",
      "    3/0\n",
      "ZeroDivisionError: division by zero\n",
      "\n"
     ]
    }
   ],
   "source": [
    "import traceback\n",
    "try:\n",
    "    3/0\n",
    "except Exception as e:\n",
    "    print('Exception获取错误异常内容：',e)\n",
    "    print('traceback获取错误异常内容：',traceback.format_exc())\n",
    "    "
   ]
  },
  {
   "cell_type": "code",
   "execution_count": null,
   "id": "71c1a847-d615-4a71-8ede-fdff0ed83f75",
   "metadata": {},
   "outputs": [],
   "source": []
  }
 ],
 "metadata": {
  "kernelspec": {
   "display_name": "Python 3",
   "language": "python",
   "name": "python3"
  },
  "language_info": {
   "codemirror_mode": {
    "name": "ipython",
    "version": 3
   },
   "file_extension": ".py",
   "mimetype": "text/x-python",
   "name": "python",
   "nbconvert_exporter": "python",
   "pygments_lexer": "ipython3",
   "version": "3.9.5"
  }
 },
 "nbformat": 4,
 "nbformat_minor": 5
}
