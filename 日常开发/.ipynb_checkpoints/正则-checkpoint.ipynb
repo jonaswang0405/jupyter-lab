{
 "cells": [
  {
   "cell_type": "code",
   "execution_count": 1,
   "id": "65ccb87e-741d-4244-ba01-9e8100f9d6a1",
   "metadata": {},
   "outputs": [
    {
     "data": {
      "text/plain": [
       "['df']"
      ]
     },
     "execution_count": 1,
     "metadata": {},
     "output_type": "execute_result"
    }
   ],
   "source": [
    "import re\n",
    "#re.search(\"pattern(?!.*pattern)\", \"target_text\") 查找最后一次出现得字符\n",
    "a='tadfd.04fdad fdad1.pdf'\n",
    "re.findall(\"df(?!.*df)\",a)\n",
    "#(?!xxx) 匹配不符合xxx的情况，例(df(?!.*df),a) 匹配df之后任意字符都没有df再次出现时才匹配"
   ]
  },
  {
   "cell_type": "code",
   "execution_count": null,
   "id": "a9170da0-eb28-483b-962b-67d366f33d2d",
   "metadata": {},
   "outputs": [],
   "source": [
    "#正则的后视模式，从abc之后匹配，不匹配abc"
   ]
  },
  {
   "cell_type": "code",
   "execution_count": 4,
   "id": "859815b7-4361-4586-a295-cdb9a8a7978c",
   "metadata": {},
   "outputs": [
    {
     "data": {
      "text/plain": [
       "['daabcabcdef']"
      ]
     },
     "execution_count": 4,
     "metadata": {},
     "output_type": "execute_result"
    }
   ],
   "source": [
    "a='abcdaabcabcdef'\n",
    "re.findall('(?<=abc).*ef',a) #匹配第一个abc之后一直到最后一个ef结尾,结果中不含第一个abc"
   ]
  },
  {
   "cell_type": "code",
   "execution_count": 2,
   "id": "fc74c097-aa23-4901-8d80-6477f0955d26",
   "metadata": {},
   "outputs": [
    {
     "data": {
      "text/plain": [
       "['中国_中国技术有限公司']"
      ]
     },
     "execution_count": 2,
     "metadata": {},
     "output_type": "execute_result"
    }
   ],
   "source": [
    "a='sad dadf dadk'\n",
    "a='中国_中国技术有限公司'\n",
    "re.findall(\"\\w+公司\",a) #匹配df及前面的字符串，遇到空格、符号则停止向前查找，\\w+只查找文本、数字，不查找符合"
   ]
  },
  {
   "cell_type": "code",
   "execution_count": 37,
   "id": "3018f04e-7507-4561-889a-d8128f2285a5",
   "metadata": {},
   "outputs": [
    {
     "name": "stdout",
     "output_type": "stream",
     "text": [
      "3\n"
     ]
    }
   ],
   "source": [
    "class A:\n",
    "    def add(self,x):\n",
    "        y=x+1\n",
    "        print(y)\n",
    "class B(A):\n",
    "    def add(self,x):\n",
    "        super().add(x)  #这里的add是父类A的add方法\n",
    "B().add(2) #这里得add是B的add方法。"
   ]
  },
  {
   "cell_type": "code",
   "execution_count": 40,
   "id": "3d9ea9c1-3669-4301-bf0c-a5a08b837e6f",
   "metadata": {},
   "outputs": [],
   "source": [
    "class A():\n",
    "    def get_queryset(self,B):\n",
    "        qs=super(A,self).get_queryset(B)\n",
    "        return 123\n"
   ]
  },
  {
   "cell_type": "code",
   "execution_count": 24,
   "id": "9f89d7e6-a186-451b-8fad-ad84a18eb554",
   "metadata": {},
   "outputs": [],
   "source": [
    "class Employee:\n",
    "   '所有员工的基类'\n",
    "   empCount = 0\n",
    " \n",
    "   def __init__(self, name, salary):\n",
    "      self.name = name\n",
    "      self.salary = salary\n",
    "      Employee.empCount += 1\n",
    "   \n",
    "   def displayCount(self):\n",
    "     print(\"Total Employee %d\" % Employee.empCount)\n",
    " \n",
    "   def displayEmployee(self):\n",
    "      print(\"Name : \", self.name,  \", Salary: \", self.salary)"
   ]
  },
  {
   "cell_type": "code",
   "execution_count": 25,
   "id": "195acf4a-e858-4785-a6f9-9431e9bbfa40",
   "metadata": {},
   "outputs": [],
   "source": [
    "t=Employee('张三',5000)"
   ]
  },
  {
   "cell_type": "code",
   "execution_count": 27,
   "id": "20f6bfa8-3267-481a-807e-a705313a3aba",
   "metadata": {},
   "outputs": [
    {
     "name": "stdout",
     "output_type": "stream",
     "text": [
      "Name :  张三 , Salary:  5000\n"
     ]
    }
   ],
   "source": [
    "t.displayEmployee()"
   ]
  },
  {
   "cell_type": "code",
   "execution_count": null,
   "id": "f3073aaa-1781-4372-860f-2271eda20fef",
   "metadata": {},
   "outputs": [],
   "source": []
  }
 ],
 "metadata": {
  "kernelspec": {
   "display_name": "Python 3",
   "language": "python",
   "name": "python3"
  },
  "language_info": {
   "codemirror_mode": {
    "name": "ipython",
    "version": 3
   },
   "file_extension": ".py",
   "mimetype": "text/x-python",
   "name": "python",
   "nbconvert_exporter": "python",
   "pygments_lexer": "ipython3",
   "version": "3.9.5"
  }
 },
 "nbformat": 4,
 "nbformat_minor": 5
}
