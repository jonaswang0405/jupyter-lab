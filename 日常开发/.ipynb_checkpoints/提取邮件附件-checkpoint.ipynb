{
 "cells": [
  {
   "cell_type": "code",
   "execution_count": 4,
   "id": "a08737c7-e02a-4aba-b0c1-66ee8579fa58",
   "metadata": {},
   "outputs": [
    {
     "ename": "FileNotFoundError",
     "evalue": "[Errno 2] No such file or directory: 'D:\\\\提取邮件附件\\\\123.eml'",
     "output_type": "error",
     "traceback": [
      "\u001b[1;31m---------------------------------------------------------------------------\u001b[0m",
      "\u001b[1;31mFileNotFoundError\u001b[0m                         Traceback (most recent call last)",
      "\u001b[1;32m~\\AppData\\Local\\Temp/ipykernel_16484/2176767167.py\u001b[0m in \u001b[0;36m<module>\u001b[1;34m\u001b[0m\n\u001b[0;32m      2\u001b[0m \u001b[1;32mimport\u001b[0m \u001b[0mos\u001b[0m\u001b[1;33m\u001b[0m\u001b[1;33m\u001b[0m\u001b[0m\n\u001b[0;32m      3\u001b[0m \u001b[0mfile\u001b[0m\u001b[1;33m=\u001b[0m\u001b[1;34mr'D:\\提取邮件附件\\123.eml'\u001b[0m\u001b[1;33m\u001b[0m\u001b[1;33m\u001b[0m\u001b[0m\n\u001b[1;32m----> 4\u001b[1;33m \u001b[0mmsg\u001b[0m\u001b[1;33m=\u001b[0m\u001b[0memail\u001b[0m\u001b[1;33m.\u001b[0m\u001b[0mmessage_from_file\u001b[0m\u001b[1;33m(\u001b[0m\u001b[0mopen\u001b[0m\u001b[1;33m(\u001b[0m\u001b[0mfile\u001b[0m\u001b[1;33m)\u001b[0m\u001b[1;33m)\u001b[0m\u001b[1;33m\u001b[0m\u001b[1;33m\u001b[0m\u001b[0m\n\u001b[0m",
      "\u001b[1;31mFileNotFoundError\u001b[0m: [Errno 2] No such file or directory: 'D:\\\\提取邮件附件\\\\123.eml'"
     ]
    }
   ],
   "source": [
    "import email\n",
    "import os\n",
    "file=r'D:\\提取邮件附件\\123.eml'\n",
    "msg=email.message_from_file(open(file))"
   ]
  },
  {
   "cell_type": "code",
   "execution_count": 51,
   "id": "03bfbf29-9acc-46ce-a6e8-df52ade72d73",
   "metadata": {},
   "outputs": [
    {
     "data": {
      "text/plain": [
       "2"
      ]
     },
     "execution_count": 51,
     "metadata": {},
     "output_type": "execute_result"
    }
   ],
   "source": [
    "len(msg.get_payload())"
   ]
  },
  {
   "cell_type": "code",
   "execution_count": 52,
   "id": "2ee870f7-f53f-4c37-baf6-0b47c08942c7",
   "metadata": {},
   "outputs": [
    {
     "data": {
      "text/plain": [
       "'application/octet-stream'"
      ]
     },
     "execution_count": 52,
     "metadata": {},
     "output_type": "execute_result"
    }
   ],
   "source": [
    "attachment=msg.get_payload()[1]\n",
    "attachment.get_content_type()"
   ]
  },
  {
   "cell_type": "code",
   "execution_count": 49,
   "id": "3d7b75c4-cda7-494a-acec-5824f6d48862",
   "metadata": {},
   "outputs": [
    {
     "data": {
      "text/plain": [
       "241104"
      ]
     },
     "execution_count": 49,
     "metadata": {},
     "output_type": "execute_result"
    }
   ],
   "source": [
    "open(r'D:\\提取邮件附件\\attachment.pdf', 'wb').write(attachment.get_payload(decode=True))"
   ]
  },
  {
   "cell_type": "code",
   "execution_count": 55,
   "id": "2196453a-edc1-4699-9099-9ea16549e8a7",
   "metadata": {},
   "outputs": [
    {
     "data": {
      "text/plain": [
       "['Content-Type', 'Content-Transfer-Encoding', 'Content-Disposition']"
      ]
     },
     "execution_count": 55,
     "metadata": {},
     "output_type": "execute_result"
    }
   ],
   "source": [
    "attachment.keys()"
   ]
  },
  {
   "cell_type": "code",
   "execution_count": 59,
   "id": "48e4d91d-ae9a-4dd1-964e-52a652ad40cd",
   "metadata": {},
   "outputs": [
    {
     "data": {
      "text/plain": [
       "<list_iterator at 0x258febb5c10>"
      ]
     },
     "execution_count": 59,
     "metadata": {},
     "output_type": "execute_result"
    }
   ],
   "source": [
    "attachment."
   ]
  },
  {
   "cell_type": "code",
   "execution_count": 5,
   "id": "a12e5ad4-bbf9-4a2f-96e7-d262f5ee662e",
   "metadata": {},
   "outputs": [
    {
     "ename": "AttributeError",
     "evalue": "module 'email' has no attribute 'u'",
     "output_type": "error",
     "traceback": [
      "\u001b[1;31m---------------------------------------------------------------------------\u001b[0m",
      "\u001b[1;31mAttributeError\u001b[0m                            Traceback (most recent call last)",
      "\u001b[1;32m~\\AppData\\Local\\Temp/ipykernel_16484/2357742157.py\u001b[0m in \u001b[0;36m<module>\u001b[1;34m\u001b[0m\n\u001b[0;32m      8\u001b[0m \u001b[1;31m# subject=decode_header()[0][0].decode(decode_header(subject)[0][-1],errors='ignore').replace(\" \",'')\u001b[0m\u001b[1;33m\u001b[0m\u001b[1;33m\u001b[0m\u001b[0m\n\u001b[0;32m      9\u001b[0m \u001b[1;31m# send_date=emailcontent.get('Date')\u001b[0m\u001b[1;33m\u001b[0m\u001b[1;33m\u001b[0m\u001b[0m\n\u001b[1;32m---> 10\u001b[1;33m \u001b[0memail\u001b[0m\u001b[1;33m.\u001b[0m\u001b[0mu\u001b[0m\u001b[1;33m\u001b[0m\u001b[1;33m\u001b[0m\u001b[0m\n\u001b[0m",
      "\u001b[1;31mAttributeError\u001b[0m: module 'email' has no attribute 'u'"
     ]
    }
   ],
   "source": [
    "from email.parser import Parser\n",
    "from msg_parser import MsOxMessage\n",
    "from email.header import decode_header\n",
    "with open(file,'rb') as f:\n",
    "    email=f.readlines()\n",
    "emailcontent=Parser().parsertr(email)\n",
    "subject=emailcontent.get('Subject')\n",
    "subject=decode_header()[0][0].decode(decode_header(subject)[0][-1],errors='ignore').replace(\" \",'')\n",
    "send_date=emailcontent.get('Date')\n",
    "date=email.utils.mktime_tz(email.utils.mktime_tz(send_date))\n",
    "to=emailcontent.get('To')\n",
    "\n",
    "if emailcontent.is_multipart():\n",
    "    for part in emailcontent.walk():\n",
    "        ctype=part.get_content_type()\n",
    "        cdispo=str(part.get('Content-Disposition'))\n",
    "        if ctype=='text/plain' and 'attatchment' not in cdispo:\n",
    "            body=part.get_payload(decode=True).decode(email,errors='ignore')\n",
    "            break\n",
    "else:\n",
    "    body=part.get_payload(decode=True).decode(email,errors='ignore')"
   ]
  },
  {
   "cell_type": "code",
   "execution_count": null,
   "id": "8ac44ea0-5dd6-4ac6-b181-750245fd6983",
   "metadata": {},
   "outputs": [],
   "source": []
  }
 ],
 "metadata": {
  "kernelspec": {
   "display_name": "Python 3 (ipykernel)",
   "language": "python",
   "name": "python3"
  },
  "language_info": {
   "codemirror_mode": {
    "name": "ipython",
    "version": 3
   },
   "file_extension": ".py",
   "mimetype": "text/x-python",
   "name": "python",
   "nbconvert_exporter": "python",
   "pygments_lexer": "ipython3",
   "version": "3.9.7"
  }
 },
 "nbformat": 4,
 "nbformat_minor": 5
}
