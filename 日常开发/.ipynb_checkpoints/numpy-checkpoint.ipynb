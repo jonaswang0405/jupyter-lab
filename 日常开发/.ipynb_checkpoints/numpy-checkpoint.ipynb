{
 "cells": [
  {
   "cell_type": "markdown",
   "id": "a19f44af-2258-4d7e-89c0-6a6b5a10e1ab",
   "metadata": {},
   "source": [
    "#### np.where(c)和c.nonzero()等效用于定位二维数组非零元素坐标，在图像分析中，用于寻找检测对象的矩形坐标"
   ]
  },
  {
   "cell_type": "code",
   "execution_count": 1,
   "id": "ba7a3c69-14cf-4f7e-8d61-39c5b16b0772",
   "metadata": {},
   "outputs": [
    {
     "name": "stdout",
     "output_type": "stream",
     "text": [
      "[[1 1 3 3 1 1]\n",
      " [2 2 3 3 2 2]\n",
      " [3 1 3 3 1 1]]\n",
      "[[ True  True False False  True  True]\n",
      " [False False False False False False]\n",
      " [False  True False False  True  True]]\n"
     ]
    },
    {
     "data": {
      "text/plain": [
       "(array([0, 0, 0, 0, 2, 2, 2], dtype=int64),\n",
       " array([0, 1, 4, 5, 1, 4, 5], dtype=int64))"
      ]
     },
     "execution_count": 1,
     "metadata": {},
     "output_type": "execute_result"
    }
   ],
   "source": [
    "import numpy as np\n",
    "a=np.array([[1,1,3,3,1,1],[2,2,3,3,2,2],[3,1,3,3,1,1]])\n",
    "b=np.array([1,2])\n",
    "print(a)\n",
    "c=a==b[:,None,None][0]\n",
    "print(c)\n",
    "#np.where(c)和c.nonzero()等效，均是返回数组c非零元素的坐标\n",
    "np.where(c)\n",
    "c.nonzero()"
   ]
  },
  {
   "cell_type": "code",
   "execution_count": 1,
   "id": "d9674cbc-ed81-4522-925a-64617f401111",
   "metadata": {},
   "outputs": [],
   "source": [
    "import numpy as np\n",
    "data=list(range(20))"
   ]
  },
  {
   "cell_type": "code",
   "execution_count": 3,
   "id": "b935bf6c-bfeb-4f05-bf57-4a333ee2fba3",
   "metadata": {},
   "outputs": [],
   "source": [
    "dt=np.cumsum(data)"
   ]
  },
  {
   "cell_type": "code",
   "execution_count": 108,
   "id": "3f3b15ce-9130-45d6-b14c-70d27ee099ee",
   "metadata": {},
   "outputs": [
    {
     "name": "stdout",
     "output_type": "stream",
     "text": [
      "[  0.  19.  38.  57.  76.  95. 114. 133. 152. 171. 190.]\n"
     ]
    }
   ],
   "source": [
    "dt1=np.linspace(0,190,11,endpoint=True)\n",
    "print(dt1)"
   ]
  },
  {
   "cell_type": "code",
   "execution_count": 96,
   "id": "55eac6e8-5772-451b-a60e-a0ca8632d52e",
   "metadata": {},
   "outputs": [
    {
     "name": "stdout",
     "output_type": "stream",
     "text": [
      "0.3649774344718718\n"
     ]
    }
   ],
   "source": [
    "rand=np.random.random(10)\n",
    "array=np.asarray(rand)\n",
    "idx=(np.abs(array-0.5)).argmin() #获取最接近0.5得值\n",
    "print(array[idx])"
   ]
  },
  {
   "cell_type": "code",
   "execution_count": 3,
   "id": "886ab597-fa3e-4614-b721-6c867ead35b1",
   "metadata": {},
   "outputs": [
    {
     "name": "stdout",
     "output_type": "stream",
     "text": [
      "[0 2 5 8 9 9 9 9 9]\n"
     ]
    }
   ],
   "source": [
    "array=np.array([1,3,5,6,8,10,11,12,18])\n",
    "rd=np.searchsorted(array,[1,5,10,15,20,25,30,35,40],side='left') #当多个条件符合时，left返回第一个符合调济安得坐标，right返回最后一个符合调济安得坐标\n",
    "print(rd)"
   ]
  },
  {
   "cell_type": "code",
   "execution_count": 13,
   "id": "ef26679e-5651-4a5c-8cda-e06ddfdf9ddf",
   "metadata": {},
   "outputs": [],
   "source": [
    "#升序排列\n",
    "array=np.array([1,3,5,2,6])\n",
    "array.sort()"
   ]
  },
  {
   "cell_type": "markdown",
   "id": "a0eed2bf-4fbb-42d5-a9d0-b481a2935058",
   "metadata": {},
   "source": [
    "#查找比目标数组大的值的位置"
   ]
  },
  {
   "cell_type": "code",
   "execution_count": 15,
   "id": "33234a39-ec90-4069-9459-9a71fb950242",
   "metadata": {},
   "outputs": [
    {
     "data": {
      "text/plain": [
       "array([2, 3, 3, 5], dtype=int64)"
      ]
     },
     "execution_count": 15,
     "metadata": {},
     "output_type": "execute_result"
    }
   ],
   "source": [
    "a=np.array([1,3,5,8,10]) \n",
    "np.searchsorted(a,[4,6,7,11],side='left')"
   ]
  },
  {
   "cell_type": "code",
   "execution_count": 16,
   "id": "e795388b-8d53-496f-a9ac-cc34aa326e12",
   "metadata": {},
   "outputs": [
    {
     "data": {
      "text/plain": [
       "array([1, 5, 8])"
      ]
     },
     "execution_count": 16,
     "metadata": {},
     "output_type": "execute_result"
    }
   ],
   "source": [
    "#按索引从数组中获取多个元素\n",
    "a[[0,2,3]]"
   ]
  },
  {
   "cell_type": "code",
   "execution_count": 91,
   "id": "155e0110-635d-4aad-8fa3-56217a05adaf",
   "metadata": {},
   "outputs": [
    {
     "data": {
      "text/plain": [
       "array([0, 2, 0, 0, 3], dtype=int64)"
      ]
     },
     "execution_count": 91,
     "metadata": {},
     "output_type": "execute_result"
    }
   ],
   "source": [
    "#从0到列表中最大值生成一一对应索引，然后统计每个索引出现的次数\n",
    "a=np.array([1,1,4,4,4,])\n",
    "np.bincount(a)"
   ]
  },
  {
   "cell_type": "code",
   "execution_count": 90,
   "id": "030999c3-d5de-47c3-83b9-b33ff634deb7",
   "metadata": {},
   "outputs": [
    {
     "data": {
      "text/plain": [
       "array([1, 3, 2, 6])"
      ]
     },
     "execution_count": 90,
     "metadata": {},
     "output_type": "execute_result"
    }
   ],
   "source": [
    "#把多为数组转为1维数组\n",
    "a=np.array([[1,3],[2,6]])\n",
    "a.flatten() "
   ]
  },
  {
   "cell_type": "code",
   "execution_count": 95,
   "id": "9dc157dd-0648-4b50-9e9e-e6904e482cb8",
   "metadata": {},
   "outputs": [
    {
     "data": {
      "text/plain": [
       "array([1, 1, 1, 2, 2, 3, 3, 3, 4])"
      ]
     },
     "execution_count": 95,
     "metadata": {},
     "output_type": "execute_result"
    }
   ],
   "source": [
    "# create a test array\n",
    "records_array = np.array([1, 2, 3, 1, 1, 3, 4, 3, 2])\n",
    "# creates an array of indices, sorted by unique element\n",
    "idx_sort = np.argsort(records_array)\n",
    "# sorts records array so all unique elements are together \n",
    "sorted_records_array = records_array[idx_sort]\n",
    "sorted_records_array"
   ]
  },
  {
   "cell_type": "code",
   "execution_count": 94,
   "id": "628dd6fc-1b11-4e60-aaa8-7d3b1cb75b3a",
   "metadata": {},
   "outputs": [
    {
     "name": "stdout",
     "output_type": "stream",
     "text": [
      "[1 2 3 4] [0 3 5 8]\n"
     ]
    }
   ],
   "source": [
    "# returns the unique values, the index of the first occurrence of a value, and the count for each element\n",
    "uni_x,indx_x= np.unique(sorted_records_array, return_index=True)\n",
    "print(uni_x,indx_x)\n"
   ]
  },
  {
   "cell_type": "code",
   "execution_count": 2,
   "id": "fa8748d8-fd66-4a45-9e0a-d38f061e794a",
   "metadata": {},
   "outputs": [
    {
     "data": {
      "text/plain": [
       "[array([0, 1, 2]), array([3, 4]), array([5, 6]), array([7, 8])]"
      ]
     },
     "execution_count": 2,
     "metadata": {},
     "output_type": "execute_result"
    }
   ],
   "source": [
    "#拆分为N份\n",
    "import numpy as np\n",
    "a=list(range(9))\n",
    "np.array_split(a,4)"
   ]
  },
  {
   "cell_type": "code",
   "execution_count": 57,
   "id": "7bc74604-df2c-4309-bfb0-2b26bcee860c",
   "metadata": {
    "tags": []
   },
   "outputs": [
    {
     "name": "stdout",
     "output_type": "stream",
     "text": [
      "反正玄值： 0.7853981633974483\n",
      "将反正玄值转为角度 45.0\n"
     ]
    }
   ],
   "source": [
    "angle=np.arctan(4/4)\n",
    "print('反正玄值：',angle)\n",
    "print('将反正玄值转为角度',180*angle/np.pi) #获取到角度"
   ]
  },
  {
   "attachments": {
    "cf9f11e4-f98a-4118-a03a-bd95e48b01fa.png": {
     "image/png": "[encoded data removed]"
    }
   },
   "cell_type": "markdown",
   "id": "d5acaa16-71e6-4f56-9193-e5e9266eec93",
   "metadata": {},
   "source": [
    "# arctan图像-反正玄图像：\n",
    "![image.png](attachment:cf9f11e4-f98a-4118-a03a-bd95e48b01fa.png)"
   ]
  },
  {
   "cell_type": "code",
   "execution_count": 16,
   "id": "91db4503-7f29-4202-8bd9-0ac78fa91edd",
   "metadata": {},
   "outputs": [
    {
     "name": "stdout",
     "output_type": "stream",
     "text": [
      "向量的点积: 16\n",
      "向量的模: 5.656854249492381\n"
     ]
    },
    {
     "data": {
      "text/plain": [
       "0.7071067811865475"
      ]
     },
     "execution_count": 16,
     "metadata": {},
     "output_type": "execute_result"
    }
   ],
   "source": [
    "#计算向量夹角，即相似度\n",
    "a=np.array([4,4])\n",
    "b=np.array([4,0])\n",
    "print('向量的点积:',np.dot(a,b)) #a\\b的点积\n",
    "print('向量的模:',np.linalg.norm(a)) #a的模\n",
    "#a\\b的夹角\n",
    "np.dot(a,b)/(np.linalg.norm(a)*np.linalg.norm(b))"
   ]
  },
  {
   "cell_type": "code",
   "execution_count": 1,
   "id": "25a4306a-3684-40be-902e-bd5c969a37b4",
   "metadata": {},
   "outputs": [
    {
     "name": "stdout",
     "output_type": "stream",
     "text": [
      "7.14142842854285\n"
     ]
    },
    {
     "data": {
      "text/plain": [
       "0.9411764705882352"
      ]
     },
     "execution_count": 1,
     "metadata": {},
     "output_type": "execute_result"
    }
   ],
   "source": [
    "import numpy as np\n",
    "x=np.array([3,4,1,5])\n",
    "y=np.array([5,3,1,4])\n",
    "print(np.linalg.norm(x))   #求向量的范数，即长度\n",
    "np.dot(x,y)/(np.linalg.norm(x)*np.linalg.norm(y))   #linalg线性代数中的算法"
   ]
  },
  {
   "cell_type": "code",
   "execution_count": 39,
   "id": "2667a7db-b35a-4a1a-948a-c4f77387643d",
   "metadata": {},
   "outputs": [
    {
     "name": "stdout",
     "output_type": "stream",
     "text": [
      "Wall time: 0 ns\n"
     ]
    },
    {
     "data": {
      "text/plain": [
       "[(0, 1), (0, 2), (1, 2)]"
      ]
     },
     "execution_count": 39,
     "metadata": {},
     "output_type": "execute_result"
    }
   ],
   "source": [
    "%%time\n",
    "import itertools\n",
    "list(itertools.combinations(list(range(3)),2))"
   ]
  },
  {
   "cell_type": "code",
   "execution_count": 19,
   "id": "30ad4b82-2ad2-4544-b597-4ea20f61a2dd",
   "metadata": {},
   "outputs": [
    {
     "data": {
      "text/plain": [
       "array([  4,  14,  52,  88, 156, 134, 148,  54,  40])"
      ]
     },
     "execution_count": 19,
     "metadata": {},
     "output_type": "execute_result"
    }
   ],
   "source": [
    "np.convolve(x,y)#卷积，same取相同长度的中间部分，valid取中间位置"
   ]
  },
  {
   "cell_type": "code",
   "execution_count": 13,
   "id": "89ca9650-5087-4f47-95bd-87d71a4fbc20",
   "metadata": {},
   "outputs": [
    {
     "data": {
      "text/plain": [
       "array([[0.23380886, 0.33703267, 0.39429198],\n",
       "       [0.23193646, 0.33449586, 0.39121158],\n",
       "       [0.23193646, 0.33449586, 0.39121158]])"
      ]
     },
     "execution_count": 13,
     "metadata": {},
     "output_type": "execute_result"
    }
   ],
   "source": [
    "x=np.array([[155,230,255],\n",
    "           [150,230,255],\n",
    "          [150,230,255]])\n",
    "y=np.array([[155,210,255],\n",
    "           [150,210,255],\n",
    "           [150,230,255]])\n",
    "np.dot(x,y)/(np.linalg.norm(x)*np.linalg.norm(y))  "
   ]
  },
  {
   "cell_type": "code",
   "execution_count": 14,
   "id": "421c060d-8e22-44c7-9b61-4b31f5e1764b",
   "metadata": {},
   "outputs": [
    {
     "data": {
      "text/plain": [
       "650.2307282803544"
      ]
     },
     "execution_count": 14,
     "metadata": {},
     "output_type": "execute_result"
    }
   ],
   "source": [
    "(np.linalg.norm(x))   #linalg线性代数中的算法"
   ]
  },
  {
   "cell_type": "code",
   "execution_count": 15,
   "id": "312d57d6-a45c-44c9-b84a-ac8c529c899b",
   "metadata": {},
   "outputs": [
    {
     "data": {
      "text/plain": [
       "array([[0.23380886, 0.33703267, 0.39429198],\n",
       "       [0.23193646, 0.33449586, 0.39121158],\n",
       "       [0.23193646, 0.33449586, 0.39121158]])"
      ]
     },
     "execution_count": 15,
     "metadata": {},
     "output_type": "execute_result"
    }
   ],
   "source": [
    "np.dot(x,y)/(np.sqrt(sum(sum(np.square(x))))*np.sqrt(sum(sum(np.square(y))))) "
   ]
  },
  {
   "cell_type": "code",
   "execution_count": 15,
   "id": "a2dc7ee9-84f4-4782-bcad-a7f9241dea92",
   "metadata": {},
   "outputs": [
    {
     "name": "stdout",
     "output_type": "stream",
     "text": [
      "[[2 3]\n",
      " [4 5]]\n"
     ]
    },
    {
     "data": {
      "text/plain": [
       "(2, 2)"
      ]
     },
     "execution_count": 15,
     "metadata": {},
     "output_type": "execute_result"
    }
   ],
   "source": [
    "import numpy as np\n",
    "a=np.array([[2,3],[4,5]])\n",
    "print(a)\n",
    "a[:,np.newaxis]\n",
    "a.shape"
   ]
  },
  {
   "cell_type": "code",
   "execution_count": null,
   "id": "e97efc47-c658-41d7-823a-f7381df960d7",
   "metadata": {},
   "outputs": [],
   "source": []
  },
  {
   "cell_type": "code",
   "execution_count": 20,
   "id": "35e87d49-65ea-435f-9807-7f292286aa87",
   "metadata": {},
   "outputs": [
    {
     "data": {
      "text/plain": [
       "(array([array([0.5, 1.5]), array([0.5       , 1.22474487]),\n",
       "        array([1.5       , 1.22474487])], dtype=object),\n",
       " array([array([1, 2], dtype=int64), array([0, 2], dtype=int64),\n",
       "        array([0, 1], dtype=int64)], dtype=object))"
      ]
     },
     "execution_count": 20,
     "metadata": {},
     "output_type": "execute_result"
    }
   ],
   "source": [
    "import numpy as np\n",
    "samples = [[0., 0., 0.], [0., .5, 0.], [1., 1., .5]]\n",
    "from sklearn.neighbors import NearestNeighbors\n",
    "neigh=NearestNeighbors(radius=1.6)\n",
    "neigh.fit(samples)\n",
    "neigh.radius_neighbors()"
   ]
  },
  {
   "cell_type": "code",
   "execution_count": 9,
   "id": "4ced68b6-7f17-4669-8767-715266628be3",
   "metadata": {},
   "outputs": [
    {
     "data": {
      "text/plain": [
       "(array([array([1.5, 0.5])], dtype=object),\n",
       " array([array([1, 2], dtype=int64)], dtype=object))"
      ]
     },
     "execution_count": 9,
     "metadata": {},
     "output_type": "execute_result"
    }
   ],
   "source": [
    "neigh.radius_neighbors([[1.,1.,1.]])"
   ]
  },
  {
   "cell_type": "markdown",
   "id": "e03ba8dc-855b-4bf1-9d72-8c1ea39d3d01",
   "metadata": {},
   "source": [
    "### 生成一维列表"
   ]
  },
  {
   "cell_type": "code",
   "execution_count": 6,
   "id": "36be4db9-2479-48bd-a166-f69b3a15826e",
   "metadata": {},
   "outputs": [
    {
     "data": {
      "text/plain": [
       "array([[0],\n",
       "       [1],\n",
       "       [2],\n",
       "       [3],\n",
       "       [4]])"
      ]
     },
     "execution_count": 6,
     "metadata": {},
     "output_type": "execute_result"
    }
   ],
   "source": [
    "np.arange(5)[:,None]"
   ]
  },
  {
   "cell_type": "markdown",
   "id": "c3abf966-fc6e-469f-b2c8-980fe1e8885b",
   "metadata": {},
   "source": [
    "### Partition 将一组数组按指定值进行分割"
   ]
  },
  {
   "cell_type": "code",
   "execution_count": 34,
   "id": "e5176b2e-0ef4-4481-91ed-ffb36be21f5b",
   "metadata": {},
   "outputs": [
    {
     "name": "stdout",
     "output_type": "stream",
     "text": [
      "[1 2 3 4 7 6]\n",
      "[5 2 0 1 4 3]\n"
     ]
    }
   ],
   "source": [
    " # 第kth=(1、3)小的值放在左边，大于1、3的值放在右边。如果kth为负值，则表示第kth的最大值，至于左、右两边之后的顺序和原来一致\n",
    "a = np.array([3, 4, 2, 6,7, 1])  \n",
    "print(np.partition(a, (1,3)))\n",
    "print(np.argpartition(a,(1,3)))   #和partion一样，只是返回的是索引"
   ]
  },
  {
   "cell_type": "code",
   "execution_count": 45,
   "id": "2fdc342b-ba15-4c5e-9baa-d38b8657670b",
   "metadata": {},
   "outputs": [
    {
     "name": "stdout",
     "output_type": "stream",
     "text": [
      "[[0.]\n",
      " [2.]]\n",
      "[[2]\n",
      " [0]]\n"
     ]
    }
   ],
   "source": [
    "samples = [[0.,3.], [4.0,0], [1.,1.]]\n",
    "from sklearn.neighbors import NearestNeighbors\n",
    "neigh = NearestNeighbors(n_neighbors=1)\n",
    "neigh.fit(samples)\n",
    "distances,indices=neigh.kneighbors([[1., 1.,],[2,3]])\n",
    "print(distances)  #返回点到samples最近点的距离，\n",
    "print(indices)    #返回点到samples最近点的索引\n"
   ]
  },
  {
   "cell_type": "markdown",
   "id": "b1cb95c2-b277-46a9-b055-62e997c61e6b",
   "metadata": {},
   "source": [
    "### pandas insert和drop方法"
   ]
  },
  {
   "cell_type": "code",
   "execution_count": 43,
   "id": "42c6bb3a-0c57-4420-8137-9dcdac0e43e1",
   "metadata": {},
   "outputs": [
    {
     "data": {
      "text/html": [
       "<div>\n",
       "<style scoped>\n",
       "    .dataframe tbody tr th:only-of-type {\n",
       "        vertical-align: middle;\n",
       "    }\n",
       "\n",
       "    .dataframe tbody tr th {\n",
       "        vertical-align: top;\n",
       "    }\n",
       "\n",
       "    .dataframe thead th {\n",
       "        text-align: right;\n",
       "    }\n",
       "</style>\n",
       "<table border=\"1\" class=\"dataframe\">\n",
       "  <thead>\n",
       "    <tr style=\"text-align: right;\">\n",
       "      <th></th>\n",
       "      <th>c</th>\n",
       "      <th>A</th>\n",
       "      <th>B</th>\n",
       "    </tr>\n",
       "  </thead>\n",
       "  <tbody>\n",
       "    <tr>\n",
       "      <th>1</th>\n",
       "      <td>3</td>\n",
       "      <td>2</td>\n",
       "      <td>5</td>\n",
       "    </tr>\n",
       "    <tr>\n",
       "      <th>2</th>\n",
       "      <td>3</td>\n",
       "      <td>3</td>\n",
       "      <td>6</td>\n",
       "    </tr>\n",
       "  </tbody>\n",
       "</table>\n",
       "</div>"
      ],
      "text/plain": [
       "   c  A  B\n",
       "1  3  2  5\n",
       "2  3  3  6"
      ]
     },
     "execution_count": 43,
     "metadata": {},
     "output_type": "execute_result"
    }
   ],
   "source": [
    "import pandas as pd\n",
    "data=pd.DataFrame({'A':[1,2,3],'B':[4,5,6]})  \n",
    "data.insert(0,'c',3)     #索引位置，列明，值\n",
    "data.drop(index=0)       #按索引删除"
   ]
  },
  {
   "cell_type": "markdown",
   "id": "0d3c40eb-7bc4-41e8-9dc7-084941442114",
   "metadata": {},
   "source": [
    "### 在A中剔除B的数据"
   ]
  },
  {
   "cell_type": "code",
   "execution_count": 51,
   "id": "3b501c76-d4f7-4197-912f-6d5713caf5b4",
   "metadata": {},
   "outputs": [
    {
     "data": {
      "text/plain": [
       "array([0, 1, 2, 4, 6, 7, 8, 9])"
      ]
     },
     "execution_count": 51,
     "metadata": {},
     "output_type": "execute_result"
    }
   ],
   "source": [
    "np.setdiff1d(np.arange(10), np.array([3,5]))"
   ]
  },
  {
   "cell_type": "markdown",
   "id": "95add8e9-58b2-4d69-843f-a77f4fe66fee",
   "metadata": {},
   "source": [
    "### 在2-3之间生成10个成直线线性的数据集"
   ]
  },
  {
   "cell_type": "code",
   "execution_count": 59,
   "id": "a9e6e49f-e3fa-4854-a553-4ffe3755acce",
   "metadata": {},
   "outputs": [
    {
     "data": {
      "text/plain": [
       "array([2.        , 2.11111111, 2.22222222, 2.33333333, 2.44444444,\n",
       "       2.55555556, 2.66666667, 2.77777778, 2.88888889, 3.        ])"
      ]
     },
     "execution_count": 59,
     "metadata": {},
     "output_type": "execute_result"
    }
   ],
   "source": [
    "np.linspace(2,3,10) "
   ]
  },
  {
   "cell_type": "markdown",
   "id": "aa727e81-eb4e-4245-994d-c6b6b627c5ca",
   "metadata": {},
   "source": [
    "### 知识图谱用矩阵实现"
   ]
  },
  {
   "cell_type": "code",
   "execution_count": 73,
   "id": "af0556c6-ef9d-4152-bb37-27adf7773e0a",
   "metadata": {},
   "outputs": [
    {
     "name": "stdout",
     "output_type": "stream",
     "text": [
      "[[-1  0 -1 -1  0]\n",
      " [ 1 -1  0  0  0]\n",
      " [ 0  1  1  0 -1]\n",
      " [ 0  0  0  1  1]]\n",
      "ABCD代表节点数量，每行的记录代表节点关系，-1代表出，1代表入。\n"
     ]
    }
   ],
   "source": [
    "M=np.array([[-1,1,0,0],[0,-1,1,0],[-1,0,1,0],[-1,0,0,1],[0,0,-1,1]])\n",
    "print(M.T)\n",
    "print('ABCD代表节点数量，每行的记录代表节点关系，-1代表出，1代表入。')"
   ]
  },
  {
   "attachments": {
    "c2a6093f-de93-4261-8f44-36e0d1ccede2.png": {
     "image/png": "[encoded data removed]"
    }
   },
   "cell_type": "markdown",
   "id": "7a817153-e901-466d-9a53-c9858e6c446e",
   "metadata": {},
   "source": [
    "#### 求B节点二级关联关系：\n",
    "先查询B!=0矩阵，设为[[-1,1,0,0],[0,-1,1,0]]，然后计算D1中!=0的列，得出A、B、C节点。\n",
    "\n",
    "![image.png](attachment:c2a6093f-de93-4261-8f44-36e0d1ccede2.png)"
   ]
  },
  {
   "cell_type": "code",
   "execution_count": 82,
   "id": "de368da3-0f40-4be5-9f34-b66330567130",
   "metadata": {},
   "outputs": [
    {
     "name": "stdout",
     "output_type": "stream",
     "text": [
      "[[-1  0 -1 -1  0]\n",
      " [ 1 -1  0  0  0]\n",
      " [ 0  1  1  0 -1]\n",
      " [ 0  0  0  1  1]]\n"
     ]
    }
   ],
   "source": [
    "print(M.T) #M的转置，列对应每条边"
   ]
  },
  {
   "cell_type": "code",
   "execution_count": 81,
   "id": "c8ef3e44-4d2a-4452-a0e7-cb0af8f11a6b",
   "metadata": {},
   "outputs": [
    {
     "name": "stdout",
     "output_type": "stream",
     "text": [
      "3\n",
      "矩阵的pivot列代表三个线性无关的列，即图中1，2，4线段\n"
     ]
    }
   ],
   "source": [
    "print(np.linalg.matrix_rank(M)) #求M矩阵的秩\n",
    "print('矩阵的pivot列代表三个线性无关的列，即图中1，2，4线段,这三个线段不能形成一个回循环，也叫做tree(树)')"
   ]
  },
  {
   "cell_type": "markdown",
   "id": "82f6f115-4ec1-4770-af9f-a00fbfac6e99",
   "metadata": {},
   "source": [
    "# dim N(M.T)=m-r(m为边的数量，r为M矩阵的稚)\n",
    "# loops(循环的数量，也称为最小形成的面积数量)=edges-(nodes-1)\n",
    "### nodes-edges+loops=1\n",
    "# rank=nodes-1"
   ]
  },
  {
   "cell_type": "code",
   "execution_count": 2,
   "id": "d72e86c4-9a5a-4cc7-9bfd-f50041560986",
   "metadata": {},
   "outputs": [
    {
     "data": {
      "text/plain": [
       "array([[1, 0, 0],\n",
       "       [0, 2, 0],\n",
       "       [0, 0, 3]])"
      ]
     },
     "execution_count": 2,
     "metadata": {},
     "output_type": "execute_result"
    }
   ],
   "source": [
    "np.diag(np.array([1,2,3]))  #提取对角线矩阵或构造一个对角线矩阵"
   ]
  },
  {
   "cell_type": "code",
   "execution_count": 51,
   "id": "4b3995f8-e351-4b1e-a436-8d9dcdaca659",
   "metadata": {},
   "outputs": [
    {
     "data": {
      "text/plain": [
       "array([[1, 2, 1],\n",
       "       [2, 3, 4],\n",
       "       [2, 4, 6]])"
      ]
     },
     "execution_count": 51,
     "metadata": {},
     "output_type": "execute_result"
    }
   ],
   "source": [
    "A=np.array([[1,2,1],[2,3,4],[2,4,6]])\n",
    "A"
   ]
  },
  {
   "cell_type": "code",
   "execution_count": 54,
   "id": "5ee99bfa-03f7-4964-bd37-dd4104aaa4d9",
   "metadata": {},
   "outputs": [
    {
     "name": "stdout",
     "output_type": "stream",
     "text": [
      "[9.46070145 1.16793791 0.36200694]\n"
     ]
    }
   ],
   "source": [
    "U,λ,V=np.linalg.svd(A)\n",
    "print(λ)"
   ]
  },
  {
   "cell_type": "code",
   "execution_count": 53,
   "id": "dd27ed73-06d8-49ba-a127-5ac2948ce886",
   "metadata": {},
   "outputs": [
    {
     "data": {
      "text/plain": [
       "array([[1., 2., 1.],\n",
       "       [2., 3., 4.],\n",
       "       [2., 4., 6.]])"
      ]
     },
     "execution_count": 53,
     "metadata": {},
     "output_type": "execute_result"
    }
   ],
   "source": [
    "np.dot(np.dot(U,np.diag(λ)),V)"
   ]
  },
  {
   "cell_type": "code",
   "execution_count": 14,
   "id": "3e60d3be-b181-422d-9b42-aab633334bfc",
   "metadata": {},
   "outputs": [
    {
     "data": {
      "text/plain": [
       "array([1, 3, 6, 6, 1, 3], dtype=int64)"
      ]
     },
     "execution_count": 14,
     "metadata": {},
     "output_type": "execute_result"
    }
   ],
   "source": [
    "a=np.array([1,3,5,7,1,3])\n",
    "b=np.array([0,4,1,3,2,4,])\n",
    "np.searchsorted(b,a)"
   ]
  },
  {
   "cell_type": "code",
   "execution_count": null,
   "id": "876a21dc-1f37-4d7a-98ed-dcbdb96ae8f2",
   "metadata": {},
   "outputs": [],
   "source": []
  }
 ],
 "metadata": {
  "kernelspec": {
   "display_name": "Python 3 (ipykernel)",
   "language": "python",
   "name": "python3"
  },
  "language_info": {
   "codemirror_mode": {
    "name": "ipython",
    "version": 3
   },
   "file_extension": ".py",
   "mimetype": "text/x-python",
   "name": "python",
   "nbconvert_exporter": "python",
   "pygments_lexer": "ipython3",
   "version": "3.9.7"
  }
 },
 "nbformat": 4,
 "nbformat_minor": 5
}
