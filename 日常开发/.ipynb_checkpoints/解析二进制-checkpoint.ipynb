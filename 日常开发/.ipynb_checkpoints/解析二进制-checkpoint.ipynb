{
 "cells": [
  {
   "cell_type": "code",
   "execution_count": 19,
   "id": "c3f50f2f-6595-4bf4-b0d7-2bbc55e6b5ac",
   "metadata": {},
   "outputs": [
    {
     "name": "stdout",
     "output_type": "stream",
     "text": [
      "b'\\xa4p=\\n\\xd7\\xa3(@'\n",
      "(12.32,)\n"
     ]
    }
   ],
   "source": [
    "import struct\n",
    "import binascii\n",
    "import ctypes\n",
    "a=12.32\n",
    "byte=struct.pack('d',a)\n",
    "print(byte)\n",
    "print(struct.unpack('d',byte))"
   ]
  },
  {
   "cell_type": "code",
   "execution_count": 18,
   "id": "874ab9b1-99be-4d65-b5f8-f200471736c6",
   "metadata": {},
   "outputs": [
    {
     "data": {
      "text/plain": [
       "(45.123,)"
      ]
     },
     "execution_count": 18,
     "metadata": {},
     "output_type": "execute_result"
    }
   ],
   "source": [
    "a='hello'\n",
    "b='world!'\n",
    "c='a'\n",
    "d=45.123\n",
    "bytes=struct.pack('d',d)\n",
    "struct.unpack('d',bytes)"
   ]
  }
 ],
 "metadata": {
  "kernelspec": {
   "display_name": "Python 3",
   "language": "python",
   "name": "python3"
  },
  "language_info": {
   "codemirror_mode": {
    "name": "ipython",
    "version": 3
   },
   "file_extension": ".py",
   "mimetype": "text/x-python",
   "name": "python",
   "nbconvert_exporter": "python",
   "pygments_lexer": "ipython3",
   "version": "3.9.5"
  }
 },
 "nbformat": 4,
 "nbformat_minor": 5
}
