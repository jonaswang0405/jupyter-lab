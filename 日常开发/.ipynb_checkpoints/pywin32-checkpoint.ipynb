{
 "cells": [
  {
   "cell_type": "code",
   "execution_count": 1,
   "id": "9126f775-7d53-4afa-9a7d-fef718a91d0a",
   "metadata": {},
   "outputs": [
    {
     "ename": "com_error",
     "evalue": "(-2147352567, '发生意外。', (0, 'Microsoft Excel', '抱歉，无法找到 test.xlsx。是否可能被移动、重命名或删除?', 'xlmain11.chm', 0, -2146827284), None)",
     "output_type": "error",
     "traceback": [
      "\u001b[1;31m---------------------------------------------------------------------------\u001b[0m",
      "\u001b[1;31mcom_error\u001b[0m                                 Traceback (most recent call last)",
      "\u001b[1;32m<ipython-input-1-c20e906a5395>\u001b[0m in \u001b[0;36m<module>\u001b[1;34m\u001b[0m\n\u001b[0;32m      3\u001b[0m \u001b[0mxlApp\u001b[0m\u001b[1;33m.\u001b[0m\u001b[0mVisible\u001b[0m\u001b[1;33m=\u001b[0m\u001b[1;36m1\u001b[0m \u001b[1;31m# 显示excel界面\u001b[0m\u001b[1;33m\u001b[0m\u001b[1;33m\u001b[0m\u001b[0m\n\u001b[0;32m      4\u001b[0m \u001b[0mfilename\u001b[0m\u001b[1;33m=\u001b[0m\u001b[1;34m\"test.xlsx\"\u001b[0m\u001b[1;33m\u001b[0m\u001b[1;33m\u001b[0m\u001b[0m\n\u001b[1;32m----> 5\u001b[1;33m \u001b[0mwb\u001b[0m\u001b[1;33m=\u001b[0m\u001b[0mxlApp\u001b[0m\u001b[1;33m.\u001b[0m\u001b[0mworkbooks\u001b[0m\u001b[1;33m.\u001b[0m\u001b[0mopen\u001b[0m\u001b[1;33m(\u001b[0m\u001b[0mfilename\u001b[0m\u001b[1;33m)\u001b[0m\u001b[1;33m\u001b[0m\u001b[1;33m\u001b[0m\u001b[0m\n\u001b[0m\u001b[0;32m      6\u001b[0m \u001b[0msht1\u001b[0m\u001b[1;33m=\u001b[0m\u001b[0mwb\u001b[0m\u001b[1;33m.\u001b[0m\u001b[0mSheets\u001b[0m\u001b[1;33m(\u001b[0m\u001b[1;34m'Sheet1'\u001b[0m\u001b[1;33m)\u001b[0m\u001b[1;33m\u001b[0m\u001b[1;33m\u001b[0m\u001b[0m\n\u001b[0;32m      7\u001b[0m \u001b[0msht1\u001b[0m\u001b[1;33m.\u001b[0m\u001b[0mcolumns\u001b[0m\u001b[1;33m(\u001b[0m\u001b[1;36m1\u001b[0m\u001b[1;33m)\u001b[0m\u001b[1;33m.\u001b[0m\u001b[0mColumnWidth\u001b[0m\u001b[1;33m=\u001b[0m\u001b[1;36m32\u001b[0m \u001b[1;31m#调整列宽\u001b[0m\u001b[1;33m\u001b[0m\u001b[1;33m\u001b[0m\u001b[0m\n",
      "\u001b[1;32mc:\\python39\\lib\\site-packages\\win32com\\client\\dynamic.py\u001b[0m in \u001b[0;36mopen\u001b[1;34m(self, *args)\u001b[0m\n",
      "\u001b[1;31mcom_error\u001b[0m: (-2147352567, '发生意外。', (0, 'Microsoft Excel', '抱歉，无法找到 test.xlsx。是否可能被移动、重命名或删除?', 'xlmain11.chm', 0, -2146827284), None)"
     ]
    }
   ],
   "source": [
    "import win32com.client\n",
    "xlApp = win32com.client.Dispatch('Excel.Application')\n",
    "xlApp.Visible=1 # 显示excel界面\n",
    "xl.DisplayAlerts =False  #不让有弹窗出现\n",
    "xl.ActiveWindow.DisplayGridlines=False #设置当前excel活动页面不显示网格线\n",
    "filename=\"test.xlsx\"\n",
    "wb=xlApp.workbooks.open(filename)\n",
    "sht1=wb.Sheets('Sheet1')\n",
    "sht1.columns(1).ColumnWidth=32 #调整列宽\n",
    "sht1.Columns(1).EntireColumn.AutoFit() #自动调整列宽\n",
    "sht1.columns(1).HorizontalAlicgnment=2 #设置居中\n",
    "sht1.columns(1).VerticalAlicgnment=2 #设置垂直居中\n",
    "sht1.columns(1).Interior.ColorIndex=45 #设置背景色\n",
    "#sort_on 0数值值排序，1按颜色排序，dataoption:0按数值排序，1按文本排序，order:1按数为升序\n",
    "sht1.Sort.SortFields.Add(Key=Sht1.Range(\"A2:D10\"),Sorton=0,Order=1,DataOption=0) \n",
    "sht.Range(\"A1\").UsedRange #获取使用区域的值\n",
    "sht.Range(\"A1\").CurrentRegion() #等于CTRL+A\n",
    "#设置边框，CurrentRegion()等于ctrl+A\n",
    "for x in range(7,13):\n",
    "    sht1.Range(\"A1\").CurrentRange().Borders(x).LineStyle=1\n",
    "    sht1.Range(\"A1\").CurrentRange().Borders(x).Weight=2\n",
    "sht1.range(\"A1:A5\").Copy(Sht2.Range(\"A1\")) #复制粘贴\n",
    "sht1.range(\"A1\").Formula=\"=function()\"\n",
    "sht1.Range(\"A1:D10\").AutoFilter(Field=(1,2),Criterial=(\"A123\",'B123'))#按A\\B列进行筛选A123、B123\n",
    "\n",
    "\n",
    "#写入数据时，日期时区导致报错\n",
    "data[[date1,data2]]=data[[date1,data2]].astype('str')\n",
    "insert_data=tuple(tuple(x) for x in data.values)\n",
    "sht1.Range(\"A1:D10\").Value=insert_data"
   ]
  },
  {
   "cell_type": "code",
   "execution_count": null,
   "id": "fb77b82b-9a55-4dba-b790-d747cbe5e4ad",
   "metadata": {},
   "outputs": [],
   "source": [
    "import win32com.client as win32com\n",
    "from win32com.client import constants\n",
    "xl = win32com.gencache.EnsureDispatch('Excel.Application')\n",
    "xl.Visible = True\n",
    "wb = xl.Workbooks.Add ()\n",
    "Sheet1 = wb.Sheets(\"Sheet1\")\n",
    "\n",
    "# Fill in some summy formulas\n",
    "for i in range(10):\n",
    "    Sheet1.Cells(i+1,1).Value = \"=10*\"+str(i+1)\n",
    "\n",
    "Sheet1.Range(\"A1:A16\").Copy()\n",
    "Sheet1.Range(\"C1\").PasteSpecial(Paste=constants.xlPasteValues)  #将公式粘贴为数值"
   ]
  },
  {
   "cell_type": "markdown",
   "id": "c64c36ce-48f4-4cd1-a0cb-9d831f0c2721",
   "metadata": {},
   "source": [
    "# 设置PPT不提示，ppAlertsNone=1"
   ]
  },
  {
   "cell_type": "code",
   "execution_count": null,
   "id": "5992463b-7c60-4bc8-943c-50bf48ba2d87",
   "metadata": {},
   "outputs": [],
   "source": [
    "ppt_app=Dispatch('PowerPoint.Application')\n",
    "ppt.DisplayAlerts=1 #设置取消所有提示\n"
   ]
  },
  {
   "cell_type": "code",
   "execution_count": null,
   "id": "dd690e8d-a1a0-455d-a7be-dfdef0ae3cdf",
   "metadata": {},
   "outputs": [],
   "source": [
    "import itertools\n",
    "for x,y in itertools.combinations(range(50000),2):\n",
    "    if x%1000000000==1:\n",
    "        print(x)"
   ]
  },
  {
   "cell_type": "code",
   "execution_count": 5,
   "id": "3b3886ca-eae4-4711-8f93-5da2143b3087",
   "metadata": {},
   "outputs": [],
   "source": [
    "import itertools"
   ]
  },
  {
   "cell_type": "code",
   "execution_count": null,
   "id": "83fcab3b-bd0a-4ac2-ad94-bfd4716e1bf1",
   "metadata": {},
   "outputs": [],
   "source": [
    "sht.Range(\"1:3\").copy #选择1-3行进行复制\n"
   ]
  },
  {
   "cell_type": "code",
   "execution_count": null,
   "id": "db67e359-c2b7-4590-8625-28609aae3d5b",
   "metadata": {},
   "outputs": [],
   "source": [
    "#把1维数组转2维元组，用以excel按列写入，excel每行的数据在一个元组内，多行需要用多维元组\n",
    "a=['张三','李四','王五']\n",
    "b=np.array(a)\n",
    "b.resize(3,1)\n",
    "tuple(tuple(x) for x in b)"
   ]
  }
 ],
 "metadata": {
  "kernelspec": {
   "display_name": "Python 3 (ipykernel)",
   "language": "python",
   "name": "python3"
  },
  "language_info": {
   "codemirror_mode": {
    "name": "ipython",
    "version": 3
   },
   "file_extension": ".py",
   "mimetype": "text/x-python",
   "name": "python",
   "nbconvert_exporter": "python",
   "pygments_lexer": "ipython3",
   "version": "3.9.9"
  }
 },
 "nbformat": 4,
 "nbformat_minor": 5
}
