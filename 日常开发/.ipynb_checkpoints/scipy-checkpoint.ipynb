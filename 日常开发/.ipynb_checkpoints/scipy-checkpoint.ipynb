{
 "cells": [
  {
   "cell_type": "code",
   "execution_count": 8,
   "id": "164b4f7e-4898-427f-8c93-80b2f61c4e29",
   "metadata": {},
   "outputs": [],
   "source": [
    "from scipy.sparse import csr_matrix"
   ]
  },
  {
   "cell_type": "code",
   "execution_count": 9,
   "id": "11560343-1e57-4d11-a98c-b5224e1fee9c",
   "metadata": {},
   "outputs": [
    {
     "name": "stdout",
     "output_type": "stream",
     "text": [
      "A:\n",
      " [[1 0]\n",
      " [2 1]]\n",
      "B:\n",
      " [[ 1.  0.]\n",
      " [-2.  1.]]\n",
      "A*B:\n",
      " [[1. 0.]\n",
      " [0. 1.]]\n"
     ]
    }
   ],
   "source": [
    "import numpy as np\n",
    "A=np.mat('[1 0; 2 1]')\n",
    "B=A.I\n",
    "print('A:\\n',A)\n",
    "print('B:\\n',B)\n",
    "print('A*B:\\n',A*B)"
   ]
  },
  {
   "cell_type": "code",
   "execution_count": 10,
   "id": "47b4a6ac-8ff6-4659-80d8-ae436cf35fc3",
   "metadata": {},
   "outputs": [
    {
     "data": {
      "text/plain": [
       "array([[17],\n",
       "       [39]])"
      ]
     },
     "execution_count": 10,
     "metadata": {},
     "output_type": "execute_result"
    }
   ],
   "source": [
    "A=np.array([[1,2],[3,4]])\n",
    "b=np.array([[5,6]])\n",
    "A.dot(b.T)   #1*5+2*6,3*5+4*6"
   ]
  },
  {
   "cell_type": "code",
   "execution_count": 12,
   "id": "1c747979-e1d8-4135-81d5-4f44b00cec5a",
   "metadata": {},
   "outputs": [
    {
     "data": {
      "text/plain": [
       "array([[-2. ,  1. ],\n",
       "       [ 1.5, -0.5]])"
      ]
     },
     "execution_count": 12,
     "metadata": {},
     "output_type": "execute_result"
    }
   ],
   "source": [
    "from numpy import linalg\n",
    "linalg.inv(A) #矩阵的逆， A*inv(A)=对角线全部为1的矩阵"
   ]
  },
  {
   "cell_type": "code",
   "execution_count": 13,
   "id": "c4fefed3-f765-464c-b269-9cc24a6f3897",
   "metadata": {},
   "outputs": [
    {
     "data": {
      "text/plain": [
       "array([[-4. ],\n",
       "       [ 4.5]])"
      ]
     },
     "execution_count": 13,
     "metadata": {},
     "output_type": "execute_result"
    }
   ],
   "source": [
    "linalg.inv(A).dot(b.T) #求方程组的解 A*X=b.T"
   ]
  },
  {
   "cell_type": "code",
   "execution_count": 14,
   "id": "69c579f9-c702-49d2-8e3b-443052c7b396",
   "metadata": {},
   "outputs": [
    {
     "data": {
      "text/plain": [
       "array([[-4. ],\n",
       "       [ 4.5]])"
      ]
     },
     "execution_count": 14,
     "metadata": {},
     "output_type": "execute_result"
    }
   ],
   "source": [
    "np.linalg.solve(A,b.T) #np的方程组求解"
   ]
  },
  {
   "cell_type": "code",
   "execution_count": 15,
   "id": "cb87708f-d5dd-4c65-a09a-8f8eaeeb5b57",
   "metadata": {},
   "outputs": [
    {
     "data": {
      "text/plain": [
       "-2.0000000000000004"
      ]
     },
     "execution_count": 15,
     "metadata": {},
     "output_type": "execute_result"
    }
   ],
   "source": [
    "linalg.det(A) #行列式的值"
   ]
  },
  {
   "cell_type": "code",
   "execution_count": 16,
   "id": "cbb361aa-b299-436e-944c-c7902fc0e899",
   "metadata": {},
   "outputs": [
    {
     "data": {
      "text/plain": [
       "5.477225575051661"
      ]
     },
     "execution_count": 16,
     "metadata": {},
     "output_type": "execute_result"
    }
   ],
   "source": [
    "linalg.norm(A)  #求矩阵的范数（长度）"
   ]
  },
  {
   "cell_type": "code",
   "execution_count": 17,
   "id": "7e07e1a8-94db-46f6-95ef-f97b4c619673",
   "metadata": {},
   "outputs": [
    {
     "data": {
      "text/plain": [
       "matrix([[-0.37846698,  0.25231132],\n",
       "        [-0.6307783 ,  0.50462264]])"
      ]
     },
     "execution_count": 17,
     "metadata": {},
     "output_type": "execute_result"
    }
   ],
   "source": [
    "np.dot(A,B)/(linalg.norm(A)+linalg.norm(B))"
   ]
  },
  {
   "cell_type": "code",
   "execution_count": 18,
   "id": "5bd200af-3040-4771-9eea-2415f7a93887",
   "metadata": {},
   "outputs": [
    {
     "data": {
      "text/plain": [
       "matrix([[-3.,  2.],\n",
       "        [-5.,  4.]])"
      ]
     },
     "execution_count": 18,
     "metadata": {},
     "output_type": "execute_result"
    }
   ],
   "source": [
    "np.dot(A,B)"
   ]
  },
  {
   "cell_type": "code",
   "execution_count": 19,
   "id": "298f8d68-53fd-44da-b25a-f8ce0fefd49d",
   "metadata": {},
   "outputs": [
    {
     "data": {
      "text/plain": [
       "-2.0000000000000004"
      ]
     },
     "execution_count": 19,
     "metadata": {},
     "output_type": "execute_result"
    }
   ],
   "source": [
    "linalg.det(A)"
   ]
  },
  {
   "cell_type": "code",
   "execution_count": 20,
   "id": "118ec564-ed59-49f5-be33-694ed08c6b25",
   "metadata": {},
   "outputs": [],
   "source": [
    "B=linalg.inv(A)"
   ]
  },
  {
   "cell_type": "code",
   "execution_count": 98,
   "id": "634d48dd-4d3e-4753-80d0-f451260a3412",
   "metadata": {},
   "outputs": [
    {
     "data": {
      "image/png": "[encoded data removed]",
      "text/plain": [
       "<Figure size 432x288 with 1 Axes>"
      ]
     },
     "metadata": {
      "needs_background": "light"
     },
     "output_type": "display_data"
    }
   ],
   "source": [
    "import matplotlib.pyplot as plt\n",
    "rng=np.random.default_rng()\n",
    "c1,c2=5.0,2.0\n",
    "i=np.r_[1:11]\n",
    "xi=0.1*i\n",
    "yi=c1*np.exp(-xi)+c2*xi\n",
    "zi=yi+0.05*np.max(yi)*rng.standard_normal(len(yi))\n",
    "A=np.c_[np.exp(-xi)[:,np.newaxis],xi[:,np.newaxis]]\n",
    "c, resid, rank, sigma = linalg.lstsq(A, zi)    #最小二乘 A为二维矩阵，zi为A*[x,y]的结果，可以为1维，或多维。多维时，返回多个结果\n",
    "xi2 = np.r_[0.1:1.0:100j]\n",
    "yi2 = c[0]*np.exp(-xi2) + c[1]*xi2\n",
    "plt.plot(xi,zi,'x',xi2,yi2)\n",
    "plt.axis([0,1.1,3.0,5.5])\n",
    "plt.xlabel('$x_i$')\n",
    "plt.title('Data fitting with linalg.lstsq')\n",
    "plt.show()"
   ]
  },
  {
   "cell_type": "code",
   "execution_count": 22,
   "id": "04bdc96e-ad3a-4095-a897-2d6f4ae7143f",
   "metadata": {},
   "outputs": [],
   "source": [
    "A=np.array([[1,2],[3,4]])\n",
    "la ,v=linalg.eig(A)"
   ]
  },
  {
   "cell_type": "code",
   "execution_count": 23,
   "id": "42d64cb9-104b-480e-b596-7ccb68f6fc6a",
   "metadata": {},
   "outputs": [
    {
     "name": "stdout",
     "output_type": "stream",
     "text": [
      "[-0.37228132  5.37228132] [[-0.82456484 -0.41597356]\n",
      " [ 0.56576746 -0.90937671]]\n",
      "[ 0.30697009 -0.21062466]\n",
      "[ 0.30697009 -0.21062466]\n"
     ]
    }
   ],
   "source": [
    "val,vector=linalg.eig(A) #返回n阶矩阵A的特征值和特征向量\n",
    "print(val,vector)\n",
    "print(np.dot(A,vector[:,0]))  #\n",
    "print(val[0]*vector[:,0])\n"
   ]
  },
  {
   "cell_type": "code",
   "execution_count": 31,
   "id": "1b70cd0b-d09b-47a5-9deb-eb4cd2d7dc86",
   "metadata": {},
   "outputs": [],
   "source": [
    "from scipy import optimize"
   ]
  },
  {
   "cell_type": "code",
   "execution_count": 97,
   "id": "0996f43e-d19e-4677-bf6d-be6453a8dee3",
   "metadata": {},
   "outputs": [
    {
     "name": "stdout",
     "output_type": "stream",
     "text": [
      "[1. 0.] 5.551115123125783e-17\n"
     ]
    },
    {
     "data": {
      "text/plain": [
       "array([1., 2., 3.])"
      ]
     },
     "execution_count": 97,
     "metadata": {},
     "output_type": "execute_result"
    }
   ],
   "source": [
    "x=[[1,2],[2,3],[3,4]]\n",
    "y=np.array([1,2,3])\n",
    "a,b=optimize.nnls(x,y) #返回系数非负得拟合值,当Y为-1，-2，-3时，系数a=0\n",
    "print(a,b)\n",
    "np.dot(x,a)+b"
   ]
  },
  {
   "cell_type": "code",
   "execution_count": 139,
   "id": "293dc4f0-9e60-42a6-a0f8-a4156650c7ca",
   "metadata": {},
   "outputs": [
    {
     "name": "stdout",
     "output_type": "stream",
     "text": [
      "[(array([1., 2.]), 0.0), (array([2., 3.]), 0.0)]\n",
      "[[1. 2.]\n",
      " [2. 3.]]\n"
     ]
    },
    {
     "data": {
      "text/plain": [
       "array([[16., 24.]])"
      ]
     },
     "execution_count": 139,
     "metadata": {},
     "output_type": "execute_result"
    }
   ],
   "source": [
    "from sklearn.linear_model import LinearRegression\n",
    "import numpy as np\n",
    "x=np.array([[1,1],[1,2],[2,2],[2,3]])\n",
    "y=np.dot(x,np.array([[1,2],[2,3]]))+3\n",
    "reg=LinearRegression(positive=True).fit(x,y)\n",
    "print(reg.coef_)\n",
    "reg.predict(np.array([[3,5]]))"
   ]
  },
  {
   "cell_type": "code",
   "execution_count": 210,
   "id": "e57ff438-3ffe-40ea-bb64-74a797621e6d",
   "metadata": {},
   "outputs": [],
   "source": [
    "A=np.array([[1,2],[3,4]])"
   ]
  },
  {
   "cell_type": "code",
   "execution_count": 212,
   "id": "e5b63ffc-136f-4869-b03c-25e8d29e772e",
   "metadata": {},
   "outputs": [
    {
     "name": "stdout",
     "output_type": "stream",
     "text": [
      "[[-0.31622777 -0.9486833 ]\n",
      " [-0.9486833   0.31622777]]\n",
      "[[-3.16227766 -4.42718872]\n",
      " [ 0.         -0.63245553]]\n",
      "-1.0\n",
      "[[1. 2.]\n",
      " [3. 4.]]\n"
     ]
    }
   ],
   "source": [
    "a,b=np.linalg.qr(A) #返回矩阵的标准正交阵和上三角阵\n",
    "print(a)\n",
    "print(b)\n",
    "print(np.linalg.det(a))\n",
    "print(np.dot(a,b))\n"
   ]
  },
  {
   "cell_type": "markdown",
   "id": "ce8bcfcc-51c2-4478-8f86-2a7c543469b4",
   "metadata": {},
   "source": [
    "# Ax=0\n",
    "若|A|=0:\n",
    "\n",
    "    A为奇异阵，没有逆\n",
    "    \n",
    "    A有非零解,且非零解不一定唯一\n",
    "    \n",
    "    A矩阵线性相关"
   ]
  },
  {
   "cell_type": "markdown",
   "id": "c61f9ae3-94d2-47e8-9b3d-a4f9d4b6c625",
   "metadata": {},
   "source": [
    "<font color=blue size=4 >伴随矩阵A*：A各元素代数余子式构成的矩阵：</font>\n",
    "\n",
    "$   AA^*=A^*A=|A|E   $  \n",
    "$   A^{-1} =\\frac{1}{|A|} A^*  $"
   ]
  },
  {
   "cell_type": "markdown",
   "id": "d465d246-ba23-498d-88e0-c3ea89eef7de",
   "metadata": {},
   "source": [
    "<font color=blue size=4 >正交矩阵：</font>"
   ]
  },
  {
   "cell_type": "markdown",
   "id": "a82167b1-236f-4798-b45c-3735b4c1650d",
   "metadata": {},
   "source": [
    "### 普通矩阵 $$A A^{-1}=E$$\n",
    "### <font color=blue size=4>正交矩阵定义： $$ AA^T=E$$ </font>\n",
    "正交矩阵特性：设A为正交阵，则：\n",
    "\n",
    "<font color=blue size=4>$A^T是正交阵 $ </font>\n",
    "\n",
    "<font color=blue size=4>$A^T的各行、列是单位向量且两两正交 $</font>\n",
    "\n",
    "<font color=blue size=4>$|A|=1 \\;or \\; |A|=-1 $</font>\n",
    "\n",
    "<font color=blue size=4>$A^T=A^{-1} $</font>\n",
    "<font color=blue size=4>$正交阵符号表示为：Q $</font>"
   ]
  },
  {
   "cell_type": "markdown",
   "id": "7c9ff263-4235-4e30-b2b8-69d7e5fe57f7",
   "metadata": {},
   "source": [
    "### 矩阵转置：\n",
    "$ (AB)^T=B^TA^T $"
   ]
  },
  {
   "cell_type": "markdown",
   "id": "46b201e3-b0ee-41bd-8393-9366b6417cc5",
   "metadata": {},
   "source": [
    "### <font color =red size=4>线性变换：</font>"
   ]
  },
  {
   "attachments": {
    "b710ab26-3054-41c8-bba4-ba72090cc2ca.png": {
     "image/png": "[encoded data removed]"
    }
   },
   "cell_type": "markdown",
   "id": "8cfafbd0-0379-469b-9b4a-566593395955",
   "metadata": {},
   "source": [
    "![image.png](attachment:b710ab26-3054-41c8-bba4-ba72090cc2ca.png)"
   ]
  },
  {
   "cell_type": "markdown",
   "id": "811a3e0f-367c-4425-81db-25b67ed2dc11",
   "metadata": {},
   "source": [
    "$$ 向量OA(O为远点)经θ°旋转到OA'，OXY经θ°旋转到OX'Y',此时OA在OXY上的坐标等于OA'在OX'Y'上的坐标，即OA的旋转等于坐标轴的旋转。$$ \n",
    "\n",
    "$$ 设A=（a_1,b_1）,A'=(a_2,b_2),坐标轴的旋转为矩阵M  \\; 则：矩阵M可以把OXY旋转到OX'Y'，也可将OA旋转到OA’ 故只要求出矩阵M，$$ \n",
    "\n",
    "$$即可将OA映射到OA' $$\n",
    "\n",
    "\n",
    "$$原坐标轴上的a_1旋转到a_2,而a_2的坐标为\\left[\\begin{matrix}cosθ  \\cr sinθ \\end{matrix}\\right] ,原坐标轴b_1旋转到b_2，而b_2的坐标轴为\\left[\\begin{matrix}-sinθ  \\cr cosθ \\end{matrix}\\right] $$\n",
    "\n",
    "\n",
    "$$ 则 \\left[\\begin{matrix}cosθ & -sinθ \\cr sinθ & cosθ\\end{matrix}\\right]将a_1,b_1,旋转到了a_2,b_2,所以\\left[\\begin{matrix}cosθ & -sinθ \\cr sinθ & cosθ\\end{matrix}\\right]也可将OA旋转到OA'，$$\n",
    "\n",
    "\n",
    "$$ 故旋转矩阵M=\\left[\\begin{matrix}cosθ & -sinθ \\cr sinθ & cosθ\\end{matrix}\\right]$$ \n"
   ]
  },
  {
   "cell_type": "markdown",
   "id": "92fb160f-654e-4d27-bf67-db51c6bbb347",
   "metadata": {},
   "source": [
    "### 奇异值分解：\n",
    "\n",
    "$$ M=UΣV^T $$\n",
    "\n",
    "U:表示经过M变换后的新标准正交基\n",
    "\n",
    "Σ:表示V中与U中相对应向量之间的伸缩比，且按大到小排列\n",
    "\n",
    "V:表示原始域的标准正交基\n",
    "\n",
    "#### 奇异值分解只是图片压缩的理论解释，当把图片重写保存后，所占用空间并未减少，详见下面示例："
   ]
  },
  {
   "cell_type": "code",
   "execution_count": 2,
   "id": "bf203864-5538-423c-b8d1-c9f1958542a5",
   "metadata": {},
   "outputs": [
    {
     "name": "stdout",
     "output_type": "stream",
     "text": [
      "original_bytes: 561750\n",
      "bytes_to_be_stored: 8994000\n",
      "compressed_byes: 366960\n",
      "compressed_rate: 0.04080053368912608\n",
      "im.nbytes: 4494000\n"
     ]
    }
   ],
   "source": [
    "import cv2 as cv\n",
    "import matplotlib.pyplot as plt\n",
    "from PIL import Image\n",
    "import numpy as np\n",
    "file=r'D:\\python\\图片\\11.jpg'\n",
    "img=cv.imdecode(np.fromfile(file,dtype=np.uint8),cv.IMREAD_GRAYSCALE)\n",
    "#img=img/255\n",
    "row,col=img.shape\n",
    "\n",
    "original_bytes=img.nbytes\n",
    "print('original_bytes:',original_bytes)\n",
    "U,S,V=np.linalg.svd(img,full_matrices=True)\n",
    "bytes_to_be_stored=sum([matrix.nbytes for matrix in [U,S,V]])\n",
    "print('bytes_to_be_stored:',bytes_to_be_stored)\n",
    "\n",
    "k=30\n",
    "U1=U[:,:k]\n",
    "S1=np.diag(S[:k])\n",
    "V1=V[0:k,:]\n",
    "\n",
    "compressed_byes=sum([matrix.nbytes for matrix in [U1,S1,V1]])\n",
    "print('compressed_byes:',compressed_byes)\n",
    "print('compressed_rate:',compressed_byes/bytes_to_be_stored)\n",
    "im=np.dot(np.dot(U1,S1),V1)\n",
    "print('im.nbytes:',im.nbytes)\n",
    "# fig=plt.figure(figsize=(15,10))\n",
    "# a=fig.add_subplot(1,1,1)\n",
    "# implot=plt.imshow(im)\n",
    "# plt.show()"
   ]
  },
  {
   "cell_type": "code",
   "execution_count": 5,
   "id": "e8253ffd-482c-49ff-b5e3-39a10306a514",
   "metadata": {},
   "outputs": [
    {
     "data": {
      "image/png": "[encoded data removed]",
      "text/plain": [
       "<Figure size 1080x720 with 1 Axes>"
      ]
     },
     "metadata": {
      "needs_background": "light"
     },
     "output_type": "display_data"
    }
   ],
   "source": [
    "file=r'D:\\python\\图片\\11.jpg'\n",
    "img=cv.imdecode(np.fromfile(file,dtype=np.uint8),cv.IMREAD_GRAYSCALE)\n",
    "#img=img/255\n",
    "row,col=img.shape\n",
    "\n",
    "M=cv.getRotationMatrix2D(((col-1)/2.0,(row-1)/2.0),90,0.5)  #获取二维旋转放射矩阵，（x,y)代表放射中心位置，90代表角度，1代表放射比例\n",
    "dst=cv.warpAffine(img,M,(col,row)) #warpAffine对矩阵进行放射变换，（col,row）代表输出矩阵的尺寸\n",
    "\n",
    "fig=plt.figure(figsize=(15,10))\n",
    "fig.add_subplot(1,1,1)\n",
    "implot=plt.imshow(dst)\n",
    "plt.show()\n",
    "\n"
   ]
  },
  {
   "cell_type": "code",
   "execution_count": null,
   "id": "19850fed-ed5e-45ea-9475-6c08618c7746",
   "metadata": {},
   "outputs": [],
   "source": []
  }
 ],
 "metadata": {
  "kernelspec": {
   "display_name": "Python 3",
   "language": "python",
   "name": "python3"
  },
  "language_info": {
   "codemirror_mode": {
    "name": "ipython",
    "version": 3
   },
   "file_extension": ".py",
   "mimetype": "text/x-python",
   "name": "python",
   "nbconvert_exporter": "python",
   "pygments_lexer": "ipython3",
   "version": "3.9.5"
  }
 },
 "nbformat": 4,
 "nbformat_minor": 5
}
