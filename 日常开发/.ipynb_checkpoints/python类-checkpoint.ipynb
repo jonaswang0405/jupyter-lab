{
 "cells": [
  {
   "cell_type": "code",
   "execution_count": 11,
   "id": "208526c2-9017-4f54-af5a-e27ff9ea163d",
   "metadata": {},
   "outputs": [
    {
     "name": "stdout",
     "output_type": "stream",
     "text": [
      "调用子类构造方法\n",
      "调用子类方法1\n",
      "调用子类方法\n"
     ]
    }
   ],
   "source": [
    "class Person:        \n",
    "    def __init__(self,name):\n",
    "        self.name = name\n",
    "        print ('调用父类构造函数')\n",
    "\n",
    "    def eat(self):\n",
    "        print('调用父类方法')\n",
    " \n",
    "class Student(Person):  # 定义子类\n",
    "   def __init__(self):\n",
    "      print ('调用子类构造方法')\n",
    " \n",
    "   def study(self):\n",
    "      print('调用子类方法')\n",
    "class teacher(Student):  # 定义子类\n",
    "   def __init__(self):\n",
    "      print ('调用子类构造方法')\n",
    " \n",
    "   def studens(self):\n",
    "      print('调用子类方法1')\n",
    "\n",
    "s = teacher()          # 实例化子类\n",
    "s.studens()              # 调用子类的方法\n",
    "s.study()     "
   ]
  },
  {
   "cell_type": "code",
   "execution_count": null,
   "id": "87180641-7704-4c45-a40b-63c483e271e0",
   "metadata": {},
   "outputs": [],
   "source": []
  },
  {
   "cell_type": "code",
   "execution_count": null,
   "id": "4a70a3f1-e8fb-4233-96e8-7ecc73906c87",
   "metadata": {},
   "outputs": [],
   "source": [
    "import time\n",
    "class Base(object):\n",
    "    def __init__(self):\n",
    "        print (\"Create Base\")\n",
    "\n",
    "class A(Base):\n",
    "    def __init__(self):\n",
    "        time.sleep(2)         #此处设置了等待时间，导致先输出B\n",
    "        super(A, self).__init__()\n",
    "        print(\"Create A\")\n",
    "\n",
    "class B(Base):\n",
    "    def __init__(self):\n",
    "        super(B, self).__init__()    \n",
    "        print(\"Create B\")\n",
    "\n",
    "class C(A, B):\n",
    "    def __init__(self):\n",
    "        super(C, self).__init__()  #super调用C的父类（A、B），并保证每个父类及父类中的父类只调用一次，顺序按列队顺序执行。\n",
    "        print(\"Create C\")\n",
    "C()\n",
    "print(C.mro())"
   ]
  },
  {
   "cell_type": "code",
   "execution_count": 33,
   "id": "704d9762-cb00-4f04-9d0e-c5b885c421a7",
   "metadata": {},
   "outputs": [
    {
     "name": "stdout",
     "output_type": "stream",
     "text": [
      "C语言中文网\n",
      "学习 Python\n",
      "http://c.biancheng.net\n",
      "学习 Python\n",
      "abc\n",
      "将funB作为参数传给A,funA的执行结果传给funB： 装饰器函数的返回值\n"
     ]
    }
   ],
   "source": [
    "#将B做为参数，传给A，将A的返回结果传给B\n",
    "def funA(fn):\n",
    "    print(\"C语言中文网\")\n",
    "    fn() # 执行传入的fn参数\n",
    "    print(\"http://c.biancheng.net\")\n",
    "    c=fn()\n",
    "    print(c)\n",
    "    return \"装饰器函数的返回值\"\n",
    "@funA\n",
    "def funB():\n",
    "    print(\"学习 Python\")\n",
    "    return 'abc'\n",
    "print('将funB作为参数传给A,funA的执行结果传给funB：',funB)"
   ]
  },
  {
   "cell_type": "code",
   "execution_count": 31,
   "id": "356bf280-36cd-4524-8159-2356421da516",
   "metadata": {},
   "outputs": [
    {
     "data": {
      "text/plain": [
       "'装饰器函数的返回值'"
      ]
     },
     "execution_count": 31,
     "metadata": {},
     "output_type": "execute_result"
    }
   ],
   "source": []
  },
  {
   "cell_type": "code",
   "execution_count": null,
   "id": "080b269d-1882-4335-b838-03bade0dfba9",
   "metadata": {},
   "outputs": [],
   "source": []
  }
 ],
 "metadata": {
  "kernelspec": {
   "display_name": "Python 3",
   "language": "python",
   "name": "python3"
  },
  "language_info": {
   "codemirror_mode": {
    "name": "ipython",
    "version": 3
   },
   "file_extension": ".py",
   "mimetype": "text/x-python",
   "name": "python",
   "nbconvert_exporter": "python",
   "pygments_lexer": "ipython3",
   "version": "3.9.5"
  }
 },
 "nbformat": 4,
 "nbformat_minor": 5
}
