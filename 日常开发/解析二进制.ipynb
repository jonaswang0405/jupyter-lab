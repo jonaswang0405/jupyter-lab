{
 "cells": [
  {
   "cell_type": "code",
   "execution_count": 18,
   "id": "c3f50f2f-6595-4bf4-b0d7-2bbc55e6b5ac",
   "metadata": {},
   "outputs": [
    {
     "name": "stdout",
     "output_type": "stream",
     "text": [
      "b'\\x03\\x00\\x00\\x00abc'\n"
     ]
    }
   ],
   "source": [
    "import struct\n",
    "import binascii\n",
    "import ctypes\n",
    "a=bytes('abc','utf-8')\n",
    "byte=struct.pack('I%ds' %(len(a),),len(a),a)\n",
    "print(byte)"
   ]
  },
  {
   "cell_type": "code",
   "execution_count": 3,
   "id": "874ab9b1-99be-4d65-b5f8-f200471736c6",
   "metadata": {},
   "outputs": [
    {
     "name": "stdout",
     "output_type": "stream",
     "text": [
      "<class 'bytes'> (45.123,)\n"
     ]
    }
   ],
   "source": [
    "a='hello'\n",
    "b='world!'\n",
    "c='a'\n",
    "d=45.123\n",
    "bts=struct.pack('d',d)\n",
    "rlt=struct.unpack('d',bts)\n",
    "print(bytes,rlt)"
   ]
  },
  {
   "cell_type": "code",
   "execution_count": null,
   "id": "487e0256-3ca9-4d25-842e-7b90f0f04c5f",
   "metadata": {},
   "outputs": [],
   "source": []
  }
 ],
 "metadata": {
  "kernelspec": {
   "display_name": "Python 3 (ipykernel)",
   "language": "python",
   "name": "python3"
  },
  "language_info": {
   "codemirror_mode": {
    "name": "ipython",
    "version": 3
   },
   "file_extension": ".py",
   "mimetype": "text/x-python",
   "name": "python",
   "nbconvert_exporter": "python",
   "pygments_lexer": "ipython3",
   "version": "3.9.9"
  }
 },
 "nbformat": 4,
 "nbformat_minor": 5
}
