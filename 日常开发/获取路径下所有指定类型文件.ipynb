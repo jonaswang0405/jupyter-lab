{
 "cells": [
  {
   "cell_type": "code",
   "execution_count": 1,
   "id": "719f7bf2",
   "metadata": {},
   "outputs": [],
   "source": [
    "import os,re\n",
    "def search_file(path,fl_type):\n",
    "    pths=[]\n",
    "    fils=[]\n",
    "    p,d,f=[],[],[]\n",
    "    for p1,d1,f1 in os.walk(path):\n",
    "        p.append(p1)\n",
    "        d.append(d1)\n",
    "        f.append(f1)\n",
    "    for t in range(len(f)):\n",
    "        for s_t in f[t]:\n",
    "            if re.append(p[t]):\n",
    "                pths.append(p[t])\n",
    "                fils.append(s_t)\n",
    "    return pths,fils"
   ]
  },
  {
   "cell_type": "code",
   "execution_count": null,
   "id": "27c6577a",
   "metadata": {},
   "outputs": [],
   "source": []
  }
 ],
 "metadata": {
  "kernelspec": {
   "display_name": "Python 3 (ipykernel)",
   "language": "python",
   "name": "python3"
  },
  "language_info": {
   "codemirror_mode": {
    "name": "ipython",
    "version": 3
   },
   "file_extension": ".py",
   "mimetype": "text/x-python",
   "name": "python",
   "nbconvert_exporter": "python",
   "pygments_lexer": "ipython3",
   "version": "3.9.9"
  }
 },
 "nbformat": 4,
 "nbformat_minor": 5
}
