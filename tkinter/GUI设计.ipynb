{
 "cells": [
  {
   "cell_type": "code",
   "execution_count": 10,
   "id": "30dbb143-1ae4-49b6-96d4-3ce1645be1a5",
   "metadata": {},
   "outputs": [],
   "source": [
    "import tkinter as tk\n",
    "import tkinter.messagebox\n",
    "from tkinter.filedialog import askopenfilenames\n",
    "win=tk.Tk()\n",
    "dic={}\n",
    "select_content={\"A\":'张柏芝','B':'周慧敏','C':'景甜','D':'李秋水'}\n",
    "\n",
    "n=0\n",
    "for i in select_content.keys():\n",
    "    n +=1\n",
    "    dic[i]=tk.BooleanVar()\n",
    "    select=tk.Checkbutton(win,text=i,variable=dic[i])\n",
    "    select.place(x=80*n+20,y=50,anchor=tk.NW) #anchor为对齐方式，NW表示左上对齐\n",
    "def get_select_value():\n",
    "    select=[]\n",
    "    for key,value in dic.items():\n",
    "        if value.get()==True:\n",
    "            select.append(select_content.get(key))\n",
    "    return select\n",
    "def select_file():\n",
    "    var=askopenfilenames()\n",
    "    e.insert('insert',var)\n",
    "    return var\n",
    "\n",
    "def clear():\n",
    "    e.delete(0,'end')\n",
    "def exect():\n",
    "    value=get_select_value()\n",
    "    tk.messagebox.showerror('adb',value)\n",
    "    return 1\n",
    "win.title('测试标题')\n",
    "win.geometry('800x400+20+60')\n",
    "\n",
    "a1=tk.Label(win,text='abcd',font='微软雅黑',bg='Blue',fg='White')\n",
    "a1.pack(fill='y',side='top',anchor='w',padx=5,pady=5) #anchor 为对齐方式，padx\\y为放置位置，fill为填充方式,justify为换行对齐方式（center,right），\n",
    "\n",
    "b1=tk.Button(win,text='点击执行',width=15,height=2,command=exect)\n",
    "b1.pack()\n",
    "b2=tk.Button(win,text='清除内容',width=15,height=2,command=clear)\n",
    "b2.pack()\n",
    "\n",
    "b3=tk.Button(win,text='选择文件',width=15,height=2,command=select_file)\n",
    "b3.pack()\n",
    "\n",
    "e=tk.Entry(win,show=None,fg='Blue',width=50)\n",
    "e.pack()\n",
    "\n",
    "a1.place(x=10,y=20,anchor='w')\n",
    "b1.place(x=210,y=200,anchor='w')\n",
    "b2.place(x=410,y=200,anchor='w')\n",
    "e.place(x=150,y=100,anchor='w')\n",
    "b3.place(x=20,y=100,anchor='w')\n",
    "win.mainloop()\n"
   ]
  },
  {
   "cell_type": "code",
   "execution_count": null,
   "id": "096599e2-bbe3-42c8-8954-e5623f7ba43b",
   "metadata": {},
   "outputs": [],
   "source": []
  }
 ],
 "metadata": {
  "kernelspec": {
   "display_name": "Python 3",
   "language": "python",
   "name": "python3"
  },
  "language_info": {
   "codemirror_mode": {
    "name": "ipython",
    "version": 3
   },
   "file_extension": ".py",
   "mimetype": "text/x-python",
   "name": "python",
   "nbconvert_exporter": "python",
   "pygments_lexer": "ipython3",
   "version": "3.9.5"
  }
 },
 "nbformat": 4,
 "nbformat_minor": 5
}
