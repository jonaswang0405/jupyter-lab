{
 "cells": [
  {
   "cell_type": "code",
   "execution_count": 6,
   "id": "ec4169c7-7597-416c-a001-a8d4bdf55be1",
   "metadata": {},
   "outputs": [
    {
     "data": {
      "text/plain": [
       "array([0, 1, 2, 3, 4, 5, 6, 7, 8, 9])"
      ]
     },
     "execution_count": 6,
     "metadata": {},
     "output_type": "execute_result"
    }
   ],
   "source": [
    "linux配置自动补全---python\n",
    "mkdir ~/.vim/tools\n",
    "cd ~/.vim/tools\n",
    "wget https://github.com/rkulla/pydiction/archive/master.zip\n",
    "unzip master.zip\n",
    "mv ~/.vim/tools/pydiction-master ~/.vim/tools/pydiction\n",
    "cp -r ~/.vim/tools/pydiction/after ~/.vim\n",
    "cp ~/.vim/tools/pydiction ~/.vim\n",
    "\n",
    "vim ~/.vimrc\n",
    "增加内容：\n",
    "filetype plugin on\n",
    "let g:pydiction_location='~/.vim/pydiction/complete-dict'\n",
    "let g:pydiction_menu_height=3\n",
    "\n"
   ]
  },
  {
   "cell_type": "code",
   "execution_count": null,
   "id": "d92942aa-b429-431d-a25e-7bfd7b0b9741",
   "metadata": {},
   "outputs": [],
   "source": [
    "在BVIM中执行python脚本，按F9可执行python\n",
    "在~/.vimrc文件中，新增以下内容：\n",
    "autocmd FileType python map <buffer> <F9> :w<CR>:exec '!python3' shellescape(@%, 1)<CR>\n",
    "autocmd FileType python imap <buffer> <F9> <esc>:w<CR>:exec '!python3' shellescape(@%, 1)<CR>\n",
    "        \n",
    "解释：\n",
    "autocmd: command that Vim will execute automatically on {event} (here: if you open a python file)\n",
    "[i]map: creates a keyboard shortcut to <F9> in insert/normal mode\n",
    "<buffer>: If multiple buffers/files are open: just use the active one\n",
    "<esc>: leaving insert mode\n",
    ":w<CR>: saves your file\n",
    "!: runs the following command in your shell (try :!ls)\n",
    "%: is replaced by the filename of your active buffer. But since it can contain things like whitespace and other \"bad\" stuff it is better practise not to write :python %, but use:\n",
    "shellescape: escape the special characters. The 1 means with a backslash"
   ]
  },
  {
   "cell_type": "code",
   "execution_count": 2,
   "id": "ccff94f9-c8b5-4f89-bcf2-63c602b2f634",
   "metadata": {},
   "outputs": [
    {
     "name": "stdout",
     "output_type": "stream",
     "text": [
      "Python教程: http://c.biancheng.net/python\n"
     ]
    }
   ],
   "source": [
    "def funA(fn):\n",
    "    # 定义一个嵌套函数\n",
    "    def say(arc):\n",
    "        print(\"Python教程:\",arc)\n",
    "    return say\n",
    "@funA\n",
    "def funB(arc):\n",
    "    print(\"funB():\", a)\n",
    "funB(\"http://c.biancheng.net/python\")"
   ]
  },
  {
   "cell_type": "code",
   "execution_count": null,
   "id": "edc49fb4-2cf4-4c88-9121-2430a1466508",
   "metadata": {},
   "outputs": [],
   "source": []
  }
 ],
 "metadata": {
  "kernelspec": {
   "display_name": "Python 3",
   "language": "python",
   "name": "python3"
  },
  "language_info": {
   "codemirror_mode": {
    "name": "ipython",
    "version": 3
   },
   "file_extension": ".py",
   "mimetype": "text/x-python",
   "name": "python",
   "nbconvert_exporter": "python",
   "pygments_lexer": "ipython3",
   "version": "3.9.5"
  }
 },
 "nbformat": 4,
 "nbformat_minor": 5
}
