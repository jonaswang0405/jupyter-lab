{
 "cells": [
  {
   "cell_type": "markdown",
   "id": "d0281036-f0ec-46a2-9a09-16b7ae67d6ab",
   "metadata": {},
   "source": [
    "查找最大得N个元素"
   ]
  },
  {
   "cell_type": "code",
   "execution_count": 1,
   "id": "0dcd4fe2-f956-4b6b-8502-4986f8cd89d4",
   "metadata": {},
   "outputs": [
    {
     "name": "stdout",
     "output_type": "stream",
     "text": [
      "[42, 37, 23]\n",
      "[-4, 1, 2]\n"
     ]
    }
   ],
   "source": [
    "import heapq\n",
    "nums = [1, 8, 2, 23, 7, -4, 18, 23, 42, 37, 2]\n",
    "print(heapq.nlargest(3, nums)) # Prints [42, 37, 23]\n",
    "print(heapq.nsmallest(3, nums)) # Prints [-4, 1, 2]"
   ]
  },
  {
   "cell_type": "code",
   "execution_count": 4,
   "id": "30d33769-a4f8-4774-9c1b-f53a80e15fd9",
   "metadata": {},
   "outputs": [
    {
     "name": "stdout",
     "output_type": "stream",
     "text": [
      "[{'name': 'YHOO', 'shares': 45, 'price': 16.35}, {'name': 'FB', 'shares': 200, 'price': 21.09}, {'name': 'HPQ', 'shares': 35, 'price': 31.75}]\n",
      "[{'name': 'AAPL', 'shares': 50, 'price': 543.22}, {'name': 'ACME', 'shares': 75, 'price': 115.65}, {'name': 'IBM', 'shares': 100, 'price': 91.1}]\n",
      "Wall time: 1.02 ms\n"
     ]
    }
   ],
   "source": [
    "portfolio = [\n",
    "    {'name': 'IBM', 'shares': 100, 'price': 91.1},\n",
    "    {'name': 'AAPL', 'shares': 50, 'price': 543.22},\n",
    "    {'name': 'FB', 'shares': 200, 'price': 21.09},\n",
    "    {'name': 'HPQ', 'shares': 35, 'price': 31.75},\n",
    "    {'name': 'YHOO', 'shares': 45, 'price': 16.35},\n",
    "    {'name': 'ACME', 'shares': 75, 'price': 115.65}\n",
    "]\n",
    "cheap = heapq.nsmallest(3, portfolio, key=lambda s: s['price'])\n",
    "expensive = heapq.nlargest(3, portfolio, key=lambda s: s['price'])\n",
    "print(cheap)\n",
    "print(expensive)"
   ]
  },
  {
   "cell_type": "markdown",
   "id": "e7f8b90a-5726-4a31-8b9f-204d2cd2a699",
   "metadata": {},
   "source": [
    "对字典运算"
   ]
  },
  {
   "cell_type": "code",
   "execution_count": 9,
   "id": "b9f9f9f2-efce-42c8-b14a-fc64854a3e7b",
   "metadata": {},
   "outputs": [],
   "source": [
    "prices = {\n",
    "    'ACME': 45.23,\n",
    "    'AAPL': 612.78,\n",
    "    'IBM': 205.55,\n",
    "    'HPQ': 37.20,\n",
    "    'FB': 10.75\n",
    "}\n",
    "min_price = min(zip(prices.values(), prices.keys()))\n",
    "# min_price is (10.75, 'FB')\n",
    "max_price = max(zip(prices.values(), prices.keys()))\n",
    "# max_price is (612.78, 'AAPL')"
   ]
  },
  {
   "cell_type": "code",
   "execution_count": 10,
   "id": "0102e6b1-3dd5-44df-8b69-6a836fd8db50",
   "metadata": {},
   "outputs": [
    {
     "data": {
      "text/plain": [
       "{('y', 2)}"
      ]
     },
     "execution_count": 10,
     "metadata": {},
     "output_type": "execute_result"
    }
   ],
   "source": [
    "a = {'x' : 1,'y' : 2,'z' : 3}\n",
    "b = {'w':10,'x' : 11,'y' : 2}\n",
    "# Find keys in common\n",
    "a.keys() & b.keys() # { 'x', 'y' }\n",
    "# Find keys in a that are not in b\n",
    "a.keys() - b.keys() # { 'z' }\n",
    "# Find (key,value) pairs in common\n",
    "a.items() & b.items() # { ('y', 2) }"
   ]
  },
  {
   "cell_type": "code",
   "execution_count": null,
   "id": "7e1343da-6102-4901-849a-91b8b8e16067",
   "metadata": {},
   "outputs": [],
   "source": [
    "从字典中排除一些值，生产新字典"
   ]
  },
  {
   "cell_type": "code",
   "execution_count": 12,
   "id": "263a7535-8c21-4cf0-9920-cf5759494572",
   "metadata": {},
   "outputs": [
    {
     "name": "stdout",
     "output_type": "stream",
     "text": [
      "{'y': 2, 'x': 1}\n"
     ]
    }
   ],
   "source": [
    "# Make a new dictionary with certain keys removed\n",
    "c = {key:a[key] for key in a.keys() - {'z', 'w'}}\n",
    "print(c)"
   ]
  },
  {
   "cell_type": "code",
   "execution_count": 19,
   "id": "516b55f8-9757-403c-89cf-5da3188496bc",
   "metadata": {},
   "outputs": [],
   "source": [
    "import pandas as pd\n",
    "data=pd.DataFrame({'A':[1,2,3,4,5],'B':[2,4,5,6,10]})\n",
    "data1=data.loc[2:]"
   ]
  },
  {
   "cell_type": "markdown",
   "id": "0a91321e-96da-471f-ae8e-ef8bac66ef8f",
   "metadata": {},
   "source": [
    "统计列表中出现N个最多得元素"
   ]
  },
  {
   "cell_type": "code",
   "execution_count": null,
   "id": "c74d0a15-d530-41de-98e3-0fde99fe1dc6",
   "metadata": {},
   "outputs": [],
   "source": [
    "words = [\n",
    "    'look', 'into', 'my', 'eyes', 'look', 'into', 'my', 'eyes',\n",
    "    'the', 'eyes', 'the', 'eyes', 'the', 'eyes', 'not', 'around', 'the',\n",
    "    'eyes', \"don't\", 'look', 'around', 'the', 'eyes', 'look', 'into',\n",
    "    'my', 'eyes', \"you're\", 'under'\n",
    "]\n",
    "from collections import Counter\n",
    "word_counts = Counter(words)\n",
    "# 出现频率最高的3个单词\n",
    "top_three = word_counts.most_common(3)\n",
    "print(top_three)\n",
    "# Outputs [('eyes', 8), ('the', 5), ('look', 4)]"
   ]
  },
  {
   "cell_type": "code",
   "execution_count": null,
   "id": "c65871ad-bd11-4637-9a41-8b709e5b20c0",
   "metadata": {},
   "outputs": [],
   "source": [
    "字典多值排序"
   ]
  },
  {
   "cell_type": "code",
   "execution_count": 30,
   "id": "127ad933-aacd-4b3b-8990-7dae405a9fac",
   "metadata": {},
   "outputs": [
    {
     "data": {
      "text/plain": [
       "[{'fname': 'David', 'lname': 'Beazley', 'uid': 1002},\n",
       " {'fname': 'John', 'lname': 'Cleese', 'uid': 1001},\n",
       " {'fname': 'Brian', 'lname': 'Jones', 'uid': 1003},\n",
       " {'fname': 'Big', 'lname': 'Jones', 'uid': 1004}]"
      ]
     },
     "execution_count": 30,
     "metadata": {},
     "output_type": "execute_result"
    }
   ],
   "source": [
    "rows = [{'fname': 'Brian', 'lname': 'Jones', 'uid': 1003},\n",
    "    {'fname': 'David', 'lname': 'Beazley', 'uid': 1002},\n",
    "    {'fname': 'John', 'lname': 'Cleese', 'uid': 1001},\n",
    "    {'fname': 'Big', 'lname': 'Jones', 'uid': 1004}]\n",
    "from operator import itemgetter\n",
    "sorted(rows, key=itemgetter('lname','uid'))"
   ]
  },
  {
   "cell_type": "code",
   "execution_count": 31,
   "id": "37ee8cb5-d1dc-4d0a-b772-85f91904aa07",
   "metadata": {},
   "outputs": [
    {
     "name": "stdout",
     "output_type": "stream",
     "text": [
      "Node(1)\n",
      "Node(2)\n"
     ]
    }
   ],
   "source": [
    "class Node:\n",
    "    def __init__(self, value):\n",
    "        self._value = value\n",
    "        self._children = []\n",
    "\n",
    "    def __repr__(self):\n",
    "        return 'Node({!r})'.format(self._value)\n",
    "\n",
    "    def add_child(self, node):\n",
    "        self._children.append(node)\n",
    "\n",
    "    def __iter__(self):\n",
    "        return iter(self._children)\n",
    "\n",
    "# Example\n",
    "if __name__ == '__main__':\n",
    "    root = Node(0)\n",
    "    child1 = Node(1)\n",
    "    child2 = Node(2)\n",
    "    root.add_child(child1)\n",
    "    root.add_child(child2)\n",
    "    # Outputs Node(1), Node(2)\n",
    "    for ch in root:\n",
    "        print(ch)"
   ]
  },
  {
   "cell_type": "code",
   "execution_count": 42,
   "id": "266a7bca-0826-4dfb-8419-e938de313ea5",
   "metadata": {},
   "outputs": [
    {
     "name": "stdout",
     "output_type": "stream",
     "text": [
      "30\n",
      "30\n",
      "29\n",
      "28\n",
      "27\n",
      "26\n",
      "25\n",
      "24\n",
      "23\n",
      "22\n",
      "21\n",
      "20\n",
      "19\n",
      "18\n",
      "17\n",
      "16\n",
      "15\n",
      "14\n",
      "13\n",
      "12\n",
      "11\n",
      "10\n",
      "9\n",
      "8\n",
      "7\n",
      "6\n",
      "5\n",
      "4\n",
      "3\n",
      "2\n",
      "1\n"
     ]
    }
   ],
   "source": [
    "class Countdown:\n",
    "    def __init__(self, start):\n",
    "        self.start = start\n",
    "    # Forward iterator\n",
    "    def __iter__(self):\n",
    "        n = self.start\n",
    "        while n > 0:\n",
    "            yield n\n",
    "            n -= 1\n",
    "    # Reverse iterator\n",
    "    def __reversed__(self):\n",
    "        n = 1\n",
    "        while n <= self.start:\n",
    "            yield n\n",
    "            n += 1\n",
    "\n",
    "for rr in Countdown(30):\n",
    "    print(rr)"
   ]
  },
  {
   "cell_type": "code",
   "execution_count": null,
   "id": "5f984cc2-a0c0-446a-99ad-42cbaab2423a",
   "metadata": {},
   "outputs": [],
   "source": []
  }
 ],
 "metadata": {
  "kernelspec": {
   "display_name": "Python 3",
   "language": "python",
   "name": "python3"
  },
  "language_info": {
   "codemirror_mode": {
    "name": "ipython",
    "version": 3
   },
   "file_extension": ".py",
   "mimetype": "text/x-python",
   "name": "python",
   "nbconvert_exporter": "python",
   "pygments_lexer": "ipython3",
   "version": "3.9.5"
  }
 },
 "nbformat": 4,
 "nbformat_minor": 5
}
