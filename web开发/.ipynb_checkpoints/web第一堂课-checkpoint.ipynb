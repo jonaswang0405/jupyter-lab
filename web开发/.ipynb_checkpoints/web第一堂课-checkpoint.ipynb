{
 "cells": [
  {
   "cell_type": "markdown",
   "id": "e8d9965c-7cc2-4f86-b6bd-9186d7a2656c",
   "metadata": {},
   "source": [
    "1、django-admin startproject proj_name #创建一个项目\n",
    "2、cd 到proj_name项目文件夹\n",
    "   python manage.py app_name #创建一个APP名称\n",
    "3、setting.py文件夹内 添加app名称,设置时区，语言\n",
    "4、models.py 创建表表及表字段\n",
    "5、python manage.py makemigrations app_name \n",
    "    python manage.py migrate 让models生效,与数据库打通\n",
    "    python manage.py createsupperuser 创建超级管理员。\n",
    "    在admin.py中配置admin.site.register(Post) 完成管理员注册\n",
    "    \n",
    "6、views从数据库中提取数据，将结果通过urls传递给html\n"
   ]
  }
 ],
 "metadata": {
  "kernelspec": {
   "display_name": "Python 3",
   "language": "python",
   "name": "python3"
  },
  "language_info": {
   "codemirror_mode": {
    "name": "ipython",
    "version": 3
   },
   "file_extension": ".py",
   "mimetype": "text/x-python",
   "name": "python",
   "nbconvert_exporter": "python",
   "pygments_lexer": "ipython3",
   "version": "3.9.5"
  }
 },
 "nbformat": 4,
 "nbformat_minor": 5
}
