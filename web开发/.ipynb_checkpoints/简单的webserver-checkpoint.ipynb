{
 "cells": [
  {
   "cell_type": "code",
   "execution_count": null,
   "id": "22aca978-93e0-4ae9-a393-944ce512c82e",
   "metadata": {},
   "outputs": [],
   "source": [
    "import socket\n",
    "EOL1=b'\\n\\n'\n",
    "EOL2=b'\\n\\r\\n'\n",
    "body='''hello world,<h1>from the 5 fire<Django 企业开发实战></h1>'''\n",
    "response_params=[\n",
    "    'HTTP/1.0 200 OK',\n",
    "    'Date:Sun,27 may 2018 01:01:01 GMT',\n",
    "    'Content-Type: text/html;charset=utf-8',\n",
    "    'Content-Length:{}\\r\\n'.format(len(body.encode())),\n",
    "    body,\n",
    "]\n",
    "\n",
    "response='\\r\\n'.join(response_params)\n",
    "    \n",
    "def handle_connection(conn,addr):\n",
    "    request=b\"\"\n",
    "    while EOL1 not in request and EOL2 not in request:\n",
    "        request += conn.recv(1024)\n",
    "    print(request)\n",
    "    conn.send(response.encode())\n",
    "    conn.close()\n",
    "\n",
    "    \n",
    "def  main():\n",
    "    #socket.AF_INET 用于服务器与服务器之间的网络通信\n",
    "    #socket.SOCK_STREAM基于TCP的流式socket通信\n",
    "    serversocket=socket.socket(socket.AF_INET,socket.SOCK_STREAM)\n",
    "    #设置端口可复用，保证我们每次按ctrl+c之后，快速重启\n",
    "    serversocket.setsockopt(socket.SOL_SOCKET,socket.SO_REUSEADDR,1)\n",
    "    serversocket.bind(('127.0.0.1',8000))\n",
    "    serversocket.listen(5)\n",
    "    print('http://127.0.0.1:8000')\n",
    "    try:\n",
    "        while True:\n",
    "            conn,address=serversocket.accept()\n",
    "            handle_connection(conn,address)\n",
    "    finally:\n",
    "        serversocket.close()\n",
    "if __name__=='__main__':\n",
    "    main()\n"
   ]
  },
  {
   "cell_type": "code",
   "execution_count": null,
   "id": "5f2510be-1af3-452b-9e3d-b9ae78d01083",
   "metadata": {},
   "outputs": [],
   "source": []
  }
 ],
 "metadata": {
  "kernelspec": {
   "display_name": "Python 3",
   "language": "python",
   "name": "python3"
  },
  "language_info": {
   "codemirror_mode": {
    "name": "ipython",
    "version": 3
   },
   "file_extension": ".py",
   "mimetype": "text/x-python",
   "name": "python",
   "nbconvert_exporter": "python",
   "pygments_lexer": "ipython3",
   "version": "3.9.5"
  }
 },
 "nbformat": 4,
 "nbformat_minor": 5
}
