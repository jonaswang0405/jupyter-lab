{
 "cells": [
  {
   "cell_type": "code",
   "execution_count": 1,
   "id": "8da095c6-2092-4832-acdb-af7e9cd4912d",
   "metadata": {},
   "outputs": [],
   "source": [
    "cookie = \"anonymid=jk63khrk-y97r4p; _r01_=1; ln_uact=mr_mao_hacker@163.com; ln_hurl=http://hdn.xnimg.cn/photos/hdn421/20180720/1740/main_JAWQ_0aa000000ceb195a.jpg; _ga=GA1.2.273332130.1532825428; depovince=HUN; JSESSIONID=abcE5k0CiAJDc9ESVEcuw; ick_login=026ba348-e4e9-4871-9ce3-5868b95cfdd3; first_login_flag=1; loginfrom=syshome; wp_fold=0; BAIDU_SSP_lcr=https://www.baidu.com/link?url=VRx_HKUd53I5rYWZHvrQ9VVLotqST6-jtaZDlscFYCO&wd=&eqid=e957aec400037928000000065b64fcab; ick=64518f30-9a22-47df-b3c3-4114f185c3c6; t=8fcf47068763c279eea2620b51b7a3311; societyguester=8fcf47068763c279eea2620b51b7a3311; id=967272361; xnsid=fd736c63; jebecookies=3f9a3853-3371-4857-8268-308d663ca146|||||; jebe_key=19041c4e-4d38-4dc1-bfb9-124b81afae61%7C33b1d8f602cf6dd5a9834fe6f2bf97f2%7C1533346094265%7C1%7C1533346099750\""
   ]
  },
  {
   "cell_type": "code",
   "execution_count": 2,
   "id": "31e959b4-15ea-4953-8983-8e2e9ed610ac",
   "metadata": {},
   "outputs": [],
   "source": [
    "cookie_dict = {i.split(\"=\")[0]:i.split(\"=\")[-1] for i in cookie.split(\"; \")}"
   ]
  },
  {
   "cell_type": "code",
   "execution_count": 3,
   "id": "1c684869-6cdf-42bc-bf5b-389483715f1b",
   "metadata": {},
   "outputs": [
    {
     "data": {
      "text/plain": [
       "{'anonymid': 'jk63khrk-y97r4p',\n",
       " '_r01_': '1',\n",
       " 'ln_uact': 'mr_mao_hacker@163.com',\n",
       " 'ln_hurl': 'http://hdn.xnimg.cn/photos/hdn421/20180720/1740/main_JAWQ_0aa000000ceb195a.jpg',\n",
       " '_ga': 'GA1.2.273332130.1532825428',\n",
       " 'depovince': 'HUN',\n",
       " 'JSESSIONID': 'abcE5k0CiAJDc9ESVEcuw',\n",
       " 'ick_login': '026ba348-e4e9-4871-9ce3-5868b95cfdd3',\n",
       " 'first_login_flag': '1',\n",
       " 'loginfrom': 'syshome',\n",
       " 'wp_fold': '0',\n",
       " 'BAIDU_SSP_lcr': 'e957aec400037928000000065b64fcab',\n",
       " 'ick': '64518f30-9a22-47df-b3c3-4114f185c3c6',\n",
       " 't': '8fcf47068763c279eea2620b51b7a3311',\n",
       " 'societyguester': '8fcf47068763c279eea2620b51b7a3311',\n",
       " 'id': '967272361',\n",
       " 'xnsid': 'fd736c63',\n",
       " 'jebecookies': '3f9a3853-3371-4857-8268-308d663ca146|||||',\n",
       " 'jebe_key': '19041c4e-4d38-4dc1-bfb9-124b81afae61%7C33b1d8f602cf6dd5a9834fe6f2bf97f2%7C1533346094265%7C1%7C1533346099750'}"
      ]
     },
     "execution_count": 3,
     "metadata": {},
     "output_type": "execute_result"
    }
   ],
   "source": [
    "cookie_dict"
   ]
  },
  {
   "cell_type": "code",
   "execution_count": null,
   "id": "080625c1-fd97-4b18-9dd2-741e83ebb11a",
   "metadata": {},
   "outputs": [],
   "source": []
  }
 ],
 "metadata": {
  "kernelspec": {
   "display_name": "Python 3 (ipykernel)",
   "language": "python",
   "name": "python3"
  },
  "language_info": {
   "codemirror_mode": {
    "name": "ipython",
    "version": 3
   },
   "file_extension": ".py",
   "mimetype": "text/x-python",
   "name": "python",
   "nbconvert_exporter": "python",
   "pygments_lexer": "ipython3",
   "version": "3.9.9"
  }
 },
 "nbformat": 4,
 "nbformat_minor": 5
}
