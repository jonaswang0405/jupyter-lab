{
 "cells": [
  {
   "cell_type": "code",
   "execution_count": 1,
   "id": "eb4fd633-7be1-40fc-8295-8866daa274f3",
   "metadata": {},
   "outputs": [],
   "source": [
    "import glob\n",
    "import numpy as np\n",
    "import torch\n",
    "from xml.etree import ElementTree as et\n",
    "import cv2 as cv\n",
    "boxes=[]\n",
    "labels=[]\n"
   ]
  },
  {
   "cell_type": "code",
   "execution_count": 2,
   "id": "759e3245-ee6b-4248-b7f1-62ffea0e1627",
   "metadata": {},
   "outputs": [
    {
     "name": "stdout",
     "output_type": "stream",
     "text": [
      "['D:\\\\pytorch\\\\pytorch_data\\\\new_objcet_detection\\\\20211025_Custom_Object_Detection_using_PyTorch_Faster_RCNN\\\\20211025_Custom_Object_Detection_using_PyTorch_Faster_RCNN\\\\Microcontroller Detection\\\\train\\\\IMG_20181228_101826.jpg', 'D:\\\\pytorch\\\\pytorch_data\\\\new_objcet_detection\\\\20211025_Custom_Object_Detection_using_PyTorch_Faster_RCNN\\\\20211025_Custom_Object_Detection_using_PyTorch_Faster_RCNN\\\\Microcontroller Detection\\\\train\\\\IMG_20181228_101855.jpg', 'D:\\\\pytorch\\\\pytorch_data\\\\new_objcet_detection\\\\20211025_Custom_Object_Detection_using_PyTorch_Faster_RCNN\\\\20211025_Custom_Object_Detection_using_PyTorch_Faster_RCNN\\\\Microcontroller Detection\\\\train\\\\IMG_20181228_101903.jpg', 'D:\\\\pytorch\\\\pytorch_data\\\\new_objcet_detection\\\\20211025_Custom_Object_Detection_using_PyTorch_Faster_RCNN\\\\20211025_Custom_Object_Detection_using_PyTorch_Faster_RCNN\\\\Microcontroller Detection\\\\train\\\\IMG_20181228_101915.jpg']\n",
      "file: D:\\pytorch\\pytorch_data\\new_objcet_detection\\20211025_Custom_Object_Detection_using_PyTorch_Faster_RCNN\\20211025_Custom_Object_Detection_using_PyTorch_Faster_RCNN\\Microcontroller Detection\\train\\IMG_20181228_101826.xml\n"
     ]
    }
   ],
   "source": [
    "images_path=glob.glob(r'D:\\pytorch\\pytorch_data\\new_objcet_detection\\20211025_Custom_Object_Detection_using_PyTorch_Faster_RCNN\\20211025_Custom_Object_Detection_using_PyTorch_Faster_RCNN\\Microcontroller Detection\\train\\*.jpg')\n",
    "file=images_path[0][:-4]+'.xml'\n",
    "print(images_path[:4])\n",
    "print('file:',file)"
   ]
  },
  {
   "cell_type": "code",
   "execution_count": 3,
   "id": "5f06550c-190e-482a-9c7d-c6cc62b1bb9f",
   "metadata": {},
   "outputs": [],
   "source": [
    "image=cv.imread(images_path[0])\n",
    "image=cv.cvtColor(image,cv.COLOR_BGR2RGB).astype(np.float32)\n",
    "image_resized=cv.resize(image,(300,300))\n",
    "image_resized /=255.0\n",
    "image_width=image.shape[1]\n",
    "image_height=image.shape[0]\n",
    "tree=et.parse(file)"
   ]
  },
  {
   "cell_type": "code",
   "execution_count": 4,
   "id": "621ed199-374f-4d59-83f7-ef91df8828c5",
   "metadata": {},
   "outputs": [],
   "source": [
    "root=tree.getroot()"
   ]
  },
  {
   "cell_type": "code",
   "execution_count": 5,
   "id": "03019bca-132f-4f7e-8881-900351dd150a",
   "metadata": {},
   "outputs": [],
   "source": [
    "for member in root.findall('object'):\n",
    "    labels.append(member.find('name').text)\n",
    "    xmin=int(member.find('bndbox').find('xmin').text)\n",
    "    xmax=int(member.find('bndbox').find('xmax').text)\n",
    "    ymin=int(member.find('bndbox').find('ymin').text)\n",
    "    ymax=int(member.find('bndbox').find('ymax').text)\n",
    "    xmin_final=(xmin/image_width)*300\n",
    "    xmax_final = (xmax/image_width)*300\n",
    "    ymin_final = (ymin/image_height)*300\n",
    "    yamx_final = (ymax/image_height)*300\n",
    "    boxes.append([xmin_final, ymin_final, xmax_final, yamx_final])"
   ]
  },
  {
   "cell_type": "code",
   "execution_count": 11,
   "id": "e7acef73-6d5d-428b-8d0f-e03e98c6cf63",
   "metadata": {},
   "outputs": [],
   "source": [
    "boxes = torch.as_tensor(boxes, dtype=torch.float32)\n",
    "area = (boxes[:, 3] - boxes[:, 1]) * (boxes[:, 2] - boxes[:, 0])\n",
    "iscrowd = torch.zeros((boxes.shape[0],), dtype=torch.int64)"
   ]
  },
  {
   "cell_type": "code",
   "execution_count": 13,
   "id": "17dd9136-f32e-4c2b-b7b3-f809be29e853",
   "metadata": {},
   "outputs": [
    {
     "data": {
      "text/plain": [
       "torch.Size([1, 4])"
      ]
     },
     "execution_count": 13,
     "metadata": {},
     "output_type": "execute_result"
    }
   ],
   "source": [
    "boxes.shape"
   ]
  },
  {
   "cell_type": "code",
   "execution_count": 9,
   "id": "a6b20cf5-ca9a-4611-bb0c-1517c90b64bf",
   "metadata": {},
   "outputs": [
    {
     "data": {
      "text/plain": [
       "tensor([171.])"
      ]
     },
     "execution_count": 9,
     "metadata": {},
     "output_type": "execute_result"
    }
   ],
   "source": [
    "boxes[:,3]"
   ]
  },
  {
   "cell_type": "code",
   "execution_count": 17,
   "id": "eff09710-52f2-42c1-b219-0ddb6c3403bb",
   "metadata": {},
   "outputs": [
    {
     "data": {
      "text/plain": [
       "[0, 1, 2, 3, 4]"
      ]
     },
     "execution_count": 17,
     "metadata": {},
     "output_type": "execute_result"
    }
   ],
   "source": [
    "list(range(5))"
   ]
  },
  {
   "cell_type": "code",
   "execution_count": null,
   "id": "14d1f4f0-a855-4f2a-89d6-0481812d0833",
   "metadata": {},
   "outputs": [],
   "source": []
  }
 ],
 "metadata": {
  "kernelspec": {
   "display_name": "Python 3 (ipykernel)",
   "language": "python",
   "name": "python3"
  },
  "language_info": {
   "codemirror_mode": {
    "name": "ipython",
    "version": 3
   },
   "file_extension": ".py",
   "mimetype": "text/x-python",
   "name": "python",
   "nbconvert_exporter": "python",
   "pygments_lexer": "ipython3",
   "version": "3.9.9"
  }
 },
 "nbformat": 4,
 "nbformat_minor": 5
}
