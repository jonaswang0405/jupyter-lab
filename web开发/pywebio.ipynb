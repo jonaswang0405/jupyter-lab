{
 "cells": [
  {
   "cell_type": "code",
   "execution_count": null,
   "id": "d55ebf7c-e386-4c56-92d7-a22538cb4559",
   "metadata": {},
   "outputs": [],
   "source": [
    "pywebio模块可以快速生成web网页，不需要做框架。"
   ]
  }
 ],
 "metadata": {
  "kernelspec": {
   "display_name": "Python 3",
   "language": "python",
   "name": "python3"
  },
  "language_info": {
   "codemirror_mode": {
    "name": "ipython",
    "version": 3
   },
   "file_extension": ".py",
   "mimetype": "text/x-python",
   "name": "python",
   "nbconvert_exporter": "python",
   "pygments_lexer": "ipython3",
   "version": "3.9.5"
  }
 },
 "nbformat": 4,
 "nbformat_minor": 5
}
